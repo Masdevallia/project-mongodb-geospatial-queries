{
 "cells": [
  {
   "cell_type": "code",
   "execution_count": 1,
   "metadata": {},
   "outputs": [],
   "source": [
    "from pymongo import MongoClient\n",
    "import pandas as pd\n",
    "import numpy as np\n",
    "import folium\n",
    "import random\n",
    "from src.functions import connectCollection\n",
    "from src.functions import getCompaniesNear"
   ]
  },
  {
   "cell_type": "code",
   "execution_count": 2,
   "metadata": {},
   "outputs": [],
   "source": [
    "# {$and:[{},{}]}\n",
    "# {$and:[{$or:[{},{},{},{}]},{}]}"
   ]
  },
  {
   "cell_type": "code",
   "execution_count": 3,
   "metadata": {},
   "outputs": [],
   "source": [
    "db, coll = connectCollection('companies','companies_cleaned')"
   ]
  },
  {
   "cell_type": "code",
   "execution_count": 4,
   "metadata": {},
   "outputs": [
    {
     "data": {
      "text/plain": [
       "Database(MongoClient(host=['localhost:27017'], document_class=dict, tz_aware=False, connect=True), 'companies')"
      ]
     },
     "execution_count": 4,
     "metadata": {},
     "output_type": "execute_result"
    }
   ],
   "source": [
    "db"
   ]
  },
  {
   "cell_type": "code",
   "execution_count": 5,
   "metadata": {},
   "outputs": [
    {
     "data": {
      "text/plain": [
       "Collection(Database(MongoClient(host=['localhost:27017'], document_class=dict, tz_aware=False, connect=True), 'companies'), 'companies_cleaned')"
      ]
     },
     "execution_count": 5,
     "metadata": {},
     "output_type": "execute_result"
    }
   ],
   "source": [
    "coll"
   ]
  },
  {
   "cell_type": "code",
   "execution_count": 6,
   "metadata": {},
   "outputs": [],
   "source": [
    "companies = list(coll.find())"
   ]
  },
  {
   "cell_type": "code",
   "execution_count": 7,
   "metadata": {},
   "outputs": [
    {
     "data": {
      "text/plain": [
       "9025"
      ]
     },
     "execution_count": 7,
     "metadata": {},
     "output_type": "execute_result"
    }
   ],
   "source": [
    "len(companies) # 9025"
   ]
  },
  {
   "cell_type": "code",
   "execution_count": 8,
   "metadata": {},
   "outputs": [
    {
     "name": "stdout",
     "output_type": "stream",
     "text": [
      "{'games_video', 'semiconductor', 'other', 'local', 'advertising', 'hospitality', 'automotive', 'mobile', 'network_hosting', 'ecommerce', 'photo_video', 'transportation', 'cleantech', 'nonprofit', 'consulting', 'enterprise', 'social', 'medical', 'manufacturing', 'messaging', 'finance', 'design', 'education', 'health', 'public_relations', 'news', 'analytics', 'real_estate', None, 'hardware', 'security', 'nanotech', 'biotech', 'travel', 'sports', 'web', 'music', 'legal', 'fashion', 'software', 'search'}\n"
     ]
    }
   ],
   "source": [
    "categories = []\n",
    "for i in range(len(companies)):\n",
    "    categories.append(companies[i]['category_code'])\n",
    "print(set(categories))"
   ]
  },
  {
   "cell_type": "code",
   "execution_count": 9,
   "metadata": {},
   "outputs": [],
   "source": [
    "# Nobody in the company likes to have companies with more than 10 years in a radius of 2 KM.\n",
    "# Developers like to be near successful tech startups that have raised at least 1 Million dollars.\n",
    "# 30% of the company have at least 1 child.\n",
    "# Executives like Starbucks A LOT. Ensure there's a starbucks not to far.\n",
    "# Account managers need to travel a lot\n",
    "# All people in the company have between 25 and 40 years, give them some place to go to party.\n",
    "# The CEO is Vegan"
   ]
  },
  {
   "cell_type": "code",
   "execution_count": 10,
   "metadata": {},
   "outputs": [],
   "source": [
    "active_companies = list(coll.find({'deadpooled_year': np.nan}))"
   ]
  },
  {
   "cell_type": "code",
   "execution_count": 11,
   "metadata": {},
   "outputs": [
    {
     "data": {
      "text/plain": [
       "8406"
      ]
     },
     "execution_count": 11,
     "metadata": {},
     "output_type": "execute_result"
    }
   ],
   "source": [
    "len(active_companies) # 8406"
   ]
  },
  {
   "cell_type": "code",
   "execution_count": 139,
   "metadata": {},
   "outputs": [],
   "source": [
    "# Nobody in the company likes to have companies with more than 10 years in a radius of 2 KM.\n",
    "\n",
    "# {$and:[{deadpooled_year: NaN},{founded_year:{$lte:2009}}]}\n",
    "\n",
    "# old_companies = list(coll.find({'$and':[{'deadpooled_year': np.nan},{'founded_year':{'$lte':2009}}]}))\n",
    "\n",
    "# 13 years\n",
    "old_companies = list(coll.find({'$and':[{'deadpooled_year': np.nan},{'founded_year':{'$lte':2016}}]}))\n",
    "\n",
    "# not near"
   ]
  },
  {
   "cell_type": "code",
   "execution_count": 202,
   "metadata": {},
   "outputs": [],
   "source": [
    "years= 13\n",
    "old_companies = list(coll.find({'$and':[{'deadpooled_year': np.nan},{'founded_year':{'$lte':2019-years}}]}))"
   ]
  },
  {
   "cell_type": "code",
   "execution_count": 203,
   "metadata": {},
   "outputs": [
    {
     "data": {
      "text/plain": [
       "4082"
      ]
     },
     "execution_count": 203,
     "metadata": {},
     "output_type": "execute_result"
    }
   ],
   "source": [
    "len(old_companies) # 6840"
   ]
  },
  {
   "cell_type": "code",
   "execution_count": 94,
   "metadata": {},
   "outputs": [],
   "source": [
    "# Developers like to be near successful tech startups that have raised at least 1 Million dollars.\n",
    "\n",
    "# {$and:[{$or:[{category_code:'hardware'},{category_code:'nanotech'},{category_code:'mobile'},\n",
    "# {category_code:'games_video'},{category_code:'cleantech'},{category_code:'software'},{category_code:'analytics'},\n",
    "# {category_code:'web'},{category_code:'biotech'}]},{deadpooled_year: NaN},{founded_year:{$gte:2010}},\n",
    "# {total_money_raised_USD:{$gte:1000000}}]}\n",
    "\n",
    "# http://www.startup-book.com/2016/05/22/when-was-the-word-start-up-first-used/\n",
    "\n",
    "successful_tech_startups = list(coll.find({'$and':[{'$or':[\n",
    "        {'category_code':'semiconductor'},{'category_code':'network_hosting'},{'category_code':'ecommerce'},\n",
    "        {'category_code':'photo_video'},{'category_code':'consulting'},{'category_code':'design'},\n",
    "        {'category_code':'automotive'},{'category_code':'hardware'},{'category_code':'nanotech'},\n",
    "        {'category_code':'mobile'},{'category_code':'security'},{'category_code':'games_video'},\n",
    "        {'category_code':'cleantech'},{'category_code':'software'},{'category_code':'analytics'},\n",
    "        {'category_code':'web'},{'category_code':'biotech'}]},\n",
    "    {'deadpooled_year': np.nan},{'founded_year':{'$gte':1976}},{'total_money_raised_USD':{'$gte':1000000}}]}))\n"
   ]
  },
  {
   "cell_type": "code",
   "execution_count": 95,
   "metadata": {},
   "outputs": [
    {
     "name": "stdout",
     "output_type": "stream",
     "text": [
      "1366\n"
     ]
    }
   ],
   "source": [
    "print(len(successful_tech_startups))"
   ]
  },
  {
   "cell_type": "code",
   "execution_count": 16,
   "metadata": {},
   "outputs": [],
   "source": [
    "# Designers like to go to design talks and share knowledge. There must be some nearby companies that also do design.\n",
    "design_companies = list(coll.find({'category_code':'design'}))"
   ]
  },
  {
   "cell_type": "code",
   "execution_count": 17,
   "metadata": {},
   "outputs": [
    {
     "name": "stdout",
     "output_type": "stream",
     "text": [
      "2\n"
     ]
    }
   ],
   "source": [
    "print(len(design_companies))"
   ]
  },
  {
   "cell_type": "code",
   "execution_count": null,
   "metadata": {},
   "outputs": [],
   "source": [
    "# https://stackoverflow.com/questions/19412462/getting-distance-between-two-points-based-on-latitude-longitude/43211266#43211266\n",
    "# import geopy.distance\n",
    "# coords_1 = (52.2296756, 21.0122287)\n",
    "# coords_2 = (52.406374, 16.9251681)\n",
    "# print geopy.distance.vincenty(coords_1, coords_2).km"
   ]
  },
  {
   "cell_type": "code",
   "execution_count": 96,
   "metadata": {},
   "outputs": [],
   "source": [
    "# Developers like to be near successful tech startups that have raised at least 1 Million dollars.\n",
    "possible_offices_criterion_1 = []\n",
    "for e in successful_tech_startups:\n",
    "    near_companies = getCompaniesNear(e['office_1_location']['coordinates'][0],\n",
    "                                      e['office_1_location']['coordinates'][1],2000)\n",
    "    # [near_companies[i] for i in range(len(near_companies)) if near_companies[i]['name'] == e['name']]\n",
    "    # [near_companies[i] for i in range(len(near_companies)) if near_companies[i]['name'] != e['name']]\n",
    "    for f in near_companies:\n",
    "        if f['_id'] != e['name']:\n",
    "            possible_offices_criterion_1.append(f['_id'])"
   ]
  },
  {
   "cell_type": "code",
   "execution_count": 97,
   "metadata": {},
   "outputs": [
    {
     "name": "stdout",
     "output_type": "stream",
     "text": [
      "5103\n"
     ]
    }
   ],
   "source": [
    "print(len(list(set(possible_offices_criterion_1)))) # 5103 oficinas tienen cerca una startup"
   ]
  },
  {
   "cell_type": "code",
   "execution_count": 98,
   "metadata": {},
   "outputs": [],
   "source": [
    "possible_offices_c1 = list(set(possible_offices_criterion_1))"
   ]
  },
  {
   "cell_type": "code",
   "execution_count": 141,
   "metadata": {},
   "outputs": [],
   "source": [
    "# Nobody in the company likes to have companies with more than 10 years in a radius of 2 KM.\n",
    "\n",
    "not_possible_offices_criterion_2 = []\n",
    "for e in old_companies:\n",
    "    near_companies = getCompaniesNear(e['office_1_location']['coordinates'][0],\n",
    "                                      e['office_1_location']['coordinates'][1],2000)\n",
    "    for f in near_companies:\n",
    "        if f['_id'] != e['name']:\n",
    "            not_possible_offices_criterion_2.append(f['_id'])"
   ]
  },
  {
   "cell_type": "code",
   "execution_count": 142,
   "metadata": {},
   "outputs": [
    {
     "name": "stdout",
     "output_type": "stream",
     "text": [
      "7358\n"
     ]
    }
   ],
   "source": [
    "print(len(list(set(not_possible_offices_criterion_2)))) # 8476/7358 oficinas tienen cerca una compañía antigua: 10/13 años"
   ]
  },
  {
   "cell_type": "code",
   "execution_count": 143,
   "metadata": {},
   "outputs": [],
   "source": [
    "not_possible_offices_c2 = list(set(not_possible_offices_criterion_2))"
   ]
  },
  {
   "cell_type": "code",
   "execution_count": 181,
   "metadata": {},
   "outputs": [],
   "source": [
    "possible_offices_c1_c2 = []\n",
    "for e in possible_offices_c1:\n",
    "    if e not in not_possible_offices_c2:\n",
    "        possible_offices_c1_c2.append(e)        \n",
    "possible_offices_c1_c2_to_string = [str(e) for e in possible_offices_c1_c2]"
   ]
  },
  {
   "cell_type": "code",
   "execution_count": 182,
   "metadata": {},
   "outputs": [
    {
     "name": "stdout",
     "output_type": "stream",
     "text": [
      "93\n",
      "93\n"
     ]
    }
   ],
   "source": [
    "print(len(possible_offices_c1_c2))\n",
    "print(len(possible_offices_c1_c2_to_string))"
   ]
  },
  {
   "cell_type": "code",
   "execution_count": null,
   "metadata": {},
   "outputs": [],
   "source": [
    "df = pd.read_csv('./input/companies_df.csv')\n",
    "\n",
    "cols = ['_id', 'name', 'founded_year', 'category_code','deadpooled_year', 'total_money_raised_USD', 'num_offices',\n",
    " 'office_1_longitude','office_1_latitude', 'office_1_location', 'office_1_city','office_1_state_code',\n",
    " 'office_1_country_code']\n",
    "df = df[cols]"
   ]
  },
  {
   "cell_type": "code",
   "execution_count": 185,
   "metadata": {},
   "outputs": [
    {
     "name": "stdout",
     "output_type": "stream",
     "text": [
      "93\n",
      "[454, 478, 669, 736, 755, 952, 1376, 1377, 1519, 1624, 1696, 1766, 1920, 2084, 2143, 2161, 2613, 2670, 2695, 2697, 2823, 2878, 2880, 3028, 3133, 3232, 3258, 3590, 3673, 3677, 3753, 3794, 3974, 3991, 4146, 4186, 4367, 4384, 4487, 4544, 4632, 4858, 4885, 4900, 4956, 5017, 5158, 5231, 5241, 5374, 5593, 5837, 5874, 5949, 6195, 6338, 6413, 6671, 6940, 6968, 6999, 7024, 7042, 7255, 7386, 7395, 7468, 7610, 7668, 7812, 7877, 7904, 7920, 7928, 8000, 8060, 8081, 8110, 8190, 8218, 8263, 8285, 8308, 8408, 8445, 8590, 8591, 8620, 8675, 8745, 8762, 8792, 8892]\n"
     ]
    }
   ],
   "source": [
    "indexs = []\n",
    "for i in range(len(df)):\n",
    "    if df['_id'][i] in possible_offices_c1_c2_to_string:\n",
    "        indexs.append(i)\n",
    "print(len(indexs))\n",
    "print(indexs)"
   ]
  },
  {
   "cell_type": "code",
   "execution_count": 186,
   "metadata": {},
   "outputs": [],
   "source": [
    "df_filtered = df.iloc[indexs]"
   ]
  },
  {
   "cell_type": "code",
   "execution_count": 187,
   "metadata": {},
   "outputs": [
    {
     "data": {
      "text/html": [
       "<div>\n",
       "<style scoped>\n",
       "    .dataframe tbody tr th:only-of-type {\n",
       "        vertical-align: middle;\n",
       "    }\n",
       "\n",
       "    .dataframe tbody tr th {\n",
       "        vertical-align: top;\n",
       "    }\n",
       "\n",
       "    .dataframe thead th {\n",
       "        text-align: right;\n",
       "    }\n",
       "</style>\n",
       "<table border=\"1\" class=\"dataframe\">\n",
       "  <thead>\n",
       "    <tr style=\"text-align: right;\">\n",
       "      <th></th>\n",
       "      <th>_id</th>\n",
       "      <th>name</th>\n",
       "      <th>founded_year</th>\n",
       "      <th>category_code</th>\n",
       "      <th>deadpooled_year</th>\n",
       "      <th>total_money_raised_USD</th>\n",
       "      <th>num_offices</th>\n",
       "      <th>office_1_longitude</th>\n",
       "      <th>office_1_latitude</th>\n",
       "      <th>office_1_location</th>\n",
       "      <th>office_1_city</th>\n",
       "      <th>office_1_state_code</th>\n",
       "      <th>office_1_country_code</th>\n",
       "    </tr>\n",
       "  </thead>\n",
       "  <tbody>\n",
       "    <tr>\n",
       "      <th>454</th>\n",
       "      <td>52cdef7c4bab8bd675297f9e</td>\n",
       "      <td>GENWI</td>\n",
       "      <td>2010.0</td>\n",
       "      <td>mobile</td>\n",
       "      <td>NaN</td>\n",
       "      <td>7100000.0</td>\n",
       "      <td>1</td>\n",
       "      <td>-111.903500</td>\n",
       "      <td>33.817100</td>\n",
       "      <td>{'type': 'Point', 'coordinates': [-111.9035, 3...</td>\n",
       "      <td>Los Altos</td>\n",
       "      <td>CA</td>\n",
       "      <td>USA</td>\n",
       "    </tr>\n",
       "    <tr>\n",
       "      <th>478</th>\n",
       "      <td>52cdef7c4bab8bd675297fc4</td>\n",
       "      <td>ChessPark</td>\n",
       "      <td>2007.0</td>\n",
       "      <td>games_video</td>\n",
       "      <td>NaN</td>\n",
       "      <td>1000000.0</td>\n",
       "      <td>1</td>\n",
       "      <td>-83.913153</td>\n",
       "      <td>43.670840</td>\n",
       "      <td>{'type': 'Point', 'coordinates': [-83.913153, ...</td>\n",
       "      <td>West Palm Beach</td>\n",
       "      <td>CA</td>\n",
       "      <td>USA</td>\n",
       "    </tr>\n",
       "    <tr>\n",
       "      <th>669</th>\n",
       "      <td>52cdef7c4bab8bd6752980be</td>\n",
       "      <td>Cyberhomes</td>\n",
       "      <td>NaN</td>\n",
       "      <td>web</td>\n",
       "      <td>NaN</td>\n",
       "      <td>0.0</td>\n",
       "      <td>1</td>\n",
       "      <td>-81.674745</td>\n",
       "      <td>30.318112</td>\n",
       "      <td>{'type': 'Point', 'coordinates': [-81.674745, ...</td>\n",
       "      <td>Jacksonville</td>\n",
       "      <td>FL</td>\n",
       "      <td>USA</td>\n",
       "    </tr>\n",
       "    <tr>\n",
       "      <th>736</th>\n",
       "      <td>52cdef7c4bab8bd67529811d</td>\n",
       "      <td>RedLasso</td>\n",
       "      <td>NaN</td>\n",
       "      <td>games_video</td>\n",
       "      <td>NaN</td>\n",
       "      <td>8500000.0</td>\n",
       "      <td>1</td>\n",
       "      <td>-75.395990</td>\n",
       "      <td>40.099703</td>\n",
       "      <td>{'type': 'Point', 'coordinates': [-75.39599, 4...</td>\n",
       "      <td>King of Prussia</td>\n",
       "      <td>PA</td>\n",
       "      <td>USA</td>\n",
       "    </tr>\n",
       "    <tr>\n",
       "      <th>755</th>\n",
       "      <td>52cdef7c4bab8bd675298139</td>\n",
       "      <td>divorce360</td>\n",
       "      <td>2007.0</td>\n",
       "      <td>web</td>\n",
       "      <td>NaN</td>\n",
       "      <td>2500000.0</td>\n",
       "      <td>1</td>\n",
       "      <td>-80.058401</td>\n",
       "      <td>26.820375</td>\n",
       "      <td>{'type': 'Point', 'coordinates': [-80.058401, ...</td>\n",
       "      <td>North Palm Beach</td>\n",
       "      <td>FL</td>\n",
       "      <td>USA</td>\n",
       "    </tr>\n",
       "  </tbody>\n",
       "</table>\n",
       "</div>"
      ],
      "text/plain": [
       "                          _id        name  founded_year category_code  \\\n",
       "454  52cdef7c4bab8bd675297f9e       GENWI        2010.0        mobile   \n",
       "478  52cdef7c4bab8bd675297fc4   ChessPark        2007.0   games_video   \n",
       "669  52cdef7c4bab8bd6752980be  Cyberhomes           NaN           web   \n",
       "736  52cdef7c4bab8bd67529811d    RedLasso           NaN   games_video   \n",
       "755  52cdef7c4bab8bd675298139  divorce360        2007.0           web   \n",
       "\n",
       "     deadpooled_year  total_money_raised_USD  num_offices  office_1_longitude  \\\n",
       "454              NaN               7100000.0            1         -111.903500   \n",
       "478              NaN               1000000.0            1          -83.913153   \n",
       "669              NaN                     0.0            1          -81.674745   \n",
       "736              NaN               8500000.0            1          -75.395990   \n",
       "755              NaN               2500000.0            1          -80.058401   \n",
       "\n",
       "     office_1_latitude                                  office_1_location  \\\n",
       "454          33.817100  {'type': 'Point', 'coordinates': [-111.9035, 3...   \n",
       "478          43.670840  {'type': 'Point', 'coordinates': [-83.913153, ...   \n",
       "669          30.318112  {'type': 'Point', 'coordinates': [-81.674745, ...   \n",
       "736          40.099703  {'type': 'Point', 'coordinates': [-75.39599, 4...   \n",
       "755          26.820375  {'type': 'Point', 'coordinates': [-80.058401, ...   \n",
       "\n",
       "        office_1_city office_1_state_code office_1_country_code  \n",
       "454         Los Altos                  CA                   USA  \n",
       "478   West Palm Beach                  CA                   USA  \n",
       "669      Jacksonville                  FL                   USA  \n",
       "736   King of Prussia                  PA                   USA  \n",
       "755  North Palm Beach                  FL                   USA  "
      ]
     },
     "execution_count": 187,
     "metadata": {},
     "output_type": "execute_result"
    }
   ],
   "source": [
    "df_filtered.head()"
   ]
  },
  {
   "cell_type": "code",
   "execution_count": 188,
   "metadata": {},
   "outputs": [],
   "source": [
    "possible_offices_c1_c2_coords = []\n",
    "for e in companies:\n",
    "    for f in possible_offices_c1_c2:\n",
    "        if e['_id'] == f:\n",
    "            possible_offices_c1_c2_coords.append(e['office_1_location'])"
   ]
  },
  {
   "cell_type": "code",
   "execution_count": 189,
   "metadata": {},
   "outputs": [
    {
     "name": "stdout",
     "output_type": "stream",
     "text": [
      "93\n"
     ]
    }
   ],
   "source": [
    "print(len(possible_offices_c1_c2_coords))"
   ]
  },
  {
   "cell_type": "code",
   "execution_count": 138,
   "metadata": {},
   "outputs": [],
   "source": [
    "# for e in possible_offices_c1_c2_coords:\n",
    "    # print(e['coordinates'][::-1])"
   ]
  },
  {
   "cell_type": "code",
   "execution_count": 201,
   "metadata": {},
   "outputs": [
    {
     "data": {
      "text/html": [
       "<div style=\"width:100%;\"><div style=\"position:relative;width:100%;height:0;padding-bottom:60%;\"><iframe src=\"data:text/html;charset=utf-8;base64,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\" style=\"position:absolute;width:100%;height:100%;left:0;top:0;border:none !important;\" allowfullscreen webkitallowfullscreen mozallowfullscreen></iframe></div></div>"
      ],
      "text/plain": [
       "<folium.folium.Map at 0x21289cedfd0>"
      ]
     },
     "execution_count": 201,
     "metadata": {},
     "output_type": "execute_result"
    }
   ],
   "source": [
    "# map_city = folium.Map(location=[40.7221,-73.9712], zoom_start=12)\n",
    "# for company in manhattan_companies:\n",
    "    # folium.Marker(company['office_1_location']['coordinates'][::-1],radius=2,\n",
    "                  # icon=folium.Icon(icon='cloud',color='red')).add_to(map_city)\n",
    "# map_city\n",
    "\n",
    "tooltip = 'Click me!'\n",
    "e = possible_offices_c1_c2_coords[random.choice(range(0,len(possible_offices_c1_c2_coords)))]\n",
    "map_city = folium.Map(location = e['coordinates'][::-1], zoom_start=13)\n",
    "folium.Circle(radius=2000,location=e['coordinates'][::-1],popup='Old companies free zone',color='#3186cc',\n",
    "    fill=True,fill_color='#3186cc').add_to(map_city)\n",
    "folium.Marker(e['coordinates'][::-1],radius=2,icon=folium.Icon(\n",
    "    icon='briefcase',color='red'),popup='<b>Perfect location for your business</b>',\n",
    "    tooltip=tooltip).add_to(map_city)\n",
    "map_city\n",
    "# map_city.save('index.html')"
   ]
  },
  {
   "cell_type": "code",
   "execution_count": null,
   "metadata": {},
   "outputs": [],
   "source": []
  }
 ],
 "metadata": {
  "kernelspec": {
   "display_name": "Python 3",
   "language": "python",
   "name": "python3"
  },
  "language_info": {
   "codemirror_mode": {
    "name": "ipython",
    "version": 3
   },
   "file_extension": ".py",
   "mimetype": "text/x-python",
   "name": "python",
   "nbconvert_exporter": "python",
   "pygments_lexer": "ipython3",
   "version": "3.7.3"
  }
 },
 "nbformat": 4,
 "nbformat_minor": 2
}
