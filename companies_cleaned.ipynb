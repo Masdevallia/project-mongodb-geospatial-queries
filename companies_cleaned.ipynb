{
 "cells": [
  {
   "cell_type": "code",
   "execution_count": 258,
   "metadata": {},
   "outputs": [],
   "source": [
    "from pymongo import MongoClient\n",
    "import pandas as pd\n",
    "import numpy as np\n",
    "import folium\n",
    "import random\n",
    "import fontawesome as fa\n",
    "from src.api import *\n",
    "from src.clean import *\n",
    "from src.mongodb import *"
   ]
  },
  {
   "cell_type": "code",
   "execution_count": 2,
   "metadata": {},
   "outputs": [],
   "source": [
    "# {$and:[{},{}]}\n",
    "# {$and:[{$or:[{},{},{},{}]},{}]}"
   ]
  },
  {
   "cell_type": "code",
   "execution_count": 3,
   "metadata": {},
   "outputs": [],
   "source": [
    "db, coll = connectCollection('companies','companies_cleaned')"
   ]
  },
  {
   "cell_type": "code",
   "execution_count": 4,
   "metadata": {},
   "outputs": [
    {
     "data": {
      "text/plain": [
       "Database(MongoClient(host=['localhost:27017'], document_class=dict, tz_aware=False, connect=True), 'companies')"
      ]
     },
     "execution_count": 4,
     "metadata": {},
     "output_type": "execute_result"
    }
   ],
   "source": [
    "db"
   ]
  },
  {
   "cell_type": "code",
   "execution_count": 5,
   "metadata": {},
   "outputs": [
    {
     "data": {
      "text/plain": [
       "Collection(Database(MongoClient(host=['localhost:27017'], document_class=dict, tz_aware=False, connect=True), 'companies'), 'companies_cleaned')"
      ]
     },
     "execution_count": 5,
     "metadata": {},
     "output_type": "execute_result"
    }
   ],
   "source": [
    "coll"
   ]
  },
  {
   "cell_type": "code",
   "execution_count": 6,
   "metadata": {},
   "outputs": [],
   "source": [
    "companies = list(coll.find())"
   ]
  },
  {
   "cell_type": "code",
   "execution_count": 7,
   "metadata": {},
   "outputs": [
    {
     "data": {
      "text/plain": [
       "9025"
      ]
     },
     "execution_count": 7,
     "metadata": {},
     "output_type": "execute_result"
    }
   ],
   "source": [
    "len(companies) # 9025"
   ]
  },
  {
   "cell_type": "code",
   "execution_count": 8,
   "metadata": {},
   "outputs": [
    {
     "name": "stdout",
     "output_type": "stream",
     "text": [
      "{'messaging', 'consulting', 'finance', 'hardware', 'manufacturing', 'cleantech', 'news', 'network_hosting', 'analytics', 'other', 'health', 'real_estate', 'security', 'transportation', 'music', 'advertising', 'design', 'games_video', 'semiconductor', 'fashion', 'education', None, 'software', 'biotech', 'local', 'search', 'automotive', 'sports', 'photo_video', 'mobile', 'web', 'social', 'nonprofit', 'nanotech', 'travel', 'hospitality', 'legal', 'enterprise', 'public_relations', 'medical', 'ecommerce'}\n"
     ]
    }
   ],
   "source": [
    "categories = []\n",
    "for i in range(len(companies)):\n",
    "    categories.append(companies[i]['category_code'])\n",
    "print(set(categories))"
   ]
  },
  {
   "cell_type": "code",
   "execution_count": 9,
   "metadata": {},
   "outputs": [],
   "source": [
    "# Nobody in the company likes to have companies with more than 10 years in a radius of 2 KM.\n",
    "# Developers like to be near successful tech startups that have raised at least 1 Million dollars.\n",
    "# Executives like Starbucks A LOT. Ensure there's a starbucks not to far.\n",
    "# The CEO is Vegan\n",
    "# All people in the company have between 25 and 40 years, give them some place to go to party.\n",
    "# Account managers need to travel a lot\n",
    "# 30% of the company have at least 1 child.\n",
    "# Designers like to go to design talks and share knowledge. There must be some nearby companies that also do design."
   ]
  },
  {
   "cell_type": "code",
   "execution_count": 10,
   "metadata": {},
   "outputs": [],
   "source": [
    "# active_companies = list(coll.find({'deadpooled_year': np.nan}))"
   ]
  },
  {
   "cell_type": "code",
   "execution_count": 11,
   "metadata": {},
   "outputs": [],
   "source": [
    "# len(active_companies) # 8406"
   ]
  },
  {
   "cell_type": "code",
   "execution_count": 12,
   "metadata": {},
   "outputs": [],
   "source": [
    "# Nobody in the company likes to have companies with more than (10) years in a radius of 2 KM.\n",
    "# {$and:[{deadpooled_year: NaN},{founded_year:{$lte:2009}}]}\n",
    "\n",
    "# old_companies = list(coll.find({'$and':[{'deadpooled_year': np.nan},{'founded_year':{'$lte':2009}}]}))"
   ]
  },
  {
   "cell_type": "code",
   "execution_count": 13,
   "metadata": {},
   "outputs": [],
   "source": [
    "years= 13\n",
    "old_companies = list(coll.find({'$and':[{'deadpooled_year': np.nan},{'founded_year':{'$lte':2019-years}}]}))"
   ]
  },
  {
   "cell_type": "code",
   "execution_count": 14,
   "metadata": {},
   "outputs": [
    {
     "data": {
      "text/plain": [
       "4082"
      ]
     },
     "execution_count": 14,
     "metadata": {},
     "output_type": "execute_result"
    }
   ],
   "source": [
    "len(old_companies)"
   ]
  },
  {
   "cell_type": "code",
   "execution_count": 15,
   "metadata": {},
   "outputs": [],
   "source": [
    "# Developers like to be near successful tech startups that have raised at least 1 Million dollars.\n",
    "\n",
    "# {$and:[{$or:[{category_code:'hardware'},{category_code:'nanotech'},{category_code:'mobile'},\n",
    "# {category_code:'games_video'},{category_code:'cleantech'},{category_code:'software'},{category_code:'analytics'},\n",
    "# {category_code:'web'},{category_code:'biotech'}]},{deadpooled_year: NaN},{founded_year:{$gte:2010}},\n",
    "# {total_money_raised_USD:{$gte:1000000}}]}\n",
    "\n",
    "# http://www.startup-book.com/2016/05/22/when-was-the-word-start-up-first-used/\n",
    "\n",
    "successful_tech_startups = list(coll.find({'$and':[{'$or':[\n",
    "        {'category_code':'semiconductor'},{'category_code':'network_hosting'},{'category_code':'consulting'},\n",
    "        {'category_code':'design'},{'category_code':'hardware'},{'category_code':'nanotech'},\n",
    "        {'category_code':'mobile'},{'category_code':'games_video'},{'category_code':'cleantech'},\n",
    "        {'category_code':'software'},{'category_code':'analytics'},{'category_code':'web'},\n",
    "        {'category_code':'biotech'}]},\n",
    "    {'deadpooled_year': np.nan},{'founded_year':{'$gte':1999}},{'total_money_raised_USD':{'$gte':1000000}}]}))\n",
    "\n",
    "# {'category_code':'ecommerce'},{'category_code':'photo_video'},{'category_code':'automotive'},{'category_code':'security'},\n"
   ]
  },
  {
   "cell_type": "code",
   "execution_count": 16,
   "metadata": {},
   "outputs": [
    {
     "name": "stdout",
     "output_type": "stream",
     "text": [
      "1119\n"
     ]
    }
   ],
   "source": [
    "print(len(successful_tech_startups))"
   ]
  },
  {
   "cell_type": "code",
   "execution_count": 17,
   "metadata": {},
   "outputs": [],
   "source": [
    "# Designers like to go to design talks and share knowledge. There must be some nearby companies that also do design.\n",
    "# design_companies = list(coll.find({'category_code':'design'}))"
   ]
  },
  {
   "cell_type": "code",
   "execution_count": 18,
   "metadata": {},
   "outputs": [],
   "source": [
    "# print(len(design_companies))"
   ]
  },
  {
   "cell_type": "code",
   "execution_count": 19,
   "metadata": {},
   "outputs": [],
   "source": [
    "# https://stackoverflow.com/questions/19412462/getting-distance-between-two-points-based-on-latitude-longitude/43211266#43211266\n",
    "# import geopy.distance\n",
    "# coords_1 = (52.2296756, 21.0122287)\n",
    "# coords_2 = (52.406374, 16.9251681)\n",
    "# print geopy.distance.vincenty(coords_1, coords_2).km"
   ]
  },
  {
   "cell_type": "code",
   "execution_count": 20,
   "metadata": {},
   "outputs": [],
   "source": [
    "# Developers like to be near successful tech startups that have raised at least 1 Million dollars.\n",
    "possible_offices_criterion_1 = []\n",
    "for e in successful_tech_startups:\n",
    "    near_companies = getCompaniesNear(e['office_1_location']['coordinates'][0],\n",
    "                                      e['office_1_location']['coordinates'][1],2000)\n",
    "    # [near_companies[i] for i in range(len(near_companies)) if near_companies[i]['name'] == e['name']]\n",
    "    # [near_companies[i] for i in range(len(near_companies)) if near_companies[i]['name'] != e['name']]\n",
    "    for f in near_companies:\n",
    "        if f['_id'] != e['name']:\n",
    "            possible_offices_criterion_1.append(f['_id'])"
   ]
  },
  {
   "cell_type": "code",
   "execution_count": 21,
   "metadata": {},
   "outputs": [
    {
     "name": "stdout",
     "output_type": "stream",
     "text": [
      "4798\n"
     ]
    }
   ],
   "source": [
    "print(len(list(set(possible_offices_criterion_1)))) # 5103 oficinas tienen cerca una startup"
   ]
  },
  {
   "cell_type": "code",
   "execution_count": 22,
   "metadata": {},
   "outputs": [],
   "source": [
    "possible_offices_c1 = list(set(possible_offices_criterion_1))"
   ]
  },
  {
   "cell_type": "code",
   "execution_count": 23,
   "metadata": {},
   "outputs": [],
   "source": [
    "# Nobody in the company likes to have companies with more than 10 years in a radius of 2 KM.\n",
    "\n",
    "not_possible_offices_criterion_2 = []\n",
    "for e in old_companies:\n",
    "    near_companies = getCompaniesNear(e['office_1_location']['coordinates'][0],\n",
    "                                      e['office_1_location']['coordinates'][1],2000)\n",
    "    for f in near_companies:\n",
    "        if f['_id'] != e['name']:\n",
    "            not_possible_offices_criterion_2.append(f['_id'])"
   ]
  },
  {
   "cell_type": "code",
   "execution_count": 24,
   "metadata": {},
   "outputs": [
    {
     "name": "stdout",
     "output_type": "stream",
     "text": [
      "7358\n"
     ]
    }
   ],
   "source": [
    "print(len(list(set(not_possible_offices_criterion_2)))) # 8476/7358 oficinas tienen cerca una compañía antigua: 10/13 años"
   ]
  },
  {
   "cell_type": "code",
   "execution_count": 25,
   "metadata": {},
   "outputs": [],
   "source": [
    "not_possible_offices_c2 = list(set(not_possible_offices_criterion_2))"
   ]
  },
  {
   "cell_type": "code",
   "execution_count": 26,
   "metadata": {},
   "outputs": [],
   "source": [
    "possible_offices_c1_c2 = []\n",
    "for e in possible_offices_c1:\n",
    "    if e not in not_possible_offices_c2:\n",
    "        possible_offices_c1_c2.append(e)        \n",
    "possible_offices_c1_c2_to_string = [str(e) for e in possible_offices_c1_c2]"
   ]
  },
  {
   "cell_type": "code",
   "execution_count": 27,
   "metadata": {},
   "outputs": [
    {
     "name": "stdout",
     "output_type": "stream",
     "text": [
      "85\n",
      "85\n"
     ]
    }
   ],
   "source": [
    "print(len(possible_offices_c1_c2))\n",
    "print(len(possible_offices_c1_c2_to_string))"
   ]
  },
  {
   "cell_type": "code",
   "execution_count": 30,
   "metadata": {},
   "outputs": [
    {
     "data": {
      "text/plain": [
       "_id                        object\n",
       "name                       object\n",
       "founded_year              float64\n",
       "category_code              object\n",
       "deadpooled_year           float64\n",
       "total_money_raised_USD    float64\n",
       "num_offices                 int64\n",
       "office_1_longitude        float64\n",
       "office_1_latitude         float64\n",
       "office_1_location          object\n",
       "office_1_city              object\n",
       "office_1_state_code        object\n",
       "office_1_country_code      object\n",
       "dtype: object"
      ]
     },
     "execution_count": 30,
     "metadata": {},
     "output_type": "execute_result"
    }
   ],
   "source": [
    "df = pd.read_csv('./input/companies_df.csv', low_memory=False)\n",
    "cols = ['_id', 'name', 'founded_year', 'category_code','deadpooled_year', 'total_money_raised_USD', 'num_offices',\n",
    " 'office_1_longitude','office_1_latitude', 'office_1_location', 'office_1_city','office_1_state_code',\n",
    " 'office_1_country_code']\n",
    "df = df[cols]\n",
    "df.dtypes"
   ]
  },
  {
   "cell_type": "code",
   "execution_count": 31,
   "metadata": {},
   "outputs": [
    {
     "name": "stdout",
     "output_type": "stream",
     "text": [
      "85\n"
     ]
    }
   ],
   "source": [
    "indexs = []\n",
    "for i in range(len(df)):\n",
    "    if df['_id'][i] in possible_offices_c1_c2_to_string:\n",
    "        indexs.append(i)\n",
    "print(len(indexs))\n",
    "# print(indexs)"
   ]
  },
  {
   "cell_type": "code",
   "execution_count": 32,
   "metadata": {},
   "outputs": [],
   "source": [
    "df_filtered = df.iloc[indexs]"
   ]
  },
  {
   "cell_type": "code",
   "execution_count": 33,
   "metadata": {},
   "outputs": [
    {
     "data": {
      "text/html": [
       "<div>\n",
       "<style scoped>\n",
       "    .dataframe tbody tr th:only-of-type {\n",
       "        vertical-align: middle;\n",
       "    }\n",
       "\n",
       "    .dataframe tbody tr th {\n",
       "        vertical-align: top;\n",
       "    }\n",
       "\n",
       "    .dataframe thead th {\n",
       "        text-align: right;\n",
       "    }\n",
       "</style>\n",
       "<table border=\"1\" class=\"dataframe\">\n",
       "  <thead>\n",
       "    <tr style=\"text-align: right;\">\n",
       "      <th></th>\n",
       "      <th>_id</th>\n",
       "      <th>name</th>\n",
       "      <th>founded_year</th>\n",
       "      <th>category_code</th>\n",
       "      <th>deadpooled_year</th>\n",
       "      <th>total_money_raised_USD</th>\n",
       "      <th>num_offices</th>\n",
       "      <th>office_1_longitude</th>\n",
       "      <th>office_1_latitude</th>\n",
       "      <th>office_1_location</th>\n",
       "      <th>office_1_city</th>\n",
       "      <th>office_1_state_code</th>\n",
       "      <th>office_1_country_code</th>\n",
       "    </tr>\n",
       "  </thead>\n",
       "  <tbody>\n",
       "    <tr>\n",
       "      <th>454</th>\n",
       "      <td>52cdef7c4bab8bd675297f9e</td>\n",
       "      <td>GENWI</td>\n",
       "      <td>2010.0</td>\n",
       "      <td>mobile</td>\n",
       "      <td>NaN</td>\n",
       "      <td>7100000.0</td>\n",
       "      <td>1</td>\n",
       "      <td>-111.903500</td>\n",
       "      <td>33.817100</td>\n",
       "      <td>{'type': 'Point', 'coordinates': [-111.9035, 3...</td>\n",
       "      <td>Los Altos</td>\n",
       "      <td>CA</td>\n",
       "      <td>USA</td>\n",
       "    </tr>\n",
       "    <tr>\n",
       "      <th>478</th>\n",
       "      <td>52cdef7c4bab8bd675297fc4</td>\n",
       "      <td>ChessPark</td>\n",
       "      <td>2007.0</td>\n",
       "      <td>games_video</td>\n",
       "      <td>NaN</td>\n",
       "      <td>1000000.0</td>\n",
       "      <td>1</td>\n",
       "      <td>-83.913153</td>\n",
       "      <td>43.670840</td>\n",
       "      <td>{'type': 'Point', 'coordinates': [-83.913153, ...</td>\n",
       "      <td>West Palm Beach</td>\n",
       "      <td>CA</td>\n",
       "      <td>USA</td>\n",
       "    </tr>\n",
       "    <tr>\n",
       "      <th>669</th>\n",
       "      <td>52cdef7c4bab8bd6752980be</td>\n",
       "      <td>Cyberhomes</td>\n",
       "      <td>NaN</td>\n",
       "      <td>web</td>\n",
       "      <td>NaN</td>\n",
       "      <td>0.0</td>\n",
       "      <td>1</td>\n",
       "      <td>-81.674745</td>\n",
       "      <td>30.318112</td>\n",
       "      <td>{'type': 'Point', 'coordinates': [-81.674745, ...</td>\n",
       "      <td>Jacksonville</td>\n",
       "      <td>FL</td>\n",
       "      <td>USA</td>\n",
       "    </tr>\n",
       "    <tr>\n",
       "      <th>736</th>\n",
       "      <td>52cdef7c4bab8bd67529811d</td>\n",
       "      <td>RedLasso</td>\n",
       "      <td>NaN</td>\n",
       "      <td>games_video</td>\n",
       "      <td>NaN</td>\n",
       "      <td>8500000.0</td>\n",
       "      <td>1</td>\n",
       "      <td>-75.395990</td>\n",
       "      <td>40.099703</td>\n",
       "      <td>{'type': 'Point', 'coordinates': [-75.39599, 4...</td>\n",
       "      <td>King of Prussia</td>\n",
       "      <td>PA</td>\n",
       "      <td>USA</td>\n",
       "    </tr>\n",
       "    <tr>\n",
       "      <th>755</th>\n",
       "      <td>52cdef7c4bab8bd675298139</td>\n",
       "      <td>divorce360</td>\n",
       "      <td>2007.0</td>\n",
       "      <td>web</td>\n",
       "      <td>NaN</td>\n",
       "      <td>2500000.0</td>\n",
       "      <td>1</td>\n",
       "      <td>-80.058401</td>\n",
       "      <td>26.820375</td>\n",
       "      <td>{'type': 'Point', 'coordinates': [-80.058401, ...</td>\n",
       "      <td>North Palm Beach</td>\n",
       "      <td>FL</td>\n",
       "      <td>USA</td>\n",
       "    </tr>\n",
       "  </tbody>\n",
       "</table>\n",
       "</div>"
      ],
      "text/plain": [
       "                          _id        name  founded_year category_code  \\\n",
       "454  52cdef7c4bab8bd675297f9e       GENWI        2010.0        mobile   \n",
       "478  52cdef7c4bab8bd675297fc4   ChessPark        2007.0   games_video   \n",
       "669  52cdef7c4bab8bd6752980be  Cyberhomes           NaN           web   \n",
       "736  52cdef7c4bab8bd67529811d    RedLasso           NaN   games_video   \n",
       "755  52cdef7c4bab8bd675298139  divorce360        2007.0           web   \n",
       "\n",
       "     deadpooled_year  total_money_raised_USD  num_offices  office_1_longitude  \\\n",
       "454              NaN               7100000.0            1         -111.903500   \n",
       "478              NaN               1000000.0            1          -83.913153   \n",
       "669              NaN                     0.0            1          -81.674745   \n",
       "736              NaN               8500000.0            1          -75.395990   \n",
       "755              NaN               2500000.0            1          -80.058401   \n",
       "\n",
       "     office_1_latitude                                  office_1_location  \\\n",
       "454          33.817100  {'type': 'Point', 'coordinates': [-111.9035, 3...   \n",
       "478          43.670840  {'type': 'Point', 'coordinates': [-83.913153, ...   \n",
       "669          30.318112  {'type': 'Point', 'coordinates': [-81.674745, ...   \n",
       "736          40.099703  {'type': 'Point', 'coordinates': [-75.39599, 4...   \n",
       "755          26.820375  {'type': 'Point', 'coordinates': [-80.058401, ...   \n",
       "\n",
       "        office_1_city office_1_state_code office_1_country_code  \n",
       "454         Los Altos                  CA                   USA  \n",
       "478   West Palm Beach                  CA                   USA  \n",
       "669      Jacksonville                  FL                   USA  \n",
       "736   King of Prussia                  PA                   USA  \n",
       "755  North Palm Beach                  FL                   USA  "
      ]
     },
     "execution_count": 33,
     "metadata": {},
     "output_type": "execute_result"
    }
   ],
   "source": [
    "df_filtered.head()"
   ]
  },
  {
   "cell_type": "code",
   "execution_count": 52,
   "metadata": {},
   "outputs": [
    {
     "data": {
      "text/plain": [
       "[ObjectId('52cdef7f4bab8bd67529c1ad'),\n",
       " ObjectId('52cdef7d4bab8bd67529960d'),\n",
       " ObjectId('52cdef7d4bab8bd67529a0d1'),\n",
       " ObjectId('52cdef7d4bab8bd675299c4f'),\n",
       " ObjectId('52cdef7c4bab8bd675298590'),\n",
       " ObjectId('52cdef7c4bab8bd6752986aa'),\n",
       " ObjectId('52cdef7e4bab8bd67529a9c4'),\n",
       " ObjectId('52cdef7f4bab8bd67529c062'),\n",
       " ObjectId('52cdef7d4bab8bd67529a00e'),\n",
       " ObjectId('52cdef7e4bab8bd67529a2c6')]"
      ]
     },
     "execution_count": 52,
     "metadata": {},
     "output_type": "execute_result"
    }
   ],
   "source": [
    "possible_offices_c1_c2[0:10]"
   ]
  },
  {
   "cell_type": "code",
   "execution_count": 47,
   "metadata": {},
   "outputs": [],
   "source": [
    "possible_offices_c1_c2_coords = []\n",
    "for f in possible_offices_c1_c2:\n",
    "    for e in companies:\n",
    "        if e['_id'] == f:\n",
    "            possible_offices_c1_c2_coords.append(e['office_1_location'])"
   ]
  },
  {
   "cell_type": "code",
   "execution_count": 48,
   "metadata": {},
   "outputs": [
    {
     "name": "stdout",
     "output_type": "stream",
     "text": [
      "85\n"
     ]
    }
   ],
   "source": [
    "print(len(possible_offices_c1_c2_coords))"
   ]
  },
  {
   "cell_type": "code",
   "execution_count": 53,
   "metadata": {},
   "outputs": [
    {
     "data": {
      "text/plain": [
       "[{'type': 'Point', 'coordinates': [-106.6634565, 52.143886]},\n",
       " {'type': 'Point', 'coordinates': [-87.596232, 41.78942]},\n",
       " {'type': 'Point', 'coordinates': [-90.082202, 29.973994]},\n",
       " {'type': 'Point', 'coordinates': [-81.657707, 30.310978]},\n",
       " {'type': 'Point', 'coordinates': [-79.842487, 40.517948]},\n",
       " {'type': 'Point', 'coordinates': [-118.422495, 34.153588]},\n",
       " {'type': 'Point', 'coordinates': [-111.81104, 40.718033]},\n",
       " {'type': 'Point', 'coordinates': [-75.413354, 40.100058]},\n",
       " {'type': 'Point', 'coordinates': [-86.0547016, 39.9052263]},\n",
       " {'type': 'Point', 'coordinates': [-87.5962319, 41.7894201]}]"
      ]
     },
     "execution_count": 53,
     "metadata": {},
     "output_type": "execute_result"
    }
   ],
   "source": [
    "possible_offices_c1_c2_coords[0:10]"
   ]
  },
  {
   "cell_type": "code",
   "execution_count": 54,
   "metadata": {},
   "outputs": [
    {
     "data": {
      "text/html": [
       "<div>\n",
       "<style scoped>\n",
       "    .dataframe tbody tr th:only-of-type {\n",
       "        vertical-align: middle;\n",
       "    }\n",
       "\n",
       "    .dataframe tbody tr th {\n",
       "        vertical-align: top;\n",
       "    }\n",
       "\n",
       "    .dataframe thead th {\n",
       "        text-align: right;\n",
       "    }\n",
       "</style>\n",
       "<table border=\"1\" class=\"dataframe\">\n",
       "  <thead>\n",
       "    <tr style=\"text-align: right;\">\n",
       "      <th></th>\n",
       "      <th>_id</th>\n",
       "      <th>name</th>\n",
       "      <th>founded_year</th>\n",
       "      <th>category_code</th>\n",
       "      <th>deadpooled_year</th>\n",
       "      <th>total_money_raised_USD</th>\n",
       "      <th>num_offices</th>\n",
       "      <th>office_1_longitude</th>\n",
       "      <th>office_1_latitude</th>\n",
       "      <th>office_1_location</th>\n",
       "      <th>office_1_city</th>\n",
       "      <th>office_1_state_code</th>\n",
       "      <th>office_1_country_code</th>\n",
       "    </tr>\n",
       "  </thead>\n",
       "  <tbody>\n",
       "    <tr>\n",
       "      <th>5158</th>\n",
       "      <td>52cdef7e4bab8bd67529a2c6</td>\n",
       "      <td>CaptainU</td>\n",
       "      <td>2007.0</td>\n",
       "      <td>software</td>\n",
       "      <td>NaN</td>\n",
       "      <td>0.0</td>\n",
       "      <td>1</td>\n",
       "      <td>-87.596232</td>\n",
       "      <td>41.78942</td>\n",
       "      <td>{'type': 'Point', 'coordinates': [-87.5962319,...</td>\n",
       "      <td>San Francisco</td>\n",
       "      <td>CA</td>\n",
       "      <td>USA</td>\n",
       "    </tr>\n",
       "  </tbody>\n",
       "</table>\n",
       "</div>"
      ],
      "text/plain": [
       "                           _id      name  founded_year category_code  \\\n",
       "5158  52cdef7e4bab8bd67529a2c6  CaptainU        2007.0      software   \n",
       "\n",
       "      deadpooled_year  total_money_raised_USD  num_offices  \\\n",
       "5158              NaN                     0.0            1   \n",
       "\n",
       "      office_1_longitude  office_1_latitude  \\\n",
       "5158          -87.596232           41.78942   \n",
       "\n",
       "                                      office_1_location  office_1_city  \\\n",
       "5158  {'type': 'Point', 'coordinates': [-87.5962319,...  San Francisco   \n",
       "\n",
       "     office_1_state_code office_1_country_code  \n",
       "5158                  CA                   USA  "
      ]
     },
     "execution_count": 54,
     "metadata": {},
     "output_type": "execute_result"
    }
   ],
   "source": [
    "df[df['_id'] == '52cdef7e4bab8bd67529a2c6']"
   ]
  },
  {
   "cell_type": "code",
   "execution_count": 40,
   "metadata": {},
   "outputs": [
    {
     "data": {
      "text/plain": [
       "-111.9035"
      ]
     },
     "execution_count": 40,
     "metadata": {},
     "output_type": "execute_result"
    }
   ],
   "source": [
    "possible_offices_c1_c2_coords[0]['coordinates'][1] # latitud\n",
    "possible_offices_c1_c2_coords[0]['coordinates'][0] # longitud"
   ]
  },
  {
   "cell_type": "code",
   "execution_count": 138,
   "metadata": {},
   "outputs": [],
   "source": [
    "# for e in possible_offices_c1_c2_coords:\n",
    "    # print(e['coordinates'][::-1])"
   ]
  },
  {
   "cell_type": "code",
   "execution_count": 55,
   "metadata": {},
   "outputs": [],
   "source": [
    "# Starbucks a menos de 1 km:\n",
    "starbucks_list = []\n",
    "for i in range(len(possible_offices_c1_c2_coords)):\n",
    "    data = foursquare_request_venues_authorized('search', possible_offices_c1_c2_coords[i]['coordinates'][1],\n",
    "                                            possible_offices_c1_c2_coords[i]['coordinates'][0], 'starbucks',\n",
    "                                            radius = 1000)\n",
    "    starbucks_list.append([possible_offices_c1_c2[i],data])"
   ]
  },
  {
   "cell_type": "code",
   "execution_count": null,
   "metadata": {},
   "outputs": [],
   "source": [
    "str(starbucks_list[0][0]) # ObjectId\n",
    "starbucks_list[0][1]['response']['venues'][0]['location']['lat']\n",
    "starbucks_list[0][1]['response']['venues'][0]['location']['lng']\n",
    "# starbucks_list[0][1]['response']['venues'][0]['location']['labeledLatLngs']\n",
    "starbucks_list[0][1]['response']['venues'][0]['location']['distance']\n",
    "starbucks_list[0][1]['response']['venues'][0]['location']['formattedAddress']"
   ]
  },
  {
   "cell_type": "code",
   "execution_count": 109,
   "metadata": {},
   "outputs": [],
   "source": [
    "cleaned_starbucks_list = []\n",
    "for i in range(len(starbucks_list)):\n",
    "    if len(starbucks_list[i][1]['response']['venues']) > 0:\n",
    "        cleaned_starbucks_list.append([starbucks_list[i][0],\n",
    "                                       starbucks_list[i][1]['response']['venues'][0]['location']['lat'],\n",
    "                                       starbucks_list[i][1]['response']['venues'][0]['location']['lng'],\n",
    "                                       starbucks_list[i][1]['response']['venues'][0]['location']['distance'],\n",
    "                                       starbucks_list[i][1]['response']['venues'][0]['location']['formattedAddress']])"
   ]
  },
  {
   "cell_type": "code",
   "execution_count": 110,
   "metadata": {},
   "outputs": [
    {
     "data": {
      "text/plain": [
       "47"
      ]
     },
     "execution_count": 110,
     "metadata": {},
     "output_type": "execute_result"
    }
   ],
   "source": [
    "len(cleaned_starbucks_list)"
   ]
  },
  {
   "cell_type": "code",
   "execution_count": 111,
   "metadata": {},
   "outputs": [],
   "source": [
    "possible_offices_c1_c2_c3 = [e[0] for e in cleaned_starbucks_list]\n",
    "possible_offices_c1_c2_c3_to_string = [str(e) for e in possible_offices_c1_c2_c3]\n",
    "# possible_offices_c1_c2_c3"
   ]
  },
  {
   "cell_type": "code",
   "execution_count": 112,
   "metadata": {},
   "outputs": [
    {
     "name": "stdout",
     "output_type": "stream",
     "text": [
      "47\n"
     ]
    }
   ],
   "source": [
    "indexs = []\n",
    "for i in range(len(df)):\n",
    "    if df['_id'][i] in possible_offices_c1_c2_c3_to_string:\n",
    "        indexs.append(i)\n",
    "print(len(indexs))\n",
    "# print(indexs)"
   ]
  },
  {
   "cell_type": "code",
   "execution_count": 113,
   "metadata": {},
   "outputs": [],
   "source": [
    "df_filtered = df.iloc[indexs]"
   ]
  },
  {
   "cell_type": "code",
   "execution_count": 123,
   "metadata": {},
   "outputs": [
    {
     "data": {
      "text/plain": [
       "47"
      ]
     },
     "execution_count": 123,
     "metadata": {},
     "output_type": "execute_result"
    }
   ],
   "source": [
    "len(df_filtered)"
   ]
  },
  {
   "cell_type": "code",
   "execution_count": 115,
   "metadata": {},
   "outputs": [],
   "source": [
    "possible_offices_c1_c2_c3_coords = []\n",
    "for f in possible_offices_c1_c2_c3:\n",
    "    for e in companies:\n",
    "        if e['_id'] == f:\n",
    "            possible_offices_c1_c2_c3_coords.append(e['office_1_location'])"
   ]
  },
  {
   "cell_type": "code",
   "execution_count": 118,
   "metadata": {},
   "outputs": [
    {
     "name": "stdout",
     "output_type": "stream",
     "text": [
      "47\n"
     ]
    },
    {
     "data": {
      "text/plain": [
       "{'type': 'Point', 'coordinates': [-106.6634565, 52.143886]}"
      ]
     },
     "execution_count": 118,
     "metadata": {},
     "output_type": "execute_result"
    }
   ],
   "source": [
    "print(len(possible_offices_c1_c2_c3_coords))\n",
    "possible_offices_c1_c2_c3_coords[0]"
   ]
  },
  {
   "cell_type": "code",
   "execution_count": 179,
   "metadata": {},
   "outputs": [],
   "source": [
    "# Veganos a menos de 1 km:\n",
    "vegan_list = []\n",
    "for i in range(len(possible_offices_c1_c2_c3_coords)):\n",
    "    data = foursquare_request_venues_authorized('search', possible_offices_c1_c2_c3_coords[i]['coordinates'][1],\n",
    "                                            possible_offices_c1_c2_c3_coords[i]['coordinates'][0], 'vegan',\n",
    "                                            radius = 2000)\n",
    "    vegan_list.append([possible_offices_c1_c2_c3[i],data])"
   ]
  },
  {
   "cell_type": "code",
   "execution_count": 198,
   "metadata": {},
   "outputs": [],
   "source": [
    "cleaned_vegan_list = []\n",
    "for i in range(len(vegan_list)):\n",
    "    if len(vegan_list[i][1]['response']['venues']) > 0:\n",
    "        cleaned_vegan_list.append([vegan_list[i][0],\n",
    "                                   vegan_list[i][1]['response']['venues'][0]['location']['lat'],\n",
    "                                   vegan_list[i][1]['response']['venues'][0]['location']['lng'],\n",
    "                                   vegan_list[i][1]['response']['venues'][0]['location']['distance'],\n",
    "                                   vegan_list[i][1]['response']['venues'][0]['location']['formattedAddress'],\n",
    "                                   vegan_list[i][1]['response']['venues'][0]['name']])"
   ]
  },
  {
   "cell_type": "code",
   "execution_count": 199,
   "metadata": {},
   "outputs": [
    {
     "data": {
      "text/plain": [
       "5"
      ]
     },
     "execution_count": 199,
     "metadata": {},
     "output_type": "execute_result"
    }
   ],
   "source": [
    "len(cleaned_vegan_list)"
   ]
  },
  {
   "cell_type": "code",
   "execution_count": 200,
   "metadata": {},
   "outputs": [],
   "source": [
    "possible_offices_c1_c2_c3_c4 = [e[0] for e in cleaned_vegan_list]\n",
    "possible_offices_c1_c2_c3_c4_to_string = [str(e) for e in possible_offices_c1_c2_c3_c4]"
   ]
  },
  {
   "cell_type": "code",
   "execution_count": 201,
   "metadata": {},
   "outputs": [
    {
     "name": "stdout",
     "output_type": "stream",
     "text": [
      "5\n"
     ]
    }
   ],
   "source": [
    "indexs = []\n",
    "for i in range(len(df)):\n",
    "    if df['_id'][i] in possible_offices_c1_c2_c3_c4_to_string:\n",
    "        indexs.append(i)\n",
    "print(len(indexs))\n",
    "# print(indexs)"
   ]
  },
  {
   "cell_type": "code",
   "execution_count": 202,
   "metadata": {},
   "outputs": [],
   "source": [
    "df_filtered = df.iloc[indexs]"
   ]
  },
  {
   "cell_type": "code",
   "execution_count": 203,
   "metadata": {},
   "outputs": [
    {
     "data": {
      "text/plain": [
       "5"
      ]
     },
     "execution_count": 203,
     "metadata": {},
     "output_type": "execute_result"
    }
   ],
   "source": [
    "len(df_filtered)"
   ]
  },
  {
   "cell_type": "code",
   "execution_count": 204,
   "metadata": {},
   "outputs": [],
   "source": [
    "possible_offices_c1_c2_c3_c4_coords = []\n",
    "for f in possible_offices_c1_c2_c3_c4:\n",
    "    for e in companies:\n",
    "        if e['_id'] == f:\n",
    "            possible_offices_c1_c2_c3_c4_coords.append(e['office_1_location'])"
   ]
  },
  {
   "cell_type": "code",
   "execution_count": 205,
   "metadata": {},
   "outputs": [
    {
     "name": "stdout",
     "output_type": "stream",
     "text": [
      "5\n"
     ]
    },
    {
     "data": {
      "text/plain": [
       "{'type': 'Point', 'coordinates': [-106.6634565, 52.143886]}"
      ]
     },
     "execution_count": 205,
     "metadata": {},
     "output_type": "execute_result"
    }
   ],
   "source": [
    "print(len(possible_offices_c1_c2_c3_c4_coords))\n",
    "possible_offices_c1_c2_c3_c4_coords[0]"
   ]
  },
  {
   "cell_type": "code",
   "execution_count": 266,
   "metadata": {},
   "outputs": [],
   "source": [
    "# Clubes nocturnos:\n",
    "\n",
    "# 4bf58dd8d48988d1ed931735 Aeropuerto\n",
    "# 4bf58dd8d48988d1d3941735 Restaurante vegetariano/vegano\n",
    "# 4bf58dd8d48988d11f941735 Local nocturno\n",
    "# 4f4533804b9074f6e4fb0105 Escuela primaria\n",
    "# 4bf58dd8d48988d13d941735 Colegio secundario\n",
    "# Escuela intermedia 4f4533814b9074f6e4fb0106\n",
    "# Jardín de infantes 4f4533814b9074f6e4fb0107\n",
    "# Preescolar 52e81612bcbc57f1066b7a45\n",
    "# Colegio privado 52e81612bcbc57f1066b7a46\n",
    "\n",
    "party_list = VenuesListbtcategory(possible_offices_c1_c2_c3_c4_coords, possible_offices_c1_c2_c3_c4, '4bf58dd8d48988d11f941735', 1000)\n"
   ]
  },
  {
   "cell_type": "code",
   "execution_count": 272,
   "metadata": {},
   "outputs": [
    {
     "data": {
      "text/plain": [
       "{'id': '4ccd1c05ee23a143cdec23a8',\n",
       " 'name': 'Club Caribbean New Orleans Reggae Club',\n",
       " 'contact': {},\n",
       " 'location': {'address': '2441 Bayou Rd',\n",
       "  'lat': 29.975514439982057,\n",
       "  'lng': -90.07573797902866,\n",
       "  'labeledLatLngs': [{'label': 'display',\n",
       "    'lat': 29.975514439982057,\n",
       "    'lng': -90.07573797902866}],\n",
       "  'distance': 645,\n",
       "  'postalCode': '70119',\n",
       "  'cc': 'US',\n",
       "  'city': 'New Orleans',\n",
       "  'state': 'LA',\n",
       "  'country': 'United States',\n",
       "  'formattedAddress': ['2441 Bayou Rd',\n",
       "   'New Orleans, LA 70119',\n",
       "   'United States']},\n",
       " 'categories': [{'id': '4bf58dd8d48988d11f941735',\n",
       "   'name': 'Nightclub',\n",
       "   'pluralName': 'Nightclubs',\n",
       "   'shortName': 'Nightclub',\n",
       "   'icon': {'prefix': 'https://ss3.4sqi.net/img/categories_v2/nightlife/nightclub_',\n",
       "    'suffix': '.png'},\n",
       "   'primary': True}],\n",
       " 'verified': True,\n",
       " 'stats': {'tipCount': 0,\n",
       "  'usersCount': 0,\n",
       "  'checkinsCount': 0,\n",
       "  'visitsCount': 0},\n",
       " 'beenHere': {'count': 0,\n",
       "  'lastCheckinExpiredAt': 0,\n",
       "  'marked': False,\n",
       "  'unconfirmedCount': 0},\n",
       " 'venuePage': {'id': '512650507'},\n",
       " 'hereNow': {'count': 0, 'summary': 'Nobody here', 'groups': []},\n",
       " 'referralId': 'v-1574014944',\n",
       " 'venueChains': [],\n",
       " 'hasPerk': False}"
      ]
     },
     "execution_count": 272,
     "metadata": {},
     "output_type": "execute_result"
    }
   ],
   "source": [
    "party_list[0][1]['response']['venues'][0]"
   ]
  },
  {
   "cell_type": "code",
   "execution_count": null,
   "metadata": {},
   "outputs": [],
   "source": []
  },
  {
   "cell_type": "code",
   "execution_count": 222,
   "metadata": {},
   "outputs": [
    {
     "name": "stdout",
     "output_type": "stream",
     "text": [
      "3\n",
      "[49.8740096, 8.6605881]\n"
     ]
    }
   ],
   "source": [
    "# Select one random row:\n",
    "rowindex = random.choice(range(0,len(df_filtered)))\n",
    "# df_filtered.iloc[rowindex][0] # id\n",
    "# df_filtered.iloc[rowindex][7] # long\n",
    "# df_filtered.iloc[rowindex][8] # lat\n",
    "# df_filtered.iloc[rowindex][9] # location\n",
    "# df_filtered.iloc[rowindex][10] # city\n",
    "# df_filtered.iloc[rowindex][11] # state_code\n",
    "# df_filtered.iloc[rowindex][12] # country_code\n",
    "\n",
    "e = [df_filtered.iloc[rowindex][8], df_filtered.iloc[rowindex][7]]\n",
    "print(rowindex)\n",
    "print(e)"
   ]
  },
  {
   "cell_type": "code",
   "execution_count": 223,
   "metadata": {},
   "outputs": [
    {
     "data": {
      "text/plain": [
       "_id                                                52cdef7e4bab8bd67529b333\n",
       "name                                                          iPharro Media\n",
       "founded_year                                                           2007\n",
       "category_code                                                      software\n",
       "deadpooled_year                                                         NaN\n",
       "total_money_raised_USD                                             5.18e+06\n",
       "num_offices                                                               2\n",
       "office_1_longitude                                                  8.66059\n",
       "office_1_latitude                                                    49.874\n",
       "office_1_location         {'type': 'Point', 'coordinates': [8.6605881, 4...\n",
       "office_1_city                                                     Darmstadt\n",
       "office_1_state_code                                                     NaN\n",
       "office_1_country_code                                                   DEU\n",
       "Name: 7024, dtype: object"
      ]
     },
     "execution_count": 223,
     "metadata": {},
     "output_type": "execute_result"
    }
   ],
   "source": [
    "df_filtered.iloc[rowindex]"
   ]
  },
  {
   "cell_type": "code",
   "execution_count": 224,
   "metadata": {},
   "outputs": [
    {
     "name": "stdout",
     "output_type": "stream",
     "text": [
      "[49.87269833358546, 8.65098921152148]\n",
      "703\n"
     ]
    }
   ],
   "source": [
    "lat_long_starbucks = []\n",
    "distance_starbucks = 0\n",
    "for i in range(len(cleaned_starbucks_list)):\n",
    "    if str(cleaned_starbucks_list[i][0]) == df_filtered.iloc[rowindex][0]:\n",
    "        # print(cleaned_starbucks_list[i][1]) # lat\n",
    "        # print(cleaned_starbucks_list[i][2]) # long\n",
    "        # print(cleaned_starbucks_list[i][3]) # distance\n",
    "        # print(cleaned_starbucks_list[i][4]) # adress\n",
    "        lat_long_starbucks.append(cleaned_starbucks_list[i][1])\n",
    "        lat_long_starbucks.append(cleaned_starbucks_list[i][2])\n",
    "        distance_starbucks += cleaned_starbucks_list[i][3]\n",
    "print(lat_long_starbucks)\n",
    "print(distance_starbucks)"
   ]
  },
  {
   "cell_type": "code",
   "execution_count": 225,
   "metadata": {},
   "outputs": [
    {
     "name": "stdout",
     "output_type": "stream",
     "text": [
      "[49.881272, 8.649491]\n",
      "1134\n",
      "Vrau Dötsch Veganer Fachhandel\n"
     ]
    }
   ],
   "source": [
    "lat_long_vegan = []\n",
    "distance_vegan = 0\n",
    "name_vegan = ''\n",
    "for i in range(len(cleaned_vegan_list)):\n",
    "    if str(cleaned_vegan_list[i][0]) == df_filtered.iloc[rowindex][0]:\n",
    "        lat_long_vegan.append(cleaned_vegan_list[i][1])\n",
    "        lat_long_vegan.append(cleaned_vegan_list[i][2])\n",
    "        distance_vegan += cleaned_vegan_list[i][3]\n",
    "        name_vegan += cleaned_vegan_list[i][5]\n",
    "print(lat_long_vegan)\n",
    "print(distance_vegan)\n",
    "print(name_vegan)"
   ]
  },
  {
   "cell_type": "code",
   "execution_count": 226,
   "metadata": {},
   "outputs": [
    {
     "name": "stdout",
     "output_type": "stream",
     "text": [
      "The perfect location for your business is in Darmstadt, DEU.\n",
      "You don't have companies with more than 13 years in a radius of 2 KM (blue circle).\n",
      "The office is near successful tech startups that have raised at least 1 Million dollars.\n",
      "Your employees will find a Starbucks just 703 meters from the office.\n",
      "The vegan restaurant 'Vrau Dötsch Veganer Fachhandel' can be found just 1134 meters from the office.\n"
     ]
    }
   ],
   "source": [
    "print(f\"The perfect location for your business is in {df_filtered.iloc[rowindex][10]}, {df_filtered.iloc[rowindex][12]}.\")\n",
    "print(f\"You don't have companies with more than {years} years in a radius of 2 KM (blue circle).\")\n",
    "print(f\"The office is near successful tech startups that have raised at least 1 Million dollars.\")\n",
    "print(f\"Your employees will find a Starbucks just {distance_starbucks} meters from the office.\")\n",
    "print(f\"The vegan restaurant '{name_vegan}' can be found just {distance_vegan} meters from the office.\")"
   ]
  },
  {
   "cell_type": "code",
   "execution_count": 246,
   "metadata": {},
   "outputs": [
    {
     "data": {
      "text/html": [
       "<div style=\"width:100%;\"><div style=\"position:relative;width:100%;height:0;padding-bottom:60%;\"><iframe src=\"data:text/html;charset=utf-8;base64,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\" style=\"position:absolute;width:100%;height:100%;left:0;top:0;border:none !important;\" allowfullscreen webkitallowfullscreen mozallowfullscreen></iframe></div></div>"
      ],
      "text/plain": [
       "<folium.folium.Map at 0x169bd2f0160>"
      ]
     },
     "execution_count": 246,
     "metadata": {},
     "output_type": "execute_result"
    }
   ],
   "source": [
    "# {'gray', 'cadetblue', 'lightblue', 'darkblue', 'white', 'purple', 'green', 'lightred', 'pink', 'darkgreen',\n",
    "# 'beige', 'darkred', 'red', 'orange', 'darkpurple', 'black', 'lightgreen', 'blue', 'lightgray'}\n",
    "\n",
    "# map_city\n",
    "tooltip = 'Click me!'\n",
    "map_city = folium.Map(location = e, zoom_start=13)\n",
    "folium.Circle(radius=2000,location=e,popup='Old companies free zone',color='#3186cc',\n",
    "    fill=True,fill_color='#3186cc').add_to(map_city)\n",
    "folium.Marker(e,radius=2,icon=folium.Icon(\n",
    "    icon='briefcase', color='red'),popup='<b>Perfect location for your business</b>',\n",
    "    tooltip=tooltip).add_to(map_city)\n",
    "folium.Marker(lat_long_starbucks,radius=2,icon=folium.Icon(\n",
    "    icon='coffee', prefix='fa',color='orange'),popup='Starbucks',\n",
    "    tooltip=tooltip).add_to(map_city)\n",
    "folium.Marker(lat_long_vegan,radius=2,icon=folium.Icon(\n",
    "    icon='cutlery',color='green'),popup=f\"Vegan restaurant: '{name_vegan}'\",\n",
    "    tooltip=tooltip).add_to(map_city)\n",
    "map_city\n",
    "# map_city.save('index.html')"
   ]
  },
  {
   "cell_type": "code",
   "execution_count": null,
   "metadata": {},
   "outputs": [],
   "source": []
  },
  {
   "cell_type": "code",
   "execution_count": null,
   "metadata": {},
   "outputs": [],
   "source": []
  }
 ],
 "metadata": {
  "kernelspec": {
   "display_name": "Python 3",
   "language": "python",
   "name": "python3"
  },
  "language_info": {
   "codemirror_mode": {
    "name": "ipython",
    "version": 3
   },
   "file_extension": ".py",
   "mimetype": "text/x-python",
   "name": "python",
   "nbconvert_exporter": "python",
   "pygments_lexer": "ipython3",
   "version": "3.7.3"
  }
 },
 "nbformat": 4,
 "nbformat_minor": 2
}
