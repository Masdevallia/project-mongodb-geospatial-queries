{
 "cells": [
  {
   "cell_type": "code",
   "execution_count": 1,
   "metadata": {},
   "outputs": [],
   "source": [
    "from pymongo import MongoClient\n",
    "import pandas as pd\n",
    "import numpy as np\n",
    "import folium"
   ]
  },
  {
   "cell_type": "code",
   "execution_count": null,
   "metadata": {},
   "outputs": [],
   "source": [
    "# {$and:[{},{}]}\n",
    "# {$and:[{$or:[{},{},{},{}]},{}]}"
   ]
  },
  {
   "cell_type": "code",
   "execution_count": 2,
   "metadata": {},
   "outputs": [],
   "source": [
    "def connectCollection(database, collection):\n",
    "    client = MongoClient()\n",
    "    db = client[database]\n",
    "    coll = db[collection]\n",
    "    return db, coll"
   ]
  },
  {
   "cell_type": "code",
   "execution_count": 3,
   "metadata": {},
   "outputs": [],
   "source": [
    "db, coll = connectCollection('companies','companies_cleaned')"
   ]
  },
  {
   "cell_type": "code",
   "execution_count": 4,
   "metadata": {},
   "outputs": [
    {
     "data": {
      "text/plain": [
       "Database(MongoClient(host=['localhost:27017'], document_class=dict, tz_aware=False, connect=True), 'companies')"
      ]
     },
     "execution_count": 4,
     "metadata": {},
     "output_type": "execute_result"
    }
   ],
   "source": [
    "db"
   ]
  },
  {
   "cell_type": "code",
   "execution_count": 5,
   "metadata": {},
   "outputs": [
    {
     "data": {
      "text/plain": [
       "Collection(Database(MongoClient(host=['localhost:27017'], document_class=dict, tz_aware=False, connect=True), 'companies'), 'companies_cleaned')"
      ]
     },
     "execution_count": 5,
     "metadata": {},
     "output_type": "execute_result"
    }
   ],
   "source": [
    "coll"
   ]
  },
  {
   "cell_type": "code",
   "execution_count": 6,
   "metadata": {},
   "outputs": [],
   "source": [
    "companies = list(coll.find())"
   ]
  },
  {
   "cell_type": "code",
   "execution_count": 7,
   "metadata": {},
   "outputs": [
    {
     "data": {
      "text/plain": [
       "9025"
      ]
     },
     "execution_count": 7,
     "metadata": {},
     "output_type": "execute_result"
    }
   ],
   "source": [
    "len(companies) # 9025"
   ]
  },
  {
   "cell_type": "code",
   "execution_count": 26,
   "metadata": {},
   "outputs": [
    {
     "name": "stdout",
     "output_type": "stream",
     "text": [
      "{'messaging', 'music', 'fashion', 'hardware', 'design', 'travel', 'nanotech', 'education', 'social', 'enterprise', 'manufacturing', 'health', 'mobile', 'other', 'games_video', 'medical', 'finance', 'cleantech', 'search', 'security', 'transportation', 'public_relations', 'software', 'sports', None, 'photo_video', 'nonprofit', 'consulting', 'automotive', 'local', 'analytics', 'legal', 'web', 'semiconductor', 'advertising', 'hospitality', 'biotech', 'real_estate', 'ecommerce', 'network_hosting', 'news'}\n"
     ]
    }
   ],
   "source": [
    "categories = []\n",
    "for i in range(len(companies)):\n",
    "    categories.append(companies[i]['category_code'])\n",
    "print(set(categories))"
   ]
  },
  {
   "cell_type": "code",
   "execution_count": null,
   "metadata": {},
   "outputs": [],
   "source": [
    "# Nobody in the company likes to have companies with more than 10 years in a radius of 2 KM.\n",
    "# Developers like to be near successful tech startups that have raised at least 1 Million dollars.\n",
    "# 30% of the company have at least 1 child.\n",
    "# Executives like Starbucks A LOT. Ensure there's a starbucks not to far.\n",
    "# Account managers need to travel a lot\n",
    "# All people in the company have between 25 and 40 years, give them some place to go to party.\n",
    "# The CEO is Vegan"
   ]
  },
  {
   "cell_type": "code",
   "execution_count": 19,
   "metadata": {},
   "outputs": [],
   "source": [
    "active_companies = list(coll.find({'deadpooled_year': np.nan}))"
   ]
  },
  {
   "cell_type": "code",
   "execution_count": 20,
   "metadata": {},
   "outputs": [
    {
     "data": {
      "text/plain": [
       "8406"
      ]
     },
     "execution_count": 20,
     "metadata": {},
     "output_type": "execute_result"
    }
   ],
   "source": [
    "len(active_companies) # 8406"
   ]
  },
  {
   "cell_type": "code",
   "execution_count": 21,
   "metadata": {},
   "outputs": [],
   "source": [
    "# Nobody in the company likes to have companies with more than 10 years in a radius of 2 KM.\n",
    "\n",
    "# {$and:[{deadpooled_year: NaN},{founded_year:{$lte:2009}}]}\n",
    "\n",
    "old_companies = list(coll.find({'$and':[{'deadpooled_year': np.nan},{'founded_year':{'$lte':2009}}]}))\n"
   ]
  },
  {
   "cell_type": "code",
   "execution_count": 22,
   "metadata": {},
   "outputs": [
    {
     "data": {
      "text/plain": [
       "6840"
      ]
     },
     "execution_count": 22,
     "metadata": {},
     "output_type": "execute_result"
    }
   ],
   "source": [
    "len(old_companies) # 6840"
   ]
  },
  {
   "cell_type": "code",
   "execution_count": 29,
   "metadata": {},
   "outputs": [],
   "source": [
    "# Developers like to be near successful tech startups that have raised at least 1 Million dollars.\n",
    "\n",
    "# {$and:[{$or:[{category_code:'hardware'},{category_code:'nanotech'},{category_code:'mobile'},{category_code:'games_video'},{category_code:'cleantech'},{category_code:'software'},{category_code:'analytics'},{category_code:'web'},{category_code:'biotech'}]},{deadpooled_year: NaN},{founded_year:{$gte:2010}},{total_money_raised_USD:{$gte:1000000}}]}\n",
    "\n",
    "successful_tech_startups_2010 = list(coll.find(\n",
    "    {'$and':[{'$or':[{'category_code':'hardware'},{'category_code':'nanotech'},{'category_code':'mobile'},\n",
    "                     {'category_code':'games_video'},{'category_code':'cleantech'},{'category_code':'software'},\n",
    "                     {'category_code':'analytics'},{'category_code':'web'},{'category_code':'biotech'}]},\n",
    "             {'deadpooled_year': np.nan},{'founded_year':{'$gte':2010}},{'total_money_raised_USD':{'$gte':1000000}}]}))\n",
    "\n",
    "successful_tech_startups_2000 = list(coll.find(\n",
    "    {'$and':[{'$or':[{'category_code':'hardware'},{'category_code':'nanotech'},{'category_code':'mobile'},\n",
    "                     {'category_code':'games_video'},{'category_code':'cleantech'},{'category_code':'software'},\n",
    "                     {'category_code':'analytics'},{'category_code':'web'},{'category_code':'biotech'}]},\n",
    "             {'deadpooled_year': np.nan},{'founded_year':{'$gte':2000}},{'total_money_raised_USD':{'$gte':1000000}}]}))\n"
   ]
  },
  {
   "cell_type": "code",
   "execution_count": 30,
   "metadata": {},
   "outputs": [
    {
     "name": "stdout",
     "output_type": "stream",
     "text": [
      "11\n",
      "952\n"
     ]
    }
   ],
   "source": [
    "print(len(successful_tech_startups_2010))\n",
    "print(len(successful_tech_startups_2000))"
   ]
  },
  {
   "cell_type": "code",
   "execution_count": 34,
   "metadata": {},
   "outputs": [],
   "source": [
    "# Designers like to go to design talks and share knowledge. There must be some nearby companies that also do design.\n",
    "design_companies = list(coll.find({'category_code':'design'}))"
   ]
  },
  {
   "cell_type": "code",
   "execution_count": 35,
   "metadata": {},
   "outputs": [
    {
     "name": "stdout",
     "output_type": "stream",
     "text": [
      "2\n"
     ]
    }
   ],
   "source": [
    "print(len(design_companies))"
   ]
  },
  {
   "cell_type": "code",
   "execution_count": 63,
   "metadata": {},
   "outputs": [],
   "source": [
    "manhattan_companies = coll.find(\n",
    "    {\"office_1_location\":{\"$near\":{\"$geometry\":{\"type\":\"Point\",\"coordinates\":[-73.9712,40.7831]},\n",
    "                                   \"$maxDistance\":3000}}})\n",
    "\n",
    "# \"$maxDistance\":10000,\"$minDistance\":5000"
   ]
  },
  {
   "cell_type": "code",
   "execution_count": 64,
   "metadata": {},
   "outputs": [],
   "source": [
    "manhattan_companies = list(manhattan_companies)"
   ]
  },
  {
   "cell_type": "code",
   "execution_count": 65,
   "metadata": {},
   "outputs": [
    {
     "data": {
      "text/plain": [
       "56"
      ]
     },
     "execution_count": 65,
     "metadata": {},
     "output_type": "execute_result"
    }
   ],
   "source": [
    "len(manhattan_companies)"
   ]
  },
  {
   "cell_type": "code",
   "execution_count": null,
   "metadata": {},
   "outputs": [],
   "source": [
    "map_city = folium.Map(location=[40.7221,-73.9712], zoom_start=12)\n",
    "for company in manhattan_companies:\n",
    "    folium.Marker(company['office_1_location']['coordinates'][::-1],\n",
    "                    radius=2,\n",
    "                    icon=folium.Icon(icon='cloud',color='red'), \n",
    "                   ).add_to(map_city)\n",
    "map_city"
   ]
  },
  {
   "cell_type": "code",
   "execution_count": null,
   "metadata": {},
   "outputs": [],
   "source": [
    "# https://stackoverflow.com/questions/19412462/getting-distance-between-two-points-based-on-latitude-longitude/43211266#43211266\n",
    "# import geopy.distance\n",
    "# coords_1 = (52.2296756, 21.0122287)\n",
    "# coords_2 = (52.406374, 16.9251681)\n",
    "# print geopy.distance.vincenty(coords_1, coords_2).km"
   ]
  }
 ],
 "metadata": {
  "kernelspec": {
   "display_name": "Python 3",
   "language": "python",
   "name": "python3"
  },
  "language_info": {
   "codemirror_mode": {
    "name": "ipython",
    "version": 3
   },
   "file_extension": ".py",
   "mimetype": "text/x-python",
   "name": "python",
   "nbconvert_exporter": "python",
   "pygments_lexer": "ipython3",
   "version": "3.7.3"
  }
 },
 "nbformat": 4,
 "nbformat_minor": 2
}
