{
 "cells": [
  {
   "cell_type": "code",
   "execution_count": null,
   "metadata": {},
   "outputs": [],
   "source": [
    "# Nobody in the company likes to have companies with more than 10 years in a radius of 2 KM.\n",
    "# Developers like to be near successful tech startups that have raised at least 1 Million dollars.\n",
    "# Designers like to go to design talks and share knowledge. There must be some nearby companies that also do design.\n",
    "# 30% of the company have at least 1 child.\n",
    "# Executives like Starbucks A LOT. Ensure there's a starbucks not to far.\n",
    "# Account managers need to travel a lot\n",
    "# All people in the company have between 25 and 40 years, give them some place to go to party.\n",
    "# The CEO is Vegan"
   ]
  },
  {
   "cell_type": "code",
   "execution_count": null,
   "metadata": {},
   "outputs": [],
   "source": [
    "# Nobody in the company likes to have companies with more than 10 years in a radius of 2 KM.\n",
    "\n",
    "# {founded_year:{$gt: 2009}} # 146\n",
    "# {founded_year:{$lte: 2009}} # 12990 (no quieres tenerlas cerca)\n",
    "# Año en que quebraron\n",
    "\n",
    "# https://stackoverflow.com/questions/19412462/getting-distance-between-two-points-based-on-latitude-longitude/43211266#43211266\n",
    "# import geopy.distance\n",
    "# coords_1 = (52.2296756, 21.0122287)\n",
    "# coords_2 = (52.406374, 16.9251681)\n",
    "# print geopy.distance.vincenty(coords_1, coords_2).km\n",
    "\n",
    "# Hay tambien un operador near en mongodb (lo tenemos en los apuntes,\n",
    "# poner primero el field de la manera que lo quiere Mongo)"
   ]
  },
  {
   "cell_type": "code",
   "execution_count": null,
   "metadata": {},
   "outputs": [],
   "source": [
    "# Developers like to be near successful tech startups that have raised at least 1 Million dollars.\n",
    "# category_code\n",
    "# founded_year\n",
    "# total_money_raised (o dentro de las rondas: funding_rounds -> raised_amount & raised_currency_code)\n",
    "# ipo.valuation_amount # no vale para startups -> Dinero por el que salen a bolsa\n",
    "# Año en que quebraron, porque si quebraron no hay que tenerlas en cuenta"
   ]
  }
 ],
 "metadata": {
  "kernelspec": {
   "display_name": "Python 3",
   "language": "python",
   "name": "python3"
  },
  "language_info": {
   "codemirror_mode": {
    "name": "ipython",
    "version": 3
   },
   "file_extension": ".py",
   "mimetype": "text/x-python",
   "name": "python",
   "nbconvert_exporter": "python",
   "pygments_lexer": "ipython3",
   "version": "3.7.3"
  }
 },
 "nbformat": 4,
 "nbformat_minor": 2
}
