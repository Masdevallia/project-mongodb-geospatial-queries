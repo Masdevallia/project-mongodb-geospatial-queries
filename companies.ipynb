{
 "cells": [
  {
   "cell_type": "code",
   "execution_count": 67,
   "metadata": {},
   "outputs": [],
   "source": [
    "from pymongo import MongoClient\n",
    "import pandas as pd\n",
    "import numpy as np"
   ]
  },
  {
   "cell_type": "code",
   "execution_count": 11,
   "metadata": {},
   "outputs": [],
   "source": [
    "def connectCollection(database, collection):\n",
    "    client = MongoClient()\n",
    "    db = client[database]\n",
    "    coll = db[collection]\n",
    "    return db, coll"
   ]
  },
  {
   "cell_type": "code",
   "execution_count": 12,
   "metadata": {},
   "outputs": [],
   "source": [
    "db, coll = connectCollection('companies','companies')"
   ]
  },
  {
   "cell_type": "code",
   "execution_count": 138,
   "metadata": {},
   "outputs": [],
   "source": [
    "# companies = list(coll.find()) # 18801\n",
    "\n",
    "# Query en compass: {$or:[{\"offices.latitude\":{$ne:null}},{\"offices.longitude\":{$ne:null}}]}\n",
    "# En python es None en lugar de null.\n",
    "\n",
    "companies = list(coll.find({'$or':[{\"offices.latitude\":{'$ne':None}},{\"offices.longitude\":{'$ne':None}}]})) # 14082"
   ]
  },
  {
   "cell_type": "code",
   "execution_count": 139,
   "metadata": {},
   "outputs": [
    {
     "data": {
      "text/plain": [
       "14082"
      ]
     },
     "execution_count": 139,
     "metadata": {},
     "output_type": "execute_result"
    }
   ],
   "source": [
    "len(companies) # 14082"
   ]
  },
  {
   "cell_type": "code",
   "execution_count": 140,
   "metadata": {},
   "outputs": [
    {
     "data": {
      "text/plain": [
       "{'_id': ObjectId('52cdef7c4bab8bd675297d8b'),\n",
       " 'name': 'AdventNet',\n",
       " 'permalink': 'abc3',\n",
       " 'crunchbase_url': 'http://www.crunchbase.com/company/adventnet',\n",
       " 'homepage_url': 'http://adventnet.com',\n",
       " 'blog_url': '',\n",
       " 'blog_feed_url': '',\n",
       " 'twitter_username': 'manageengine',\n",
       " 'category_code': 'enterprise',\n",
       " 'number_of_employees': 600,\n",
       " 'founded_year': 1996,\n",
       " 'deadpooled_year': 2,\n",
       " 'tag_list': '',\n",
       " 'alias_list': 'Zoho ManageEngine ',\n",
       " 'email_address': 'pr@adventnet.com',\n",
       " 'phone_number': '925-924-9500',\n",
       " 'description': 'Server Management Software',\n",
       " 'created_at': datetime.datetime(2007, 5, 25, 19, 24, 22),\n",
       " 'updated_at': 'Wed Oct 31 18:26:09 UTC 2012',\n",
       " 'overview': '<p>AdventNet is now <a href=\"/company/zoho-manageengine\" title=\"Zoho ManageEngine\" rel=\"nofollow\">Zoho ManageEngine</a>.</p>\\n\\n<p>Founded in 1996, AdventNet has served a diverse range of enterprise IT, networking and telecom customers.</p>\\n\\n<p>AdventNet supplies server and network management software.</p>',\n",
       " 'image': {'available_sizes': [[[150, 55],\n",
       "    'assets/images/resized/0001/9732/19732v1-max-150x150.png'],\n",
       "   [[150, 55], 'assets/images/resized/0001/9732/19732v1-max-250x250.png'],\n",
       "   [[150, 55], 'assets/images/resized/0001/9732/19732v1-max-450x450.png']]},\n",
       " 'products': [],\n",
       " 'relationships': [{'is_past': True,\n",
       "   'title': 'CEO and Co-Founder',\n",
       "   'person': {'first_name': 'Sridhar',\n",
       "    'last_name': 'Vembu',\n",
       "    'permalink': 'sridhar-vembu'}},\n",
       "  {'is_past': True,\n",
       "   'title': 'VP of Business Dev',\n",
       "   'person': {'first_name': 'Neil',\n",
       "    'last_name': 'Butani',\n",
       "    'permalink': 'neil-butani'}},\n",
       "  {'is_past': True,\n",
       "   'title': 'Usabiliy Engineer',\n",
       "   'person': {'first_name': 'Bharath',\n",
       "    'last_name': 'Balasubramanian',\n",
       "    'permalink': 'bharath-balasibramanian'}},\n",
       "  {'is_past': True,\n",
       "   'title': 'Director of Engineering',\n",
       "   'person': {'first_name': 'Rajendran',\n",
       "    'last_name': 'Dandapani',\n",
       "    'permalink': 'rajendran-dandapani'}},\n",
       "  {'is_past': True,\n",
       "   'title': 'Market Analyst',\n",
       "   'person': {'first_name': 'Aravind',\n",
       "    'last_name': 'Natarajan',\n",
       "    'permalink': 'aravind-natarajan'}},\n",
       "  {'is_past': True,\n",
       "   'title': 'Director of Product Management',\n",
       "   'person': {'first_name': 'Hyther',\n",
       "    'last_name': 'Nizam',\n",
       "    'permalink': 'hyther-nizam'}},\n",
       "  {'is_past': True,\n",
       "   'title': 'Western Regional OEM Sales Manager',\n",
       "   'person': {'first_name': 'Ian',\n",
       "    'last_name': 'Wenig',\n",
       "    'permalink': 'ian-wenig'}}],\n",
       " 'competitions': [],\n",
       " 'providerships': [{'title': 'DHFH',\n",
       "   'is_past': True,\n",
       "   'provider': {'name': 'A Small Orange', 'permalink': 'a-small-orange'}}],\n",
       " 'total_money_raised': '$0',\n",
       " 'funding_rounds': [],\n",
       " 'investments': [],\n",
       " 'acquisition': None,\n",
       " 'acquisitions': [],\n",
       " 'offices': [{'description': 'Headquarters',\n",
       "   'address1': '4900 Hopyard Rd.',\n",
       "   'address2': 'Suite 310',\n",
       "   'zip_code': '94588',\n",
       "   'city': 'Pleasanton',\n",
       "   'state_code': 'CA',\n",
       "   'country_code': 'USA',\n",
       "   'latitude': 37.692934,\n",
       "   'longitude': -121.904945}],\n",
       " 'milestones': [],\n",
       " 'video_embeds': [],\n",
       " 'screenshots': [{'available_sizes': [[[150, 94],\n",
       "     'assets/images/resized/0004/3400/43400v1-max-150x150.png'],\n",
       "    [[250, 156], 'assets/images/resized/0004/3400/43400v1-max-250x250.png'],\n",
       "    [[450, 282], 'assets/images/resized/0004/3400/43400v1-max-450x450.png']],\n",
       "   'attribution': None}],\n",
       " 'external_links': [],\n",
       " 'partners': []}"
      ]
     },
     "execution_count": 140,
     "metadata": {},
     "output_type": "execute_result"
    }
   ],
   "source": [
    "companies[0]"
   ]
  },
  {
   "cell_type": "code",
   "execution_count": 141,
   "metadata": {},
   "outputs": [],
   "source": [
    "def set_key(dictionary, key, value):\n",
    "    if key not in dictionary:\n",
    "        dictionary[key] = value\n",
    "    elif type(dictionary[key]) == list:\n",
    "        dictionary[key].append(value)\n",
    "    else:\n",
    "        dictionary[key] = [dictionary[key], value]"
   ]
  },
  {
   "cell_type": "code",
   "execution_count": 143,
   "metadata": {},
   "outputs": [],
   "source": [
    "companies_dict = {}\n",
    "for i in range(len(companies)):\n",
    "    set_key(companies_dict, '_id', companies[i]['_id'])\n",
    "    set_key(companies_dict, 'name', companies[i]['name'])\n",
    "    set_key(companies_dict, 'founded_year', companies[i]['founded_year'])\n",
    "    set_key(companies_dict, 'category_code', companies[i]['category_code'])\n",
    "    set_key(companies_dict, 'total_money_raised', companies[i]['total_money_raised'])\n",
    "    set_key(companies_dict, 'deadpooled_year', companies[i]['deadpooled_year'])"
   ]
  },
  {
   "cell_type": "code",
   "execution_count": null,
   "metadata": {},
   "outputs": [],
   "source": [
    "# print(len(companies_dict['id'])) # 14082\n",
    "# print(len(companies_dict['name'])) # 14082\n",
    "# print(len(companies_dict['founded_year'])) # 14082\n",
    "# print(len(companies_dict['category_code'])) # 14082\n",
    "# print(len(companies_dict['total_money_raised'])) # 14082\n",
    "# print(len(companies_dict['deadpooled_year'])) # 14082\n",
    "# print(companies_dict.keys())"
   ]
  },
  {
   "cell_type": "code",
   "execution_count": 144,
   "metadata": {},
   "outputs": [],
   "source": [
    "companies_df = pd.DataFrame.from_dict(companies_dict)"
   ]
  },
  {
   "cell_type": "code",
   "execution_count": 145,
   "metadata": {},
   "outputs": [
    {
     "data": {
      "text/html": [
       "<div>\n",
       "<style scoped>\n",
       "    .dataframe tbody tr th:only-of-type {\n",
       "        vertical-align: middle;\n",
       "    }\n",
       "\n",
       "    .dataframe tbody tr th {\n",
       "        vertical-align: top;\n",
       "    }\n",
       "\n",
       "    .dataframe thead th {\n",
       "        text-align: right;\n",
       "    }\n",
       "</style>\n",
       "<table border=\"1\" class=\"dataframe\">\n",
       "  <thead>\n",
       "    <tr style=\"text-align: right;\">\n",
       "      <th></th>\n",
       "      <th>_id</th>\n",
       "      <th>name</th>\n",
       "      <th>founded_year</th>\n",
       "      <th>category_code</th>\n",
       "      <th>total_money_raised</th>\n",
       "      <th>deadpooled_year</th>\n",
       "    </tr>\n",
       "  </thead>\n",
       "  <tbody>\n",
       "    <tr>\n",
       "      <th>0</th>\n",
       "      <td>52cdef7c4bab8bd675297d8b</td>\n",
       "      <td>AdventNet</td>\n",
       "      <td>1996.0</td>\n",
       "      <td>enterprise</td>\n",
       "      <td>$0</td>\n",
       "      <td>2.0</td>\n",
       "    </tr>\n",
       "    <tr>\n",
       "      <th>1</th>\n",
       "      <td>52cdef7c4bab8bd675297d8c</td>\n",
       "      <td>Zoho</td>\n",
       "      <td>2005.0</td>\n",
       "      <td>software</td>\n",
       "      <td>$0</td>\n",
       "      <td>3.0</td>\n",
       "    </tr>\n",
       "    <tr>\n",
       "      <th>2</th>\n",
       "      <td>52cdef7c4bab8bd675297d8a</td>\n",
       "      <td>Wetpaint</td>\n",
       "      <td>2005.0</td>\n",
       "      <td>web</td>\n",
       "      <td>$39.8M</td>\n",
       "      <td>1.0</td>\n",
       "    </tr>\n",
       "    <tr>\n",
       "      <th>3</th>\n",
       "      <td>52cdef7c4bab8bd675297d8d</td>\n",
       "      <td>Digg</td>\n",
       "      <td>2004.0</td>\n",
       "      <td>news</td>\n",
       "      <td>$45M</td>\n",
       "      <td>NaN</td>\n",
       "    </tr>\n",
       "    <tr>\n",
       "      <th>4</th>\n",
       "      <td>52cdef7c4bab8bd675297d91</td>\n",
       "      <td>Geni</td>\n",
       "      <td>2006.0</td>\n",
       "      <td>web</td>\n",
       "      <td>$16.5M</td>\n",
       "      <td>NaN</td>\n",
       "    </tr>\n",
       "    <tr>\n",
       "      <th>5</th>\n",
       "      <td>52cdef7c4bab8bd675297d90</td>\n",
       "      <td>Postini</td>\n",
       "      <td>1999.0</td>\n",
       "      <td>web</td>\n",
       "      <td>$0</td>\n",
       "      <td>NaN</td>\n",
       "    </tr>\n",
       "    <tr>\n",
       "      <th>6</th>\n",
       "      <td>52cdef7c4bab8bd675297d92</td>\n",
       "      <td>Flektor</td>\n",
       "      <td>NaN</td>\n",
       "      <td>games_video</td>\n",
       "      <td>$0</td>\n",
       "      <td>NaN</td>\n",
       "    </tr>\n",
       "    <tr>\n",
       "      <th>7</th>\n",
       "      <td>52cdef7c4bab8bd675297d93</td>\n",
       "      <td>Fox Interactive Media</td>\n",
       "      <td>1979.0</td>\n",
       "      <td>web</td>\n",
       "      <td>$0</td>\n",
       "      <td>NaN</td>\n",
       "    </tr>\n",
       "    <tr>\n",
       "      <th>8</th>\n",
       "      <td>52cdef7c4bab8bd675297d96</td>\n",
       "      <td>Gizmoz</td>\n",
       "      <td>2003.0</td>\n",
       "      <td>web</td>\n",
       "      <td>$18.1M</td>\n",
       "      <td>NaN</td>\n",
       "    </tr>\n",
       "    <tr>\n",
       "      <th>9</th>\n",
       "      <td>52cdef7c4bab8bd675297d98</td>\n",
       "      <td>Slacker</td>\n",
       "      <td>2006.0</td>\n",
       "      <td>music</td>\n",
       "      <td>$73.1M</td>\n",
       "      <td>NaN</td>\n",
       "    </tr>\n",
       "  </tbody>\n",
       "</table>\n",
       "</div>"
      ],
      "text/plain": [
       "                        _id                   name  founded_year  \\\n",
       "0  52cdef7c4bab8bd675297d8b              AdventNet        1996.0   \n",
       "1  52cdef7c4bab8bd675297d8c                   Zoho        2005.0   \n",
       "2  52cdef7c4bab8bd675297d8a               Wetpaint        2005.0   \n",
       "3  52cdef7c4bab8bd675297d8d                   Digg        2004.0   \n",
       "4  52cdef7c4bab8bd675297d91                   Geni        2006.0   \n",
       "5  52cdef7c4bab8bd675297d90                Postini        1999.0   \n",
       "6  52cdef7c4bab8bd675297d92                Flektor           NaN   \n",
       "7  52cdef7c4bab8bd675297d93  Fox Interactive Media        1979.0   \n",
       "8  52cdef7c4bab8bd675297d96                 Gizmoz        2003.0   \n",
       "9  52cdef7c4bab8bd675297d98                Slacker        2006.0   \n",
       "\n",
       "  category_code total_money_raised  deadpooled_year  \n",
       "0    enterprise                 $0              2.0  \n",
       "1      software                 $0              3.0  \n",
       "2           web             $39.8M              1.0  \n",
       "3          news               $45M              NaN  \n",
       "4           web             $16.5M              NaN  \n",
       "5           web                 $0              NaN  \n",
       "6   games_video                 $0              NaN  \n",
       "7           web                 $0              NaN  \n",
       "8           web             $18.1M              NaN  \n",
       "9         music             $73.1M              NaN  "
      ]
     },
     "execution_count": 145,
     "metadata": {},
     "output_type": "execute_result"
    }
   ],
   "source": [
    "companies_df.head(10)"
   ]
  },
  {
   "cell_type": "code",
   "execution_count": 128,
   "metadata": {},
   "outputs": [],
   "source": [
    "num_offices = []\n",
    "for i in range(len(companies)):\n",
    "    num_offices.append(len(companies[i]['offices']))\n",
    "# print(len(num_offices)) # 14082\n",
    "# max(num_offices) # 12\n",
    "companies_df['num_offices'] = num_offices"
   ]
  },
  {
   "cell_type": "code",
   "execution_count": 130,
   "metadata": {},
   "outputs": [],
   "source": [
    "for i in range(max(num_offices)):\n",
    "    companies_df[f'office_{i+1}_longitude'] = [np.nan] * len(num_offices)\n",
    "    companies_df[f'office_{i+1}_latitude'] = [np.nan] * len(num_offices)\n",
    "    companies_df[f'office_{i+1}_location'] = [{}] * len(num_offices)"
   ]
  },
  {
   "cell_type": "code",
   "execution_count": 131,
   "metadata": {},
   "outputs": [
    {
     "data": {
      "text/plain": [
       "14082"
      ]
     },
     "execution_count": 131,
     "metadata": {},
     "output_type": "execute_result"
    }
   ],
   "source": [
    "companies_data = []\n",
    "for i in range(len(companies)):\n",
    "    if len(companies[i]['offices'])==0:\n",
    "        companies_data.append([[0, np.nan, np.nan]])\n",
    "    elif len(companies[i]['offices'])>0:\n",
    "        aux_offices = []\n",
    "        for j in range(len(companies[i]['offices'])):\n",
    "            aux_offices.append([j+1, companies[i]['offices'][j]['latitude'],\n",
    "                                companies[i]['offices'][j]['longitude']])\n",
    "        companies_data.append(aux_offices)\n",
    "len(companies_data)"
   ]
  },
  {
   "cell_type": "code",
   "execution_count": 132,
   "metadata": {},
   "outputs": [],
   "source": [
    "for i in range(len(companies_data)):\n",
    "    for j in range(len(companies_data[i])):\n",
    "        if companies_data[i][j][0] != 0:\n",
    "            companies_df.at[i, f'office_{j+1}_longitude'] = companies_data[i][j][2]\n",
    "            companies_df.at[i, f'office_{j+1}_latitude'] = companies_data[i][j][1]"
   ]
  },
  {
   "cell_type": "code",
   "execution_count": 133,
   "metadata": {},
   "outputs": [],
   "source": [
    "def getLocation(longitude,latitude):\n",
    "    loc = {\n",
    "        'type':'Point',\n",
    "        'coordinates':[longitude, latitude]\n",
    "    }\n",
    "    return loc"
   ]
  },
  {
   "cell_type": "code",
   "execution_count": 135,
   "metadata": {},
   "outputs": [],
   "source": [
    "for i in range(len(companies_data)):\n",
    "    for j in range(len(companies_data[i])):\n",
    "        if companies_data[i][j][0] != 0:\n",
    "            companies_df.at[i, f'office_{j+1}_location'] = getLocation(companies_df.at[i, f'office_{j+1}_longitude'],\n",
    "                                                                       companies_df.at[i, f'office_{j+1}_latitude'])"
   ]
  },
  {
   "cell_type": "code",
   "execution_count": null,
   "metadata": {},
   "outputs": [],
   "source": [
    "# Nobody in the company likes to have companies with more than 10 years in a radius of 2 KM.\n",
    "# Developers like to be near successful tech startups that have raised at least 1 Million dollars.\n",
    "# Designers like to go to design talks and share knowledge. There must be some nearby companies that also do design.\n",
    "# 30% of the company have at least 1 child.\n",
    "# Executives like Starbucks A LOT. Ensure there's a starbucks not to far.\n",
    "# Account managers need to travel a lot\n",
    "# All people in the company have between 25 and 40 years, give them some place to go to party.\n",
    "# The CEO is Vegan"
   ]
  },
  {
   "cell_type": "code",
   "execution_count": null,
   "metadata": {},
   "outputs": [],
   "source": [
    "# Nobody in the company likes to have companies with more than 10 years in a radius of 2 KM.\n",
    "\n",
    "\n",
    "\n",
    "\n",
    "# {founded_year:{$gt: 2009}} # 146\n",
    "# {founded_year:{$lte: 2009}} # 12990 (no quieres tenerlas cerca)\n",
    "# Año en que quebraron\n",
    "\n",
    "# https://stackoverflow.com/questions/19412462/getting-distance-between-two-points-based-on-latitude-longitude/43211266#43211266\n",
    "# import geopy.distance\n",
    "# coords_1 = (52.2296756, 21.0122287)\n",
    "# coords_2 = (52.406374, 16.9251681)\n",
    "# print geopy.distance.vincenty(coords_1, coords_2).km\n",
    "\n",
    "# Al parecer hay tambien un operador near en mongodb (lo tenemos en los apuntes,\n",
    "# poner primero el field de la manera que lo quier Mongo)\n",
    "\n",
    "# Tabla limpia a mongo Db para hacer querys?"
   ]
  },
  {
   "cell_type": "code",
   "execution_count": null,
   "metadata": {},
   "outputs": [],
   "source": [
    "# Developers like to be near successful tech startups that have raised at least 1 Million dollars.\n",
    "# category_code\n",
    "# founded_year\n",
    "# total_money_raised (o dentro de las rondas: funding_rounds -> raised_amount & raised_currency_code)\n",
    "# ipo.valuation_amount # no vale para startups -> Dinero por el que salen a bolsa\n",
    "# Año en que quebraron, porque si quebraron no hay que tenerlas en cuenta"
   ]
  }
 ],
 "metadata": {
  "kernelspec": {
   "display_name": "Python 3",
   "language": "python",
   "name": "python3"
  },
  "language_info": {
   "codemirror_mode": {
    "name": "ipython",
    "version": 3
   },
   "file_extension": ".py",
   "mimetype": "text/x-python",
   "name": "python",
   "nbconvert_exporter": "python",
   "pygments_lexer": "ipython3",
   "version": "3.7.3"
  }
 },
 "nbformat": 4,
 "nbformat_minor": 2
}
