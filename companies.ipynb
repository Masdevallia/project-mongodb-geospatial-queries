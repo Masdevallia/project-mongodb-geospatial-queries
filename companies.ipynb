{
 "cells": [
  {
   "cell_type": "code",
   "execution_count": 1,
   "metadata": {},
   "outputs": [],
   "source": [
    "from pymongo import MongoClient"
   ]
  },
  {
   "cell_type": "code",
   "execution_count": 2,
   "metadata": {},
   "outputs": [],
   "source": [
    "def connectCollection(database, collection):\n",
    "    client = MongoClient()\n",
    "    db = client[database]\n",
    "    coll = db[collection]\n",
    "    return db, coll"
   ]
  },
  {
   "cell_type": "code",
   "execution_count": 3,
   "metadata": {},
   "outputs": [],
   "source": [
    "db, coll = connectCollection('companies','companies')"
   ]
  },
  {
   "cell_type": "code",
   "execution_count": 28,
   "metadata": {},
   "outputs": [],
   "source": [
    "# companies = list(coll.find()) # 18801\n",
    "\n",
    "# La query en compass es: {$or:[{\"offices.latitude\":{$ne:null}},{\"offices.longitude\":{$ne:null}}]}\n",
    "\n",
    "companies = list(coll.find({'$or':[{\"offices.latitude\":{'$ne':None}},{\"offices.longitude\":{'$ne':None}}]})) # 14082"
   ]
  },
  {
   "cell_type": "code",
   "execution_count": 29,
   "metadata": {},
   "outputs": [
    {
     "data": {
      "text/plain": [
       "14082"
      ]
     },
     "execution_count": 29,
     "metadata": {},
     "output_type": "execute_result"
    }
   ],
   "source": [
    "len(companies) # 14082"
   ]
  },
  {
   "cell_type": "code",
   "execution_count": 32,
   "metadata": {},
   "outputs": [
    {
     "data": {
      "text/plain": [
       "{'_id': ObjectId('52cdef7c4bab8bd675297d8b'),\n",
       " 'name': 'AdventNet',\n",
       " 'permalink': 'abc3',\n",
       " 'crunchbase_url': 'http://www.crunchbase.com/company/adventnet',\n",
       " 'homepage_url': 'http://adventnet.com',\n",
       " 'blog_url': '',\n",
       " 'blog_feed_url': '',\n",
       " 'twitter_username': 'manageengine',\n",
       " 'category_code': 'enterprise',\n",
       " 'number_of_employees': 600,\n",
       " 'founded_year': 1996,\n",
       " 'deadpooled_year': 2,\n",
       " 'tag_list': '',\n",
       " 'alias_list': 'Zoho ManageEngine ',\n",
       " 'email_address': 'pr@adventnet.com',\n",
       " 'phone_number': '925-924-9500',\n",
       " 'description': 'Server Management Software',\n",
       " 'created_at': datetime.datetime(2007, 5, 25, 19, 24, 22),\n",
       " 'updated_at': 'Wed Oct 31 18:26:09 UTC 2012',\n",
       " 'overview': '<p>AdventNet is now <a href=\"/company/zoho-manageengine\" title=\"Zoho ManageEngine\" rel=\"nofollow\">Zoho ManageEngine</a>.</p>\\n\\n<p>Founded in 1996, AdventNet has served a diverse range of enterprise IT, networking and telecom customers.</p>\\n\\n<p>AdventNet supplies server and network management software.</p>',\n",
       " 'image': {'available_sizes': [[[150, 55],\n",
       "    'assets/images/resized/0001/9732/19732v1-max-150x150.png'],\n",
       "   [[150, 55], 'assets/images/resized/0001/9732/19732v1-max-250x250.png'],\n",
       "   [[150, 55], 'assets/images/resized/0001/9732/19732v1-max-450x450.png']]},\n",
       " 'products': [],\n",
       " 'relationships': [{'is_past': True,\n",
       "   'title': 'CEO and Co-Founder',\n",
       "   'person': {'first_name': 'Sridhar',\n",
       "    'last_name': 'Vembu',\n",
       "    'permalink': 'sridhar-vembu'}},\n",
       "  {'is_past': True,\n",
       "   'title': 'VP of Business Dev',\n",
       "   'person': {'first_name': 'Neil',\n",
       "    'last_name': 'Butani',\n",
       "    'permalink': 'neil-butani'}},\n",
       "  {'is_past': True,\n",
       "   'title': 'Usabiliy Engineer',\n",
       "   'person': {'first_name': 'Bharath',\n",
       "    'last_name': 'Balasubramanian',\n",
       "    'permalink': 'bharath-balasibramanian'}},\n",
       "  {'is_past': True,\n",
       "   'title': 'Director of Engineering',\n",
       "   'person': {'first_name': 'Rajendran',\n",
       "    'last_name': 'Dandapani',\n",
       "    'permalink': 'rajendran-dandapani'}},\n",
       "  {'is_past': True,\n",
       "   'title': 'Market Analyst',\n",
       "   'person': {'first_name': 'Aravind',\n",
       "    'last_name': 'Natarajan',\n",
       "    'permalink': 'aravind-natarajan'}},\n",
       "  {'is_past': True,\n",
       "   'title': 'Director of Product Management',\n",
       "   'person': {'first_name': 'Hyther',\n",
       "    'last_name': 'Nizam',\n",
       "    'permalink': 'hyther-nizam'}},\n",
       "  {'is_past': True,\n",
       "   'title': 'Western Regional OEM Sales Manager',\n",
       "   'person': {'first_name': 'Ian',\n",
       "    'last_name': 'Wenig',\n",
       "    'permalink': 'ian-wenig'}}],\n",
       " 'competitions': [],\n",
       " 'providerships': [{'title': 'DHFH',\n",
       "   'is_past': True,\n",
       "   'provider': {'name': 'A Small Orange', 'permalink': 'a-small-orange'}}],\n",
       " 'total_money_raised': '$0',\n",
       " 'funding_rounds': [],\n",
       " 'investments': [],\n",
       " 'acquisition': None,\n",
       " 'acquisitions': [],\n",
       " 'offices': [{'description': 'Headquarters',\n",
       "   'address1': '4900 Hopyard Rd.',\n",
       "   'address2': 'Suite 310',\n",
       "   'zip_code': '94588',\n",
       "   'city': 'Pleasanton',\n",
       "   'state_code': 'CA',\n",
       "   'country_code': 'USA',\n",
       "   'latitude': 37.692934,\n",
       "   'longitude': -121.904945}],\n",
       " 'milestones': [],\n",
       " 'video_embeds': [],\n",
       " 'screenshots': [{'available_sizes': [[[150, 94],\n",
       "     'assets/images/resized/0004/3400/43400v1-max-150x150.png'],\n",
       "    [[250, 156], 'assets/images/resized/0004/3400/43400v1-max-250x250.png'],\n",
       "    [[450, 282], 'assets/images/resized/0004/3400/43400v1-max-450x450.png']],\n",
       "   'attribution': None}],\n",
       " 'external_links': [],\n",
       " 'partners': []}"
      ]
     },
     "execution_count": 32,
     "metadata": {},
     "output_type": "execute_result"
    }
   ],
   "source": [
    "companies[0]"
   ]
  },
  {
   "cell_type": "code",
   "execution_count": 40,
   "metadata": {},
   "outputs": [],
   "source": [
    "companies_data = []\n",
    "for i in range(len(companies)):\n",
    "    aux_dict = {}\n",
    "    aux_dict['_id'] = companies[i]['_id']\n",
    "    aux_dict['name'] = companies[i]['name']\n",
    "    aux_dict['founded_year'] = companies[i]['founded_year']\n",
    "    aux_dict['category_code'] = companies[i]['category_code']\n",
    "    aux_dict['total_money_raised'] = companies[i]['total_money_raised']\n",
    "    aux_dict['deadpooled_year'] = companies[i]['deadpooled_year']        \n",
    "    # aux_dict['latitude'] = companies[i]['offices'][0]['latitude']\n",
    "    # aux_dict['longitude'] = companies[i]['offices'][0]['longitude']\n",
    "    if len(companies[i]['offices'])>0:\n",
    "        aux_offices = []\n",
    "        for j in range(len(companies[i]['offices'])):\n",
    "            aux_offices.append([j+1, companies[i]['offices'][j]['latitude'],\n",
    "                                companies[i]['offices'][j]['longitude']])\n",
    "        aux_dict['offices'] = aux_offices\n",
    "    companies_data.append(aux_dict)"
   ]
  },
  {
   "cell_type": "code",
   "execution_count": 41,
   "metadata": {},
   "outputs": [],
   "source": [
    "# En database crear una columna por oficina"
   ]
  },
  {
   "cell_type": "code",
   "execution_count": 42,
   "metadata": {},
   "outputs": [],
   "source": [
    "# ?\n",
    "# city\n",
    "# country_code"
   ]
  },
  {
   "cell_type": "code",
   "execution_count": 43,
   "metadata": {},
   "outputs": [
    {
     "data": {
      "text/plain": [
       "14082"
      ]
     },
     "execution_count": 43,
     "metadata": {},
     "output_type": "execute_result"
    }
   ],
   "source": [
    "len(companies_data) # 14082"
   ]
  },
  {
   "cell_type": "code",
   "execution_count": 50,
   "metadata": {},
   "outputs": [
    {
     "data": {
      "text/plain": [
       "{'_id': ObjectId('52cdef7c4bab8bd675297d8b'),\n",
       " 'name': 'AdventNet',\n",
       " 'founded_year': 1996,\n",
       " 'category_code': 'enterprise',\n",
       " 'total_money_raised': '$0',\n",
       " 'deadpooled_year': 2,\n",
       " 'offices': [[1, 37.692934, -121.904945]]}"
      ]
     },
     "execution_count": 50,
     "metadata": {},
     "output_type": "execute_result"
    }
   ],
   "source": [
    "companies_data[0]"
   ]
  },
  {
   "cell_type": "code",
   "execution_count": 52,
   "metadata": {},
   "outputs": [
    {
     "data": {
      "text/plain": [
       "{'type': 'Point', 'coordinates': [-121.904945, 37.692934]}"
      ]
     },
     "execution_count": 52,
     "metadata": {},
     "output_type": "execute_result"
    }
   ],
   "source": [
    "# Solo la primera oficina de cada compañía:\n",
    "def getLocation(company):\n",
    "    longitude = company['offices'][0][2]\n",
    "    latitude = company['offices'][0][1]\n",
    "    loc = {\n",
    "        'type':'Point',\n",
    "        'coordinates':[longitude, latitude]\n",
    "    }\n",
    "    return loc\n",
    "\n",
    "getLocation(companies_data[0])\n",
    "\n",
    "# for e in companies_data:\n",
    "    # getLocation(companies_data[e])"
   ]
  },
  {
   "cell_type": "code",
   "execution_count": null,
   "metadata": {},
   "outputs": [],
   "source": [
    "# Nobody in the company likes to have companies with more than 10 years in a radius of 2 KM.\n",
    "# Developers like to be near successful tech startups that have raised at least 1 Million dollars.\n",
    "# Designers like to go to design talks and share knowledge. There must be some nearby companies that also do design.\n",
    "# 30% of the company have at least 1 child.\n",
    "# Executives like Starbucks A LOT. Ensure there's a starbucks not to far.\n",
    "# Account managers need to travel a lot\n",
    "# All people in the company have between 25 and 40 years, give them some place to go to party.\n",
    "# The CEO is Vegan"
   ]
  },
  {
   "cell_type": "code",
   "execution_count": null,
   "metadata": {},
   "outputs": [],
   "source": [
    "# Nobody in the company likes to have companies with more than 10 years in a radius of 2 KM.\n",
    "\n",
    "# {founded_year:{$gt: 2009}} # 146\n",
    "# {founded_year:{$lte: 2009}} # 12990 (no quieres tenerlas cerca)\n",
    "# Año en que quebraron\n",
    "\n",
    "# https://stackoverflow.com/questions/19412462/getting-distance-between-two-points-based-on-latitude-longitude/43211266#43211266\n",
    "# import geopy.distance\n",
    "# coords_1 = (52.2296756, 21.0122287)\n",
    "# coords_2 = (52.406374, 16.9251681)\n",
    "# print geopy.distance.vincenty(coords_1, coords_2).km\n",
    "\n",
    "# Al parecer hay tambien un operador near en mongodb (lo tenemos en los apuntes,\n",
    "# poner primero el field de la manera que lo quier Mongo)\n",
    "\n",
    "# Tabla limpia a mongo Db para hacer querys?"
   ]
  },
  {
   "cell_type": "code",
   "execution_count": null,
   "metadata": {},
   "outputs": [],
   "source": [
    "# Developers like to be near successful tech startups that have raised at least 1 Million dollars.\n",
    "# category_code\n",
    "# founded_year\n",
    "# total_money_raised (o dentro de las rondas: funding_rounds -> raised_amount & raised_currency_code)\n",
    "# ipo.valuation_amount # no vale para startups -> Dinero por el que salen a bolsa\n",
    "# Año en que quebraron, porque si quebraron no hay que tenerlas en cuenta"
   ]
  }
 ],
 "metadata": {
  "kernelspec": {
   "display_name": "Python 3",
   "language": "python",
   "name": "python3"
  },
  "language_info": {
   "codemirror_mode": {
    "name": "ipython",
    "version": 3
   },
   "file_extension": ".py",
   "mimetype": "text/x-python",
   "name": "python",
   "nbconvert_exporter": "python",
   "pygments_lexer": "ipython3",
   "version": "3.7.3"
  }
 },
 "nbformat": 4,
 "nbformat_minor": 2
}
