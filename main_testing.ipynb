{
 "cells": [
  {
   "cell_type": "code",
   "execution_count": 1,
   "metadata": {},
   "outputs": [],
   "source": [
    "# Importing packages:\n",
    "import folium\n",
    "import random\n",
    "import fontawesome as fa\n",
    "from src.CleanFilter import *\n",
    "from src.api import *\n",
    "from src.mongodb import *\n",
    "\n",
    "# Importin data:\n",
    "df = pd.read_csv('./input/companies_df.csv', low_memory = False)\n",
    "cols = ['_id', 'name', 'founded_year', 'category_code','deadpooled_year', 'total_money_raised_USD', 'num_offices',\n",
    " 'office_1_longitude','office_1_latitude', 'office_1_location', 'office_1_city','office_1_state_code',\n",
    " 'office_1_country_code']\n",
    "df = df[cols]\n",
    "\n",
    "# Importing database and collection:\n",
    "db, coll = connectCollection('companies','companies_cleaned')\n",
    "companies = list(coll.find())\n",
    "\n",
    "########################################################################################################\n",
    "\n",
    "# Developers like to be near successful tech startups that have raised at least n (1 Million) dollars\n",
    "\n",
    "inputmoney = 1000000\n",
    "# inputmoney = 500000\n",
    "\n",
    "successful_tech_startups = list(coll.find({'$and':[{'$or':[\n",
    "        {'category_code':'semiconductor'},{'category_code':'network_hosting'},{'category_code':'consulting'},\n",
    "        {'category_code':'design'},{'category_code':'hardware'},{'category_code':'nanotech'},\n",
    "        {'category_code':'mobile'},{'category_code':'games_video'},{'category_code':'cleantech'},\n",
    "        {'category_code':'software'},{'category_code':'analytics'},{'category_code':'web'},\n",
    "        {'category_code':'biotech'}]},\n",
    "    {'deadpooled_year': np.nan},{'founded_year':{'$gte':1999}},{'total_money_raised_USD':{'$gte':inputmoney}}]}))\n",
    "\n",
    "possible_offices_criterion_1 = []\n",
    "for e in successful_tech_startups:\n",
    "    near_companies = getCompaniesNear(e['office_1_location']['coordinates'][0],\n",
    "                                      e['office_1_location']['coordinates'][1],2000)\n",
    "    # [near_companies[i] for i in range(len(near_companies)) if near_companies[i]['name'] == e['name']]\n",
    "    # [near_companies[i] for i in range(len(near_companies)) if near_companies[i]['name'] != e['name']]\n",
    "    for f in near_companies:\n",
    "        if f['_id'] != e['name']:\n",
    "            possible_offices_criterion_1.append(f['_id'])\n",
    "\n",
    "possible_offices_c1 = list(set(possible_offices_criterion_1))"
   ]
  },
  {
   "cell_type": "code",
   "execution_count": 2,
   "metadata": {},
   "outputs": [],
   "source": [
    "# Nobody in the company likes to have companies with more than n (10?) years in a radius of 2 KM\n",
    "\n",
    "inputyears= 13\n",
    "old_companies = list(coll.find({'$and':[{'deadpooled_year': np.nan},{'founded_year':{'$lte':2019-inputyears}}]}))\n",
    "\n",
    "not_possible_offices_criterion_2 = []\n",
    "for e in old_companies:\n",
    "    near_companies = getCompaniesNear(e['office_1_location']['coordinates'][0],\n",
    "                                      e['office_1_location']['coordinates'][1],2000)\n",
    "    for f in near_companies:\n",
    "        if f['_id'] != e['name']:\n",
    "            not_possible_offices_criterion_2.append(f['_id'])\n",
    "\n",
    "not_possible_offices_c2 = list(set(not_possible_offices_criterion_2))"
   ]
  },
  {
   "cell_type": "code",
   "execution_count": 3,
   "metadata": {},
   "outputs": [],
   "source": [
    "# Taking into account both criteria:\n",
    "\n",
    "possible_offices_c1_c2 = []\n",
    "for e in possible_offices_c1:\n",
    "    if e not in not_possible_offices_c2:\n",
    "        possible_offices_c1_c2.append(e)        \n",
    "possible_offices_c1_c2_to_string = [str(e) for e in possible_offices_c1_c2]\n",
    "\n",
    "# possible_offices_c1_c2_coords = []\n",
    "# for f in possible_offices_c1_c2:\n",
    "    # for e in companies:\n",
    "       # if e['_id'] == f:\n",
    "           # possible_offices_c1_c2_coords.append(e['office_1_location'])\n",
    "\n",
    "possible_offices_c1_c2_coords = getOfficesCoords(possible_offices_c1_c2, companies)"
   ]
  },
  {
   "cell_type": "code",
   "execution_count": 4,
   "metadata": {},
   "outputs": [],
   "source": [
    "# Executives like Starbucks A LOT. Ensure there's a starbucks not to far\n",
    "\n",
    "starbucks_list = venuesListByQuery(possible_offices_c1_c2_coords, possible_offices_c1_c2, 'starbucks', 1000)\n",
    "cleaned_starbucks_list = cleanVenueList(starbucks_list)\n",
    "\n",
    "# cleaned_starbucks_list = []\n",
    "# for i in range(len(starbucks_list)):\n",
    "    # if len(starbucks_list[i][1]['response']['venues']) > 0:\n",
    "        # cleaned_starbucks_list.append([starbucks_list[i][0],\n",
    "                                       # starbucks_list[i][1]['response']['venues'][0]['location']['lat'],\n",
    "                                       # starbucks_list[i][1]['response']['venues'][0]['location']['lng'],\n",
    "                                       # starbucks_list[i][1]['response']['venues'][0]['location']['distance'],\n",
    "                                       # starbucks_list[i][1]['response']['venues'][0]['location']['formattedAddress']])\n",
    "                \n",
    "possible_offices_c1_c2_c3 = [e[0] for e in cleaned_starbucks_list]\n",
    "possible_offices_c1_c2_c3_to_string = [str(e) for e in possible_offices_c1_c2_c3]\n",
    "possible_offices_c1_c2_c3_coords = getOfficesCoords(possible_offices_c1_c2_c3, companies)\n",
    "\n",
    "# possible_offices_c1_c2_c3_coords = []\n",
    "# for f in possible_offices_c1_c2_c3:\n",
    "    # for e in companies:\n",
    "        # if e['_id'] == f:\n",
    "            # possible_offices_c1_c2_c3_coords.append(e['office_1_location'])"
   ]
  },
  {
   "cell_type": "code",
   "execution_count": 5,
   "metadata": {},
   "outputs": [],
   "source": [
    "# The CEO is Vegan\n",
    "\n",
    "# vegan_list = venuesListByQuery(possible_offices_c1_c2_c3_coords, possible_offices_c1_c2_c3, 'vegan', 1000)\n",
    "vegan_list = venuesListByCategory(possible_offices_c1_c2_c3_coords, possible_offices_c1_c2_c3,\n",
    "             '4bf58dd8d48988d1d3941735', 1000)"
   ]
  },
  {
   "cell_type": "code",
   "execution_count": 28,
   "metadata": {},
   "outputs": [],
   "source": [
    "# i = 1\n",
    "# vegan_list[i][1]['response']['venues']\n",
    "# [len(e[1]['response']['venues']) for e in vegan_list]"
   ]
  },
  {
   "cell_type": "code",
   "execution_count": 6,
   "metadata": {},
   "outputs": [],
   "source": [
    "cleaned_vegan_list = cleanVenueList(vegan_list)\n",
    "\n",
    "# cleaned_vegan_list = []\n",
    "# for i in range(len(vegan_list)):\n",
    "    # if len(vegan_list[i][1]['response']['venues']) > 0:\n",
    "        # cleaned_vegan_list.append([vegan_list[i][0],\n",
    "                                   # vegan_list[i][1]['response']['venues'][0]['location']['lat'],\n",
    "                                   # vegan_list[i][1]['response']['venues'][0]['location']['lng'],\n",
    "                                   # vegan_list[i][1]['response']['venues'][0]['location']['distance'],\n",
    "                                   # vegan_list[i][1]['response']['venues'][0]['location']['formattedAddress'],\n",
    "                                   # vegan_list[i][1]['response']['venues'][0]['name']])"
   ]
  },
  {
   "cell_type": "code",
   "execution_count": 7,
   "metadata": {},
   "outputs": [],
   "source": [
    "possible_offices_c1_c2_c3_c4 = [e[0] for e in cleaned_vegan_list]\n",
    "possible_offices_c1_c2_c3_c4_to_string = [str(e) for e in possible_offices_c1_c2_c3_c4]\n",
    "possible_offices_c1_c2_c3_c4_coords = getOfficesCoords(possible_offices_c1_c2_c3_c4, companies)\n",
    "\n",
    "# possible_offices_c1_c2_c3_c4_coords = []\n",
    "# for f in possible_offices_c1_c2_c3_c4:\n",
    "    # for e in companies:\n",
    "        # if e['_id'] == f:\n",
    "            # possible_offices_c1_c2_c3_c4_coords.append(e['office_1_location'])"
   ]
  },
  {
   "cell_type": "code",
   "execution_count": 8,
   "metadata": {},
   "outputs": [
    {
     "data": {
      "text/plain": [
       "21"
      ]
     },
     "execution_count": 8,
     "metadata": {},
     "output_type": "execute_result"
    }
   ],
   "source": [
    "len(possible_offices_c1_c2_c3_c4_coords)"
   ]
  },
  {
   "cell_type": "code",
   "execution_count": 9,
   "metadata": {},
   "outputs": [],
   "source": [
    "# All people in the company have between 25 and 40 years, give them some place to go to party\n",
    "party_list = venuesListByCategory(possible_offices_c1_c2_c3_c4_coords, possible_offices_c1_c2_c3_c4,\n",
    " '4bf58dd8d48988d11f941735', 1000)\n",
    "cleaned_party_list = cleanVenueList(party_list)\n",
    "possible_offices_c1_c2_c3_c4_c5 = [e[0] for e in cleaned_party_list]\n",
    "possible_offices_c1_c2_c3_c4_c5_to_string = [str(e) for e in possible_offices_c1_c2_c3_c4_c5]\n",
    "possible_offices_c1_c2_c3_c4_c5_coords = getOfficesCoords(possible_offices_c1_c2_c3_c4_c5, companies)"
   ]
  },
  {
   "cell_type": "code",
   "execution_count": 10,
   "metadata": {},
   "outputs": [
    {
     "data": {
      "text/plain": [
       "16"
      ]
     },
     "execution_count": 10,
     "metadata": {},
     "output_type": "execute_result"
    }
   ],
   "source": [
    "len(possible_offices_c1_c2_c3_c4_c5_coords)"
   ]
  },
  {
   "cell_type": "code",
   "execution_count": 11,
   "metadata": {},
   "outputs": [],
   "source": [
    "# Account managers need to travel a lot (Airport < 25 km)\n",
    "airport_list = venuesListByCategory(possible_offices_c1_c2_c3_c4_c5_coords, possible_offices_c1_c2_c3_c4_c5,\n",
    " '4bf58dd8d48988d1ed931735', 25000)\n",
    "cleaned_airport_list = cleanVenueList(airport_list)\n",
    "possible_offices_c1_c2_c3_c4_c5_c6 = [e[0] for e in cleaned_airport_list]\n",
    "possible_offices_c1_c2_c3_c4_c5_c6_to_string = [str(e) for e in possible_offices_c1_c2_c3_c4_c5_c6]\n",
    "possible_offices_c1_c2_c3_c4_c5_c6_coords = getOfficesCoords(possible_offices_c1_c2_c3_c4_c5_c6, companies)"
   ]
  },
  {
   "cell_type": "code",
   "execution_count": 12,
   "metadata": {},
   "outputs": [
    {
     "data": {
      "text/plain": [
       "4"
      ]
     },
     "execution_count": 12,
     "metadata": {},
     "output_type": "execute_result"
    }
   ],
   "source": [
    "len(possible_offices_c1_c2_c3_c4_c5_c6_coords)"
   ]
  },
  {
   "cell_type": "code",
   "execution_count": 13,
   "metadata": {},
   "outputs": [],
   "source": [
    "# 30% of the company have at least 1 child (Schools < 5 km)\n",
    "school_list = venuesListByCategory(possible_offices_c1_c2_c3_c4_c5_c6_coords, \n",
    "possible_offices_c1_c2_c3_c4_c5_c6,\n",
    " ['4f4533804b9074f6e4fb0105', '4bf58dd8d48988d13d941735','52e81612bcbc57f1066b7a46',\n",
    " '52e81612bcbc57f1066b7a45','4f4533814b9074f6e4fb0107','4f4533814b9074f6e4fb0106'], 5000)\n",
    "cleaned_school_list = cleanVenueList(school_list)\n",
    "possible_offices_c1_c2_c3_c4_c5_c6_c7 = [e[0] for e in cleaned_school_list]\n",
    "possible_offices_c1_c2_c3_c4_c5_c6_c7_to_string = [str(e) for e in possible_offices_c1_c2_c3_c4_c5_c6_c7]\n",
    "possible_offices_c1_c2_c3_c4_c5_c6_c7_coords = getOfficesCoords(possible_offices_c1_c2_c3_c4_c5_c6_c7, companies)"
   ]
  },
  {
   "cell_type": "code",
   "execution_count": 14,
   "metadata": {},
   "outputs": [
    {
     "data": {
      "text/plain": [
       "2"
      ]
     },
     "execution_count": 14,
     "metadata": {},
     "output_type": "execute_result"
    }
   ],
   "source": [
    "len(possible_offices_c1_c2_c3_c4_c5_c6_c7_coords)"
   ]
  },
  {
   "cell_type": "code",
   "execution_count": 15,
   "metadata": {},
   "outputs": [],
   "source": [
    "# Filtered DF:\n",
    "indexs = []\n",
    "for i in range(len(df)):\n",
    "    if df['_id'][i] in possible_offices_c1_c2_c3_c4_c5_c6_c7_to_string:\n",
    "        indexs.append(i)\n",
    "df_filtered = df.iloc[indexs]"
   ]
  },
  {
   "cell_type": "code",
   "execution_count": 16,
   "metadata": {},
   "outputs": [
    {
     "data": {
      "text/html": [
       "<div>\n",
       "<style scoped>\n",
       "    .dataframe tbody tr th:only-of-type {\n",
       "        vertical-align: middle;\n",
       "    }\n",
       "\n",
       "    .dataframe tbody tr th {\n",
       "        vertical-align: top;\n",
       "    }\n",
       "\n",
       "    .dataframe thead th {\n",
       "        text-align: right;\n",
       "    }\n",
       "</style>\n",
       "<table border=\"1\" class=\"dataframe\">\n",
       "  <thead>\n",
       "    <tr style=\"text-align: right;\">\n",
       "      <th></th>\n",
       "      <th>_id</th>\n",
       "      <th>name</th>\n",
       "      <th>founded_year</th>\n",
       "      <th>category_code</th>\n",
       "      <th>deadpooled_year</th>\n",
       "      <th>total_money_raised_USD</th>\n",
       "      <th>num_offices</th>\n",
       "      <th>office_1_longitude</th>\n",
       "      <th>office_1_latitude</th>\n",
       "      <th>office_1_location</th>\n",
       "      <th>office_1_city</th>\n",
       "      <th>office_1_state_code</th>\n",
       "      <th>office_1_country_code</th>\n",
       "    </tr>\n",
       "  </thead>\n",
       "  <tbody>\n",
       "    <tr>\n",
       "      <th>669</th>\n",
       "      <td>52cdef7c4bab8bd6752980be</td>\n",
       "      <td>Cyberhomes</td>\n",
       "      <td>NaN</td>\n",
       "      <td>web</td>\n",
       "      <td>NaN</td>\n",
       "      <td>0.0</td>\n",
       "      <td>1</td>\n",
       "      <td>-81.674745</td>\n",
       "      <td>30.318112</td>\n",
       "      <td>{'type': 'Point', 'coordinates': [-81.674745, ...</td>\n",
       "      <td>Jacksonville</td>\n",
       "      <td>FL</td>\n",
       "      <td>USA</td>\n",
       "    </tr>\n",
       "    <tr>\n",
       "      <th>1920</th>\n",
       "      <td>52cdef7c4bab8bd675298835</td>\n",
       "      <td>TutorByTxt</td>\n",
       "      <td>2008.0</td>\n",
       "      <td>mobile</td>\n",
       "      <td>NaN</td>\n",
       "      <td>0.0</td>\n",
       "      <td>1</td>\n",
       "      <td>-0.217662</td>\n",
       "      <td>51.489160</td>\n",
       "      <td>{'type': 'Point', 'coordinates': [-0.217662, 5...</td>\n",
       "      <td>London</td>\n",
       "      <td>NaN</td>\n",
       "      <td>GBR</td>\n",
       "    </tr>\n",
       "  </tbody>\n",
       "</table>\n",
       "</div>"
      ],
      "text/plain": [
       "                           _id        name  founded_year category_code  \\\n",
       "669   52cdef7c4bab8bd6752980be  Cyberhomes           NaN           web   \n",
       "1920  52cdef7c4bab8bd675298835  TutorByTxt        2008.0        mobile   \n",
       "\n",
       "      deadpooled_year  total_money_raised_USD  num_offices  \\\n",
       "669               NaN                     0.0            1   \n",
       "1920              NaN                     0.0            1   \n",
       "\n",
       "      office_1_longitude  office_1_latitude  \\\n",
       "669           -81.674745          30.318112   \n",
       "1920           -0.217662          51.489160   \n",
       "\n",
       "                                      office_1_location office_1_city  \\\n",
       "669   {'type': 'Point', 'coordinates': [-81.674745, ...  Jacksonville   \n",
       "1920  {'type': 'Point', 'coordinates': [-0.217662, 5...        London   \n",
       "\n",
       "     office_1_state_code office_1_country_code  \n",
       "669                   FL                   USA  \n",
       "1920                 NaN                   GBR  "
      ]
     },
     "execution_count": 16,
     "metadata": {},
     "output_type": "execute_result"
    }
   ],
   "source": [
    "df_filtered"
   ]
  },
  {
   "cell_type": "code",
   "execution_count": 17,
   "metadata": {},
   "outputs": [],
   "source": [
    "# Folium map:\n",
    "\n",
    "# Select one random row:\n",
    "rowindex = random.choice(range(0,len(df_filtered)))\n",
    "e = [df_filtered.iloc[rowindex][8], df_filtered.iloc[rowindex][7]]\n",
    "\n",
    "lat_long_starbucks = getLatLongVenue(cleaned_starbucks_list, df_filtered, rowindex)\n",
    "distance_starbucks = getDistanceVenue(cleaned_starbucks_list, df_filtered, rowindex)\n",
    "lat_long_vegan = getLatLongVenue(cleaned_vegan_list, df_filtered, rowindex)\n",
    "distance_vegan = getDistanceVenue(cleaned_vegan_list, df_filtered, rowindex)\n",
    "name_vegan = getNameVenue(cleaned_vegan_list, df_filtered, rowindex)\n",
    "\n",
    "# lat_long_starbucks = []\n",
    "# distance_starbucks = 0\n",
    "# for i in range(len(cleaned_starbucks_list)):\n",
    "    # if str(cleaned_starbucks_list[i][0]) == df_filtered.iloc[rowindex][0]:\n",
    "        # lat_long_starbucks.append(cleaned_starbucks_list[i][1])\n",
    "        # lat_long_starbucks.append(cleaned_starbucks_list[i][2])\n",
    "        # distance_starbucks += cleaned_starbucks_list[i][3]\n",
    "\n",
    "# lat_long_vegan = []\n",
    "# distance_vegan = 0\n",
    "# name_vegan = ''\n",
    "# for i in range(len(cleaned_vegan_list)):\n",
    "    # if str(cleaned_vegan_list[i][0]) == df_filtered.iloc[rowindex][0]:\n",
    "        # lat_long_vegan.append(cleaned_vegan_list[i][1])\n",
    "        # lat_long_vegan.append(cleaned_vegan_list[i][2])\n",
    "        # distance_vegan += cleaned_vegan_list[i][3]\n",
    "        # name_vegan += cleaned_vegan_list[i][5]"
   ]
  },
  {
   "cell_type": "code",
   "execution_count": 23,
   "metadata": {},
   "outputs": [],
   "source": [
    "lat_long_party = getLatLongVenue(cleaned_party_list, df_filtered, rowindex)\n",
    "distance_party = getDistanceVenue(cleaned_party_list, df_filtered, rowindex)\n",
    "name_party = getNameVenue(cleaned_party_list, df_filtered, rowindex)\n",
    "\n",
    "lat_long_airport = getLatLongVenue(cleaned_airport_list, df_filtered, rowindex)\n",
    "distance_airport = getDistanceVenue(cleaned_airport_list, df_filtered, rowindex)\n",
    "name_airport = getNameVenue(cleaned_airport_list, df_filtered, rowindex)\n",
    "\n",
    "lat_long_school = getLatLongVenue(cleaned_school_list, df_filtered, rowindex)\n",
    "distance_school = getDistanceVenue(cleaned_school_list, df_filtered, rowindex)\n",
    "name_school = getNameVenue(cleaned_school_list, df_filtered, rowindex)"
   ]
  },
  {
   "cell_type": "code",
   "execution_count": 26,
   "metadata": {},
   "outputs": [
    {
     "name": "stdout",
     "output_type": "stream",
     "text": [
      "The perfect location for your business is in Jacksonville, USA.\n",
      "You don't have companies with more than 13 years in a radius of 2 KM (blue circle).\n",
      "The office is near successful tech startups that have raised at least 1000000 dollars.\n",
      "Your employees will find a Starbucks just 943 meters from the office.\n",
      "The vegan restaurant 'Community Loaves' can be found just 216 meters from the office.\n",
      "Party mood? You will find the nightclub called 'Incahoots Night Club' just 357 meters from the office.\n",
      "If you need to travel often, there is no problem. You have an airport (Florida Times-Union's Helipad) just 821 meters from the office.\n",
      "And if that were not enough, your children could go to school (Boredies) just 735 meters from the office.\n"
     ]
    }
   ],
   "source": [
    "# Output:\n",
    "print(f\"The perfect location for your business is in {df_filtered.iloc[rowindex][10]}, {df_filtered.iloc[rowindex][12]}.\")\n",
    "print(f\"You don't have companies with more than {inputyears} years in a radius of 2 KM (blue circle).\")\n",
    "print(f\"The office is near successful tech startups that have raised at least {inputmoney} dollars.\")\n",
    "print(f\"Your employees will find a Starbucks just {distance_starbucks} meters from the office.\")\n",
    "print(f\"The vegan restaurant '{name_vegan}' can be found just {distance_vegan} meters from the office.\")\n",
    "print(f\"Party mood? You will find the night club called '{name_party}' just {distance_party} meters from the office.\")\n",
    "print(f\"If you need to travel often, there is no problem. You have an airport ({name_airport}) just {distance_airport} meters from the office.\")\n",
    "print(f\"And if that were not enough, your children could go to school ({name_school}) just {distance_school} meters from the office.\")\n"
   ]
  },
  {
   "cell_type": "code",
   "execution_count": 42,
   "metadata": {},
   "outputs": [
    {
     "data": {
      "text/html": [
       "<div style=\"width:100%;\"><div style=\"position:relative;width:100%;height:0;padding-bottom:60%;\"><iframe src=\"data:text/html;charset=utf-8;base64,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\" style=\"position:absolute;width:100%;height:100%;left:0;top:0;border:none !important;\" allowfullscreen webkitallowfullscreen mozallowfullscreen></iframe></div></div>"
      ],
      "text/plain": [
       "<folium.folium.Map at 0x1cfca99b4e0>"
      ]
     },
     "execution_count": 42,
     "metadata": {},
     "output_type": "execute_result"
    }
   ],
   "source": [
    "tooltip = 'Click me!'\n",
    "map_city = folium.Map(location = e, zoom_start=14)\n",
    "folium.Circle(radius=2000,location=e,popup='Old companies free zone',color='#3186cc',\n",
    "    fill=True,fill_color='#3186cc').add_to(map_city)\n",
    "folium.Marker(lat_long_starbucks,radius=2,icon=folium.Icon(\n",
    "    icon='coffee', prefix='fa',color='orange'),popup='Starbucks',\n",
    "    tooltip=tooltip).add_to(map_city)\n",
    "folium.Marker(lat_long_vegan,radius=2,icon=folium.Icon(\n",
    "    icon='cutlery',color='green'),popup=f\"Vegan restaurant: '{name_vegan}'\",\n",
    "    tooltip=tooltip).add_to(map_city)\n",
    "folium.Marker(lat_long_party,radius=2,icon=folium.Icon(\n",
    "    icon='glass',color='purple'),popup=f\"Night club: '{name_party}'\",\n",
    "    tooltip=tooltip).add_to(map_city)\n",
    "folium.Marker(lat_long_airport,radius=2,icon=folium.Icon(\n",
    "    icon='plane', prefix='fa',color='blue'),popup=f\"Airport: '{name_airport}'\",\n",
    "    tooltip=tooltip).add_to(map_city)\n",
    "folium.Marker(lat_long_school,radius=2,icon=folium.Icon(\n",
    "    icon='graduation-cap', prefix='fa',color='gray'),popup=f\"School: '{name_school}'\",\n",
    "    tooltip=tooltip).add_to(map_city)\n",
    "folium.Marker(e,radius=2,icon=folium.Icon(\n",
    "    icon='briefcase', color='red'),popup='<b>Perfect location for your business</b>',\n",
    "    tooltip=tooltip).add_to(map_city)\n",
    "map_city\n",
    "# map_city.save('./output/map.html')"
   ]
  },
  {
   "cell_type": "code",
   "execution_count": null,
   "metadata": {},
   "outputs": [],
   "source": []
  }
 ],
 "metadata": {
  "kernelspec": {
   "display_name": "Python 3",
   "language": "python",
   "name": "python3"
  },
  "language_info": {
   "codemirror_mode": {
    "name": "ipython",
    "version": 3
   },
   "file_extension": ".py",
   "mimetype": "text/x-python",
   "name": "python",
   "nbconvert_exporter": "python",
   "pygments_lexer": "ipython3",
   "version": "3.7.3"
  }
 },
 "nbformat": 4,
 "nbformat_minor": 2
}
