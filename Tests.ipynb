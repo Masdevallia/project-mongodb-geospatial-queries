{
 "cells": [
  {
   "cell_type": "code",
   "execution_count": 7,
   "metadata": {},
   "outputs": [],
   "source": [
    "# Importing packages:\n",
    "from src.CleanFilter import *\n",
    "from src.api import *\n",
    "from src.mongodb import *\n",
    "from src.input import *\n",
    "from src.output import *\n",
    "\n",
    "# Importin data:\n",
    "df = pd.read_csv('./input/companies_df.csv', low_memory = False)\n",
    "df2 = pd.read_json('./input/cleaned_companies.json')\n",
    "\n",
    "cols = ['_id', 'name', 'founded_year', 'category_code','deadpooled_year', 'total_money_raised_USD', 'num_offices',\n",
    " 'office_1_longitude','office_1_latitude', 'office_1_location', 'office_1_city','office_1_state_code',\n",
    " 'office_1_country_code']\n",
    "df = df[cols]\n",
    "df2 = df2[cols]"
   ]
  },
  {
   "cell_type": "code",
   "execution_count": null,
   "metadata": {},
   "outputs": [],
   "source": []
  }
 ],
 "metadata": {
  "kernelspec": {
   "display_name": "Python 3",
   "language": "python",
   "name": "python3"
  },
  "language_info": {
   "codemirror_mode": {
    "name": "ipython",
    "version": 3
   },
   "file_extension": ".py",
   "mimetype": "text/x-python",
   "name": "python",
   "nbconvert_exporter": "python",
   "pygments_lexer": "ipython3",
   "version": "3.7.3"
  }
 },
 "nbformat": 4,
 "nbformat_minor": 2
}
