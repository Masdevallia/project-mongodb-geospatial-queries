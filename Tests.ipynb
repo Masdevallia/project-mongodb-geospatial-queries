{
 "cells": [
  {
   "cell_type": "code",
   "execution_count": 168,
   "metadata": {},
   "outputs": [
    {
     "name": "stdout",
     "output_type": "stream",
     "text": [
      "Please wait...\n",
      "\n",
      "    ----------------------------------------------------------------------------------------------------\n",
      "                                FIND THE PERFECT LOCATION FOR YOUR COMPANY              \n",
      "    ----------------------------------------------------------------------------------------------------\n",
      "    \n",
      "\n",
      "\n",
      "    \n",
      "        Developers like to be near successful tech startups that have raised at least (n) dollars.\n",
      "    ----------------------------------------------------------------------------------------------------\n",
      "    \n",
      "\n",
      "        What amount of money should they have raised?\n",
      "        Please enter a valid integer, without thousands separator.\n",
      "        Example: For 1 million dollars, enter: 1000000\n",
      "\n",
      "    \n",
      "n = 1000000\n",
      "Please wait...\n"
     ]
    }
   ],
   "source": [
    "\n",
    "print('Please wait...')\n",
    "\n",
    "# Importing packages:\n",
    "from src.CleanFilter import *\n",
    "from src.api import *\n",
    "from src.mongodb import *\n",
    "from src.input import *\n",
    "from src.output import *\n",
    "\n",
    "title()\n",
    "\n",
    "# Importin data:\n",
    "df = pd.read_csv('./input/companies_df.csv', low_memory = False)\n",
    "cols = ['_id', 'name', 'founded_year', 'category_code','deadpooled_year', 'total_money_raised_USD', 'num_offices',\n",
    " 'office_1_longitude','office_1_latitude', 'office_1_location', 'office_1_city','office_1_state_code',\n",
    " 'office_1_country_code']\n",
    "df = df[cols]\n",
    "\n",
    "# Importing database and collection:\n",
    "db, coll = connectCollection('companies','companies_cleaned')\n",
    "companies = list(coll.find())\n",
    "\n",
    "########################################################################################################\n",
    "\n",
    "# Developers like to be near successful tech startups that have raised at least n (1 Million) dollars\n",
    "# inputmoney = 1000000\n",
    "\n",
    "input_money()\n",
    "while True:\n",
    "    inputmoney = input('n = ')\n",
    "    try:\n",
    "        inputmoney = int(inputmoney)\n",
    "        break\n",
    "    except ValueError:\n",
    "        print('Please enter a valid integer')\n",
    "        continue\n",
    "print('Please wait...')\n",
    "\n",
    "successful_tech_startups = list(coll.find({'$and':[{'$or':[\n",
    "        {'category_code':'semiconductor'},{'category_code':'network_hosting'},{'category_code':'consulting'},\n",
    "        {'category_code':'design'},{'category_code':'hardware'},{'category_code':'nanotech'},\n",
    "        {'category_code':'mobile'},{'category_code':'games_video'},{'category_code':'cleantech'},\n",
    "        {'category_code':'software'},{'category_code':'analytics'},{'category_code':'web'},\n",
    "        {'category_code':'biotech'}]},\n",
    "    {'deadpooled_year': np.nan},{'founded_year':{'$gte':1999}},{'total_money_raised_USD':{'$gte':inputmoney}}]}))\n",
    "\n",
    "startups_and_near_companies = []\n",
    "possible_offices_criterion_1 = []\n",
    "for e in successful_tech_startups:\n",
    "    near_companies = getCompaniesNear(e['office_1_location']['coordinates'][0],\n",
    "                                      e['office_1_location']['coordinates'][1],2000)\n",
    "    aux = []\n",
    "    aux.append([e['_id'], e['name'], e['founded_year'], e['category_code'], e['total_money_raised'], \n",
    "          e['office_1_longitude'], e['office_1_latitude']])\n",
    "    aux.append([near_companies[i] for i in range(len(near_companies)) if near_companies[i]['name'] != e['name']])    \n",
    "    startups_and_near_companies.append(aux)\n",
    "    for f in near_companies:\n",
    "        if f['_id'] != e['name']:\n",
    "            possible_offices_criterion_1.append(f['_id'])\n",
    "possible_offices_c1 = list(set(possible_offices_criterion_1))"
   ]
  },
  {
   "cell_type": "code",
   "execution_count": 170,
   "metadata": {},
   "outputs": [
    {
     "data": {
      "text/plain": [
       "4798"
      ]
     },
     "execution_count": 170,
     "metadata": {},
     "output_type": "execute_result"
    }
   ],
   "source": [
    "len(possible_offices_c1)"
   ]
  },
  {
   "cell_type": "code",
   "execution_count": 171,
   "metadata": {},
   "outputs": [
    {
     "name": "stdout",
     "output_type": "stream",
     "text": [
      "\n",
      "\n",
      "\n",
      "        Nobody in the company likes to have companies with more than (n) years in a radius of 2 KM.\n",
      "    ----------------------------------------------------------------------------------------------------\n",
      "    \n",
      "\n",
      "        How old can these companies be at most?\n",
      "        Please enter a valid integer.\n",
      "        Example: For 10 years, enter: 10\n",
      "    \n",
      "    \n",
      "n = 12\n",
      "Please wait...\n"
     ]
    }
   ],
   "source": [
    "\n",
    "# Nobody in the company likes to have companies with more than n (10) years in a radius of 2 KM\n",
    "# inputyears= 10\n",
    "\n",
    "input_year()\n",
    "\n",
    "while True:\n",
    "    inputyears = input('n = ')\n",
    "    try:\n",
    "        inputyears = int(inputyears)\n",
    "        break\n",
    "    except ValueError:\n",
    "        print('Please enter a valid integer')\n",
    "        continue\n",
    "\n",
    "print('Please wait...')\n",
    "\n",
    "old_companies = list(coll.find({'$and':[{'deadpooled_year': np.nan},{'founded_year':{'$lte':2019-inputyears}}]}))\n",
    "\n",
    "not_possible_offices_criterion_2 = []\n",
    "for e in old_companies:\n",
    "    near_companies = getCompaniesNear(e['office_1_location']['coordinates'][0],\n",
    "                                      e['office_1_location']['coordinates'][1],2000)\n",
    "    for f in near_companies:\n",
    "        if f['_id'] != e['name']:\n",
    "            not_possible_offices_criterion_2.append(f['_id'])\n",
    "\n",
    "not_possible_offices_c2 = list(set(not_possible_offices_criterion_2))\n"
   ]
  },
  {
   "cell_type": "code",
   "execution_count": 172,
   "metadata": {},
   "outputs": [
    {
     "data": {
      "text/plain": [
       "7912"
      ]
     },
     "execution_count": 172,
     "metadata": {},
     "output_type": "execute_result"
    }
   ],
   "source": [
    "len(not_possible_offices_c2)"
   ]
  },
  {
   "cell_type": "code",
   "execution_count": 173,
   "metadata": {},
   "outputs": [],
   "source": [
    "# Taking into account both criteria:\n",
    "possible_offices_c1_c2 = valuesInCommon(possible_offices_c1, not_possible_offices_c2)\n",
    "possible_offices_c1_c2_to_string = [str(e) for e in possible_offices_c1_c2]\n",
    "possible_offices_c1_c2_coords = getOfficesCoords(possible_offices_c1_c2, companies)"
   ]
  },
  {
   "cell_type": "code",
   "execution_count": 174,
   "metadata": {},
   "outputs": [
    {
     "data": {
      "text/plain": [
       "30"
      ]
     },
     "execution_count": 174,
     "metadata": {},
     "output_type": "execute_result"
    }
   ],
   "source": [
    "len(possible_offices_c1_c2)"
   ]
  },
  {
   "cell_type": "code",
   "execution_count": 194,
   "metadata": {},
   "outputs": [
    {
     "data": {
      "text/plain": [
       "[ObjectId('52cdef7f4bab8bd67529bfb3'),\n",
       " ObjectId('52cdef7f4bab8bd67529c2d0'),\n",
       " ObjectId('52cdef7e4bab8bd67529bd0c'),\n",
       " ObjectId('52cdef7d4bab8bd6752995b1'),\n",
       " ObjectId('52cdef7e4bab8bd67529b279'),\n",
       " ObjectId('52cdef7d4bab8bd675299c4f'),\n",
       " ObjectId('52cdef7e4bab8bd67529afed'),\n",
       " ObjectId('52cdef7d4bab8bd67529993b'),\n",
       " ObjectId('52cdef7e4bab8bd67529bbec'),\n",
       " ObjectId('52cdef7f4bab8bd67529bda4'),\n",
       " ObjectId('52cdef7d4bab8bd67529a00e'),\n",
       " ObjectId('52cdef7d4bab8bd675299b49'),\n",
       " ObjectId('52cdef7c4bab8bd675298644'),\n",
       " ObjectId('52cdef7c4bab8bd675298232'),\n",
       " ObjectId('52cdef7d4bab8bd675299da8'),\n",
       " ObjectId('52cdef7d4bab8bd675298ce2'),\n",
       " ObjectId('52cdef7d4bab8bd675299115'),\n",
       " ObjectId('52cdef7f4bab8bd67529c040'),\n",
       " ObjectId('52cdef7d4bab8bd6752997bf'),\n",
       " ObjectId('52cdef7f4bab8bd67529c00d'),\n",
       " ObjectId('52cdef7d4bab8bd67529a171'),\n",
       " ObjectId('52cdef7d4bab8bd67529a0d1'),\n",
       " ObjectId('52cdef7c4bab8bd6752980be'),\n",
       " ObjectId('52cdef7d4bab8bd675298f4a'),\n",
       " ObjectId('52cdef7f4bab8bd67529c5b8'),\n",
       " ObjectId('52cdef7d4bab8bd67529950e'),\n",
       " ObjectId('52cdef7c4bab8bd6752986aa'),\n",
       " ObjectId('52cdef7f4bab8bd67529c1ad'),\n",
       " ObjectId('52cdef7c4bab8bd675297f9e'),\n",
       " ObjectId('52cdef7d4bab8bd675299cbf')]"
      ]
     },
     "execution_count": 194,
     "metadata": {},
     "output_type": "execute_result"
    }
   ],
   "source": [
    "possible_offices_c1_c2"
   ]
  },
  {
   "cell_type": "code",
   "execution_count": 175,
   "metadata": {},
   "outputs": [
    {
     "name": "stdout",
     "output_type": "stream",
     "text": [
      "\n",
      "\n",
      "\n",
      "                                Account managers need to travel a lot.\n",
      "    ----------------------------------------------------------------------------------------------------\n",
      "    \n",
      "\n",
      "                            Please wait. We are collecting some information...\n",
      "    \n"
     ]
    }
   ],
   "source": [
    "# Account managers need to travel a lot (Airport < 20 km)\n",
    "input_airport()\n",
    "airports_df = pd.read_csv('./input/airports.csv', header=None,usecols=[1,2,3,4,6,7,12], \n",
    "                          names=['FacilityName', 'City', 'Country','3CharCode','Lat','Long','FacilityType'])\n",
    "airports_df = airports_df[airports_df['FacilityType']=='airport']\n",
    "airports_df.reset_index(drop=True, inplace=True)\n",
    "\n",
    "distances = []\n",
    "for e in possible_offices_c1_c2_coords:\n",
    "    coords_1 = (e['coordinates'][1], e['coordinates'][0])\n",
    "    dist = []\n",
    "    for i in range(len(airports_df)):\n",
    "        coords_2 = (airports_df.at[i,'Lat'],airports_df.at[i,'Long'])\n",
    "        dist.append(geopy.distance.geodesic(coords_1, coords_2).km)\n",
    "    distances.append(dist)    \n",
    "\n",
    "office_airports = []\n",
    "for i in range(len(distances)):\n",
    "    aux = []\n",
    "    aux.append(possible_offices_c1_c2[i])\n",
    "    for j in range(len(distances[i])):\n",
    "        if distances[i][j] <= 20:\n",
    "            aux.append([airports_df.at[j,'FacilityName'],\n",
    "                        distances[i][j],\n",
    "                        airports_df.at[j,'Lat'],\n",
    "                        airports_df.at[j,'Long']])\n",
    "    office_airports.append(aux)\n",
    "\n",
    "possible_offices_c1_c2_c3 = []\n",
    "for e in office_airports:\n",
    "    if len(e) >= 2:\n",
    "        possible_offices_c1_c2_c3.append(e[0])\n",
    "\n",
    "possible_offices_c1_c2_c3_to_string = [str(e) for e in possible_offices_c1_c2_c3]\n",
    "possible_offices_c1_c2_c3_coords = getOfficesCoords(possible_offices_c1_c2_c3, companies)\n"
   ]
  },
  {
   "cell_type": "code",
   "execution_count": 176,
   "metadata": {},
   "outputs": [
    {
     "data": {
      "text/plain": [
       "28"
      ]
     },
     "execution_count": 176,
     "metadata": {},
     "output_type": "execute_result"
    }
   ],
   "source": [
    "len(possible_offices_c1_c2_c3)"
   ]
  },
  {
   "cell_type": "code",
   "execution_count": 195,
   "metadata": {},
   "outputs": [
    {
     "data": {
      "text/plain": [
       "[ObjectId('52cdef7f4bab8bd67529bfb3'),\n",
       " ObjectId('52cdef7d4bab8bd6752995b1'),\n",
       " ObjectId('52cdef7e4bab8bd67529b279'),\n",
       " ObjectId('52cdef7d4bab8bd675299c4f'),\n",
       " ObjectId('52cdef7e4bab8bd67529afed'),\n",
       " ObjectId('52cdef7d4bab8bd67529993b'),\n",
       " ObjectId('52cdef7e4bab8bd67529bbec'),\n",
       " ObjectId('52cdef7f4bab8bd67529bda4'),\n",
       " ObjectId('52cdef7d4bab8bd67529a00e'),\n",
       " ObjectId('52cdef7d4bab8bd675299b49'),\n",
       " ObjectId('52cdef7c4bab8bd675298644'),\n",
       " ObjectId('52cdef7c4bab8bd675298232'),\n",
       " ObjectId('52cdef7d4bab8bd675299da8'),\n",
       " ObjectId('52cdef7d4bab8bd675298ce2'),\n",
       " ObjectId('52cdef7d4bab8bd675299115'),\n",
       " ObjectId('52cdef7f4bab8bd67529c040'),\n",
       " ObjectId('52cdef7d4bab8bd6752997bf'),\n",
       " ObjectId('52cdef7f4bab8bd67529c00d'),\n",
       " ObjectId('52cdef7d4bab8bd67529a171'),\n",
       " ObjectId('52cdef7d4bab8bd67529a0d1'),\n",
       " ObjectId('52cdef7c4bab8bd6752980be'),\n",
       " ObjectId('52cdef7d4bab8bd675298f4a'),\n",
       " ObjectId('52cdef7f4bab8bd67529c5b8'),\n",
       " ObjectId('52cdef7d4bab8bd67529950e'),\n",
       " ObjectId('52cdef7c4bab8bd6752986aa'),\n",
       " ObjectId('52cdef7f4bab8bd67529c1ad'),\n",
       " ObjectId('52cdef7c4bab8bd675297f9e'),\n",
       " ObjectId('52cdef7d4bab8bd675299cbf')]"
      ]
     },
     "execution_count": 195,
     "metadata": {},
     "output_type": "execute_result"
    }
   ],
   "source": [
    "possible_offices_c1_c2_c3"
   ]
  },
  {
   "cell_type": "code",
   "execution_count": 177,
   "metadata": {},
   "outputs": [
    {
     "name": "stdout",
     "output_type": "stream",
     "text": [
      "\n",
      "\n",
      "\n",
      "                    Executives like Starbucks A LOT. Ensure there's a Starbucks not to far.\n",
      "    ----------------------------------------------------------------------------------------------------\n",
      "    \n",
      "\n",
      "                            Please wait. We are collecting some information...\n",
      "    \n"
     ]
    }
   ],
   "source": [
    "\n",
    "# Executives like Starbucks A LOT. Ensure there's a starbucks not to far\n",
    "input_starbucks()\n",
    "starbucks_list = venuesListByQuery(possible_offices_c1_c2_c3_coords, possible_offices_c1_c2_c3,\n",
    "                                  'starbucks', 1000)\n",
    "cleaned_starbucks_list = cleanVenueList(starbucks_list)              \n",
    "possible_offices_c1_c2_c3_c4 = [e[0] for e in cleaned_starbucks_list]\n",
    "possible_offices_c1_c2_c3_c4_to_string = [str(e) for e in possible_offices_c1_c2_c3_c4]\n",
    "possible_offices_c1_c2_c3_c4_coords = getOfficesCoords(possible_offices_c1_c2_c3_c4, companies)\n"
   ]
  },
  {
   "cell_type": "code",
   "execution_count": 178,
   "metadata": {},
   "outputs": [
    {
     "data": {
      "text/plain": [
       "15"
      ]
     },
     "execution_count": 178,
     "metadata": {},
     "output_type": "execute_result"
    }
   ],
   "source": [
    "len(possible_offices_c1_c2_c3_c4_coords)"
   ]
  },
  {
   "cell_type": "code",
   "execution_count": 196,
   "metadata": {},
   "outputs": [
    {
     "data": {
      "text/plain": [
       "[ObjectId('52cdef7d4bab8bd6752995b1'),\n",
       " ObjectId('52cdef7e4bab8bd67529b279'),\n",
       " ObjectId('52cdef7d4bab8bd675299c4f'),\n",
       " ObjectId('52cdef7e4bab8bd67529afed'),\n",
       " ObjectId('52cdef7d4bab8bd67529993b'),\n",
       " ObjectId('52cdef7d4bab8bd67529a00e'),\n",
       " ObjectId('52cdef7d4bab8bd675299b49'),\n",
       " ObjectId('52cdef7d4bab8bd675299115'),\n",
       " ObjectId('52cdef7d4bab8bd6752997bf'),\n",
       " ObjectId('52cdef7d4bab8bd67529a171'),\n",
       " ObjectId('52cdef7d4bab8bd67529a0d1'),\n",
       " ObjectId('52cdef7c4bab8bd6752980be'),\n",
       " ObjectId('52cdef7d4bab8bd67529950e'),\n",
       " ObjectId('52cdef7c4bab8bd6752986aa'),\n",
       " ObjectId('52cdef7f4bab8bd67529c1ad')]"
      ]
     },
     "execution_count": 196,
     "metadata": {},
     "output_type": "execute_result"
    }
   ],
   "source": [
    "possible_offices_c1_c2_c3_c4"
   ]
  },
  {
   "cell_type": "code",
   "execution_count": 179,
   "metadata": {},
   "outputs": [
    {
     "name": "stdout",
     "output_type": "stream",
     "text": [
      "\n",
      "\n",
      "\n",
      "                                        The CEO is Vegan.\n",
      "    ----------------------------------------------------------------------------------------------------\n",
      "    \n",
      "\n",
      "                            Please wait. We are collecting some information...\n",
      "    \n"
     ]
    }
   ],
   "source": [
    "\n",
    "# The CEO is Vegan\n",
    "input_vegan()\n",
    "# vegan_list = venuesListByQuery(possible_offices_c1_c2_c3_c4_coords, possible_offices_c1_c2_c3_c4, 'vegan', 1000)\n",
    "vegan_list = venuesListByCategory(possible_offices_c1_c2_c3_c4_coords, possible_offices_c1_c2_c3_c4,\n",
    "             '4bf58dd8d48988d1d3941735', 1000)\n",
    "cleaned_vegan_list = cleanVenueList(vegan_list)\n",
    "possible_offices_c1_c2_c3_c4_c5 = [e[0] for e in cleaned_vegan_list]\n",
    "possible_offices_c1_c2_c3_c4_c5_to_string = [str(e) for e in possible_offices_c1_c2_c3_c4_c5]\n",
    "possible_offices_c1_c2_c3_c4_c5_coords = getOfficesCoords(possible_offices_c1_c2_c3_c4_c5, companies)\n"
   ]
  },
  {
   "cell_type": "code",
   "execution_count": 180,
   "metadata": {},
   "outputs": [
    {
     "data": {
      "text/plain": [
       "5"
      ]
     },
     "execution_count": 180,
     "metadata": {},
     "output_type": "execute_result"
    }
   ],
   "source": [
    "len(possible_offices_c1_c2_c3_c4_c5_coords)"
   ]
  },
  {
   "cell_type": "code",
   "execution_count": 197,
   "metadata": {},
   "outputs": [
    {
     "data": {
      "text/plain": [
       "[ObjectId('52cdef7e4bab8bd67529afed'),\n",
       " ObjectId('52cdef7d4bab8bd675299115'),\n",
       " ObjectId('52cdef7d4bab8bd67529a0d1'),\n",
       " ObjectId('52cdef7c4bab8bd6752980be'),\n",
       " ObjectId('52cdef7c4bab8bd6752986aa')]"
      ]
     },
     "execution_count": 197,
     "metadata": {},
     "output_type": "execute_result"
    }
   ],
   "source": [
    "possible_offices_c1_c2_c3_c4_c5"
   ]
  },
  {
   "cell_type": "code",
   "execution_count": 181,
   "metadata": {},
   "outputs": [
    {
     "name": "stdout",
     "output_type": "stream",
     "text": [
      "\n",
      "\n",
      "\n",
      "        All people in the company have between 25 and 40 years, give them some place to go to party.\n",
      "    ----------------------------------------------------------------------------------------------------\n",
      "    \n",
      "\n",
      "                            Please wait. We are collecting some information...\n",
      "    \n"
     ]
    }
   ],
   "source": [
    "# All people in the company have between 25 and 40 years, give them some place to go to party\n",
    "input_party()\n",
    "party_list = venuesListByCategory(possible_offices_c1_c2_c3_c4_c5_coords, possible_offices_c1_c2_c3_c4_c5,\n",
    " '4bf58dd8d48988d11f941735', 1000)\n",
    "cleaned_party_list = cleanVenueList(party_list)\n",
    "possible_offices_c1_c2_c3_c4_c5_c6 = [e[0] for e in cleaned_party_list]\n",
    "possible_offices_c1_c2_c3_c4_c5_c6_to_string = [str(e) for e in possible_offices_c1_c2_c3_c4_c5_c6]\n",
    "possible_offices_c1_c2_c3_c4_c5_c6_coords = getOfficesCoords(possible_offices_c1_c2_c3_c4_c5_c6, companies)\n"
   ]
  },
  {
   "cell_type": "code",
   "execution_count": 182,
   "metadata": {},
   "outputs": [
    {
     "data": {
      "text/plain": [
       "4"
      ]
     },
     "execution_count": 182,
     "metadata": {},
     "output_type": "execute_result"
    }
   ],
   "source": [
    "len(possible_offices_c1_c2_c3_c4_c5_c6_coords)"
   ]
  },
  {
   "cell_type": "code",
   "execution_count": 198,
   "metadata": {},
   "outputs": [
    {
     "data": {
      "text/plain": [
       "[ObjectId('52cdef7d4bab8bd675299115'),\n",
       " ObjectId('52cdef7d4bab8bd67529a0d1'),\n",
       " ObjectId('52cdef7c4bab8bd6752980be'),\n",
       " ObjectId('52cdef7c4bab8bd6752986aa')]"
      ]
     },
     "execution_count": 198,
     "metadata": {},
     "output_type": "execute_result"
    }
   ],
   "source": [
    "possible_offices_c1_c2_c3_c4_c5_c6"
   ]
  },
  {
   "cell_type": "code",
   "execution_count": 183,
   "metadata": {},
   "outputs": [
    {
     "name": "stdout",
     "output_type": "stream",
     "text": [
      "\n",
      "\n",
      "    \n",
      "                                30% of the company have at least 1 child.\n",
      "    ----------------------------------------------------------------------------------------------------\n",
      "    \n",
      "\n",
      "                            Please wait. We are collecting some information...\n",
      "    \n"
     ]
    }
   ],
   "source": [
    "\n",
    "# 30% of the company have at least 1 child (Schools < 5 km)\n",
    "input_school()\n",
    "school_list = venuesListByCategory(possible_offices_c1_c2_c3_c4_c5_c6_coords, \n",
    "possible_offices_c1_c2_c3_c4_c5_c6,\n",
    " ['4f4533804b9074f6e4fb0105', '4bf58dd8d48988d13d941735','52e81612bcbc57f1066b7a46',\n",
    " '52e81612bcbc57f1066b7a45','4f4533814b9074f6e4fb0107','4f4533814b9074f6e4fb0106'], 5000)\n",
    "cleaned_school_list = cleanVenueList(school_list)\n",
    "possible_offices_c1_c2_c3_c4_c5_c6_c7 = [e[0] for e in cleaned_school_list]\n",
    "possible_offices_c1_c2_c3_c4_c5_c6_c7_to_string = [str(e) for e in possible_offices_c1_c2_c3_c4_c5_c6_c7]\n",
    "possible_offices_c1_c2_c3_c4_c5_c6_c7_coords = getOfficesCoords(possible_offices_c1_c2_c3_c4_c5_c6_c7, companies)\n"
   ]
  },
  {
   "cell_type": "code",
   "execution_count": 184,
   "metadata": {},
   "outputs": [
    {
     "data": {
      "text/plain": [
       "4"
      ]
     },
     "execution_count": 184,
     "metadata": {},
     "output_type": "execute_result"
    }
   ],
   "source": [
    "len(possible_offices_c1_c2_c3_c4_c5_c6_c7_coords)"
   ]
  },
  {
   "cell_type": "code",
   "execution_count": 200,
   "metadata": {},
   "outputs": [
    {
     "data": {
      "text/plain": [
       "['52cdef7d4bab8bd675299115',\n",
       " '52cdef7d4bab8bd67529a0d1',\n",
       " '52cdef7c4bab8bd6752980be',\n",
       " '52cdef7c4bab8bd6752986aa']"
      ]
     },
     "execution_count": 200,
     "metadata": {},
     "output_type": "execute_result"
    }
   ],
   "source": [
    "possible_offices_c1_c2_c3_c4_c5_c6_c7_to_string"
   ]
  },
  {
   "cell_type": "code",
   "execution_count": 201,
   "metadata": {},
   "outputs": [
    {
     "data": {
      "text/plain": [
       "[669, 1696, 3232, 4956]"
      ]
     },
     "execution_count": 201,
     "metadata": {},
     "output_type": "execute_result"
    }
   ],
   "source": [
    "# Filtered DF:\n",
    "indexs = []\n",
    "for i in range(len(df)):\n",
    "    if df['_id'][i] in possible_offices_c1_c2_c3_c4_c5_c6_c7_to_string:\n",
    "        indexs.append(i)\n",
    "indexs"
   ]
  },
  {
   "cell_type": "code",
   "execution_count": 205,
   "metadata": {},
   "outputs": [
    {
     "data": {
      "text/html": [
       "<div>\n",
       "<style scoped>\n",
       "    .dataframe tbody tr th:only-of-type {\n",
       "        vertical-align: middle;\n",
       "    }\n",
       "\n",
       "    .dataframe tbody tr th {\n",
       "        vertical-align: top;\n",
       "    }\n",
       "\n",
       "    .dataframe thead th {\n",
       "        text-align: right;\n",
       "    }\n",
       "</style>\n",
       "<table border=\"1\" class=\"dataframe\">\n",
       "  <thead>\n",
       "    <tr style=\"text-align: right;\">\n",
       "      <th></th>\n",
       "      <th>_id</th>\n",
       "      <th>name</th>\n",
       "      <th>founded_year</th>\n",
       "      <th>category_code</th>\n",
       "      <th>deadpooled_year</th>\n",
       "      <th>total_money_raised_USD</th>\n",
       "      <th>num_offices</th>\n",
       "      <th>office_1_longitude</th>\n",
       "      <th>office_1_latitude</th>\n",
       "      <th>office_1_location</th>\n",
       "      <th>office_1_city</th>\n",
       "      <th>office_1_state_code</th>\n",
       "      <th>office_1_country_code</th>\n",
       "    </tr>\n",
       "  </thead>\n",
       "  <tbody>\n",
       "    <tr>\n",
       "      <th>0</th>\n",
       "      <td>52cdef7c4bab8bd6752980be</td>\n",
       "      <td>Cyberhomes</td>\n",
       "      <td>NaN</td>\n",
       "      <td>web</td>\n",
       "      <td>NaN</td>\n",
       "      <td>0.0</td>\n",
       "      <td>1</td>\n",
       "      <td>-81.674745</td>\n",
       "      <td>30.318112</td>\n",
       "      <td>{'type': 'Point', 'coordinates': [-81.674745, ...</td>\n",
       "      <td>Jacksonville</td>\n",
       "      <td>FL</td>\n",
       "      <td>USA</td>\n",
       "    </tr>\n",
       "    <tr>\n",
       "      <th>1</th>\n",
       "      <td>52cdef7c4bab8bd6752986aa</td>\n",
       "      <td>AudioMicro</td>\n",
       "      <td>2008.0</td>\n",
       "      <td>games_video</td>\n",
       "      <td>NaN</td>\n",
       "      <td>1250000.0</td>\n",
       "      <td>1</td>\n",
       "      <td>-118.422495</td>\n",
       "      <td>34.153588</td>\n",
       "      <td>{'type': 'Point', 'coordinates': [-118.422495,...</td>\n",
       "      <td>Sherman Oaks</td>\n",
       "      <td>CA</td>\n",
       "      <td>USA</td>\n",
       "    </tr>\n",
       "    <tr>\n",
       "      <th>2</th>\n",
       "      <td>52cdef7d4bab8bd675299115</td>\n",
       "      <td>OTOY</td>\n",
       "      <td>2010.0</td>\n",
       "      <td>software</td>\n",
       "      <td>NaN</td>\n",
       "      <td>0.0</td>\n",
       "      <td>1</td>\n",
       "      <td>-118.424058</td>\n",
       "      <td>34.157610</td>\n",
       "      <td>{'type': 'Point', 'coordinates': [-118.424058,...</td>\n",
       "      <td>Sherman Oaks</td>\n",
       "      <td>CA</td>\n",
       "      <td>USA</td>\n",
       "    </tr>\n",
       "    <tr>\n",
       "      <th>3</th>\n",
       "      <td>52cdef7d4bab8bd67529a0d1</td>\n",
       "      <td>Dukky</td>\n",
       "      <td>2008.0</td>\n",
       "      <td>analytics</td>\n",
       "      <td>NaN</td>\n",
       "      <td>1000000.0</td>\n",
       "      <td>1</td>\n",
       "      <td>-90.082202</td>\n",
       "      <td>29.973994</td>\n",
       "      <td>{'type': 'Point', 'coordinates': [-90.082202, ...</td>\n",
       "      <td>Mandeville</td>\n",
       "      <td>LA</td>\n",
       "      <td>USA</td>\n",
       "    </tr>\n",
       "  </tbody>\n",
       "</table>\n",
       "</div>"
      ],
      "text/plain": [
       "                        _id        name  founded_year category_code  \\\n",
       "0  52cdef7c4bab8bd6752980be  Cyberhomes           NaN           web   \n",
       "1  52cdef7c4bab8bd6752986aa  AudioMicro        2008.0   games_video   \n",
       "2  52cdef7d4bab8bd675299115        OTOY        2010.0      software   \n",
       "3  52cdef7d4bab8bd67529a0d1       Dukky        2008.0     analytics   \n",
       "\n",
       "   deadpooled_year  total_money_raised_USD  num_offices  office_1_longitude  \\\n",
       "0              NaN                     0.0            1          -81.674745   \n",
       "1              NaN               1250000.0            1         -118.422495   \n",
       "2              NaN                     0.0            1         -118.424058   \n",
       "3              NaN               1000000.0            1          -90.082202   \n",
       "\n",
       "   office_1_latitude                                  office_1_location  \\\n",
       "0          30.318112  {'type': 'Point', 'coordinates': [-81.674745, ...   \n",
       "1          34.153588  {'type': 'Point', 'coordinates': [-118.422495,...   \n",
       "2          34.157610  {'type': 'Point', 'coordinates': [-118.424058,...   \n",
       "3          29.973994  {'type': 'Point', 'coordinates': [-90.082202, ...   \n",
       "\n",
       "  office_1_city office_1_state_code office_1_country_code  \n",
       "0  Jacksonville                  FL                   USA  \n",
       "1  Sherman Oaks                  CA                   USA  \n",
       "2  Sherman Oaks                  CA                   USA  \n",
       "3    Mandeville                  LA                   USA  "
      ]
     },
     "execution_count": 205,
     "metadata": {},
     "output_type": "execute_result"
    }
   ],
   "source": [
    "df_filtered = df.iloc[indexs]\n",
    "df_filtered.reset_index(drop=True, inplace=True)\n",
    "df_filtered"
   ]
  },
  {
   "cell_type": "code",
   "execution_count": 208,
   "metadata": {},
   "outputs": [
    {
     "data": {
      "text/plain": [
       "1"
      ]
     },
     "execution_count": 208,
     "metadata": {},
     "output_type": "execute_result"
    }
   ],
   "source": [
    "rowindex"
   ]
  },
  {
   "cell_type": "code",
   "execution_count": 206,
   "metadata": {},
   "outputs": [],
   "source": [
    "# Select one random row:\n",
    "rowindex = random.choice(range(0,len(df_filtered)))\n",
    "e = [df_filtered.iloc[rowindex][8], df_filtered.iloc[rowindex][7]]"
   ]
  },
  {
   "cell_type": "code",
   "execution_count": 207,
   "metadata": {},
   "outputs": [
    {
     "data": {
      "text/plain": [
       "[34.153588, -118.422495]"
      ]
     },
     "execution_count": 207,
     "metadata": {},
     "output_type": "execute_result"
    }
   ],
   "source": [
    "e"
   ]
  },
  {
   "cell_type": "code",
   "execution_count": 209,
   "metadata": {},
   "outputs": [],
   "source": [
    "# Lat and long:\n",
    "lat_long_starbucks = getLatLongVenue(cleaned_starbucks_list, df_filtered, rowindex)\n",
    "distance_starbucks = getDistanceVenue(cleaned_starbucks_list, df_filtered, rowindex)\n",
    "\n",
    "lat_long_vegan = getLatLongVenue(cleaned_vegan_list, df_filtered, rowindex)\n",
    "distance_vegan = getDistanceVenue(cleaned_vegan_list, df_filtered, rowindex)\n",
    "name_vegan = getNameVenue(cleaned_vegan_list, df_filtered, rowindex)\n",
    "\n",
    "lat_long_party = getLatLongVenue(cleaned_party_list, df_filtered, rowindex)\n",
    "distance_party = getDistanceVenue(cleaned_party_list, df_filtered, rowindex)\n",
    "name_party = getNameVenue(cleaned_party_list, df_filtered, rowindex)"
   ]
  },
  {
   "cell_type": "code",
   "execution_count": 212,
   "metadata": {},
   "outputs": [
    {
     "data": {
      "text/plain": [
       "[34.150357, -118.42032]"
      ]
     },
     "execution_count": 212,
     "metadata": {},
     "output_type": "execute_result"
    }
   ],
   "source": [
    "lat_long_party"
   ]
  },
  {
   "cell_type": "code",
   "execution_count": 213,
   "metadata": {},
   "outputs": [
    {
     "data": {
      "text/plain": [
       "'52cdef7c4bab8bd6752986aa'"
      ]
     },
     "execution_count": 213,
     "metadata": {},
     "output_type": "execute_result"
    }
   ],
   "source": [
    "df_filtered.iloc[rowindex][0]"
   ]
  },
  {
   "cell_type": "code",
   "execution_count": 214,
   "metadata": {},
   "outputs": [],
   "source": [
    "name_dist_lat_long_airport = []\n",
    "for i in range(len(office_airports)):\n",
    "    if str(office_airports[i][0]) == df_filtered.iloc[rowindex][0]:\n",
    "        for j in range(1, len(office_airports[i])):\n",
    "            name_dist_lat_long_airport.append(office_airports[i][j][0]) # name\n",
    "            name_dist_lat_long_airport.append(office_airports[i][j][1]) # dist           \n",
    "            name_dist_lat_long_airport.append(office_airports[i][j][2]) # lat\n",
    "            name_dist_lat_long_airport.append(office_airports[i][j][3]) # long  "
   ]
  },
  {
   "cell_type": "code",
   "execution_count": 216,
   "metadata": {},
   "outputs": [
    {
     "data": {
      "text/plain": [
       "4.0"
      ]
     },
     "execution_count": 216,
     "metadata": {},
     "output_type": "execute_result"
    }
   ],
   "source": [
    "len(name_dist_lat_long_airport)/4 # total aeropuertos cercanos"
   ]
  },
  {
   "cell_type": "code",
   "execution_count": 217,
   "metadata": {},
   "outputs": [],
   "source": [
    "lat_long_school = getLatLongVenue(cleaned_school_list, df_filtered, rowindex)\n",
    "distance_school = getDistanceVenue(cleaned_school_list, df_filtered, rowindex)\n",
    "name_school = getNameVenue(cleaned_school_list, df_filtered, rowindex)"
   ]
  },
  {
   "cell_type": "code",
   "execution_count": 219,
   "metadata": {},
   "outputs": [],
   "source": [
    "near_startups = []\n",
    "for i in range(len(startups_and_near_companies)):\n",
    "    for company in startups_and_near_companies[i][1]:\n",
    "        if company['name'] == df_filtered.iloc[rowindex][1]:\n",
    "            near_startups.append(startups_and_near_companies[i][0])"
   ]
  },
  {
   "cell_type": "code",
   "execution_count": 224,
   "metadata": {},
   "outputs": [
    {
     "name": "stdout",
     "output_type": "stream",
     "text": [
      "\n",
      "\n",
      "\n",
      "    ----------------------------------------------------------------------------------------------------\n",
      "                            WE HAVE FOUND THE PERFECT LOCATION FOR YOUR COMPANY!           \n",
      "    ----------------------------------------------------------------------------------------------------\n",
      "\n",
      "        The perfect location for your business is in Sherman Oaks, USA.\n",
      "\n",
      "        You don't have companies with more than 12 years in a radius of 2 KM (blue circle).\n",
      "\n",
      "        The office is near successful tech startups that have raised at least 1000000 dollars.\n",
      "\n",
      "        Your employees will find a Starbucks just 532 meters from the office.\n",
      "\n",
      "        The vegan restaurant 'Hugo's Tacos' can be found just 893 meters from the office.\n",
      "\n",
      "        Party mood? You will find the night club called 'Casita de Ramy Boo Sparkles' just 411 meters from the office.\n",
      "\n",
      "        If you need to travel often, there is no problem. You have an airport (Bob Hope Airport) just 7.85 meters from the office.\n",
      "\n",
      "        And if that were not enough, your children could go to school (Notre Dame High School) just 846 meters from the office.\n",
      "    \n"
     ]
    }
   ],
   "source": [
    "# Output:\n",
    "printoutput(df_filtered.iloc[rowindex][10], df_filtered.iloc[rowindex][12], inputyears,\n",
    "inputmoney, distance_starbucks, name_vegan, distance_vegan, name_party, distance_party,\n",
    "name_dist_lat_long_airport[0], round(name_dist_lat_long_airport[1],2), name_school, distance_school)"
   ]
  },
  {
   "cell_type": "code",
   "execution_count": 229,
   "metadata": {},
   "outputs": [
    {
     "data": {
      "text/html": [
       "<div style=\"width:100%;\"><div style=\"position:relative;width:100%;height:0;padding-bottom:60%;\"><iframe src=\"data:text/html;charset=utf-8;base64,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\" style=\"position:absolute;width:100%;height:100%;left:0;top:0;border:none !important;\" allowfullscreen webkitallowfullscreen mozallowfullscreen></iframe></div></div>"
      ],
      "text/plain": [
       "<folium.folium.Map at 0x1341e27ee48>"
      ]
     },
     "execution_count": 229,
     "metadata": {},
     "output_type": "execute_result"
    }
   ],
   "source": [
    "# Folium map:\n",
    "tooltip = 'Click me!'\n",
    "map_city = folium.Map(location = e, zoom_start=13)\n",
    "folium.Circle(radius=2000,location=e,popup='Old companies free zone',color='#3186cc',\n",
    "    fill=True,fill_color='#3186cc').add_to(map_city)\n",
    "folium.Marker(lat_long_starbucks,radius=2,icon=folium.Icon(\n",
    "    icon='coffee', prefix='fa',color='orange'),popup='<b>[Starbucks]</b>',\n",
    "    tooltip=tooltip).add_to(map_city)\n",
    "folium.Marker(lat_long_vegan,radius=2,icon=folium.Icon(\n",
    "    icon='cutlery',color='green'),popup=f\"<b>[Vegan restaurant]</b> '{name_vegan}'\",\n",
    "    tooltip=tooltip).add_to(map_city)\n",
    "folium.Marker(lat_long_party,radius=2,icon=folium.Icon(\n",
    "    icon='glass',color='purple'),popup=f\"<b>[Night club]</b> '{name_party}'\",\n",
    "    tooltip=tooltip).add_to(map_city)\n",
    "folium.Marker([name_dist_lat_long_airport[2],name_dist_lat_long_airport[3]],radius=2,icon=folium.Icon(\n",
    "    icon='plane', prefix='fa',color='blue'),popup=f\"<b>[Airport]</b> '{name_dist_lat_long_airport[0]}'\",\n",
    "    tooltip=tooltip).add_to(map_city)\n",
    "folium.Marker(lat_long_school,radius=2,icon=folium.Icon(\n",
    "    icon='graduation-cap', prefix='fa',color='gray'),popup=f\"<b>[School]</b> '{name_school}'\",\n",
    "    tooltip=tooltip).add_to(map_city)\n",
    "folium.Marker(e,radius=2,icon=folium.Icon(\n",
    "    icon='briefcase', color='red'),popup='<b>Perfect location for your business</b>',\n",
    "    tooltip=tooltip).add_to(map_city)\n",
    "for startup in near_startups:\n",
    "    category = re.sub(\"_\",\" \",startup[3].capitalize())\n",
    "    folium.Marker([startup[6], startup[5]],radius=2,icon=folium.Icon(\n",
    "        icon='building-o', prefix='fa',color='black'),\n",
    "        popup=f\"<b>[Startup]</b> {startup[1]}. Founded year: {int(startup[2])}. Category: {category}. Total money raised (USD): {int(startup[4])}.\",\n",
    "        tooltip=tooltip).add_to(map_city) \n",
    "map_city.save('./output/map3.html')\n",
    "map_city"
   ]
  },
  {
   "cell_type": "code",
   "execution_count": null,
   "metadata": {},
   "outputs": [],
   "source": []
  },
  {
   "cell_type": "code",
   "execution_count": null,
   "metadata": {},
   "outputs": [],
   "source": []
  },
  {
   "cell_type": "code",
   "execution_count": null,
   "metadata": {},
   "outputs": [],
   "source": []
  },
  {
   "cell_type": "code",
   "execution_count": null,
   "metadata": {},
   "outputs": [],
   "source": []
  },
  {
   "cell_type": "code",
   "execution_count": null,
   "metadata": {},
   "outputs": [],
   "source": []
  },
  {
   "cell_type": "code",
   "execution_count": 102,
   "metadata": {},
   "outputs": [],
   "source": [
    "airports_df = pd.read_csv('./input/airports.csv', header=None,usecols=[1,2,3,4,6,7,12], \n",
    "                          names=['FacilityName', 'City', 'Country','3CharCode','Lat','Long','FacilityType'])"
   ]
  },
  {
   "cell_type": "code",
   "execution_count": 103,
   "metadata": {},
   "outputs": [],
   "source": [
    "airports_df = airports_df[airports_df['FacilityType']=='airport']"
   ]
  },
  {
   "cell_type": "code",
   "execution_count": 104,
   "metadata": {},
   "outputs": [],
   "source": [
    "airports_df.reset_index(drop=True, inplace=True)"
   ]
  },
  {
   "cell_type": "code",
   "execution_count": 105,
   "metadata": {},
   "outputs": [],
   "source": [
    "import geopy.distance\n",
    "distances = []\n",
    "for e in possible_offices_c1_c2_coords:\n",
    "    coords_1 = (e['coordinates'][1], e['coordinates'][0])\n",
    "    dist = []\n",
    "    for i in range(len(airports_df)):\n",
    "        coords_2 = (airports_df.at[i,'Lat'],airports_df.at[i,'Long'])\n",
    "        dist.append(geopy.distance.geodesic(coords_1, coords_2).km)\n",
    "    distances.append(dist)    "
   ]
  },
  {
   "cell_type": "code",
   "execution_count": 140,
   "metadata": {},
   "outputs": [],
   "source": [
    "office_airports = []\n",
    "for i in range(len(distances)):\n",
    "    aux = []\n",
    "    aux.append(possible_offices_c1_c2[i])\n",
    "    for j in range(len(distances[i])):\n",
    "        if distances[i][j] <= 20:\n",
    "            aux.append([airports_df.at[j,'FacilityName'],\n",
    "                        distances[i][j],\n",
    "                        airports_df.at[j,'Lat'],\n",
    "                        airports_df.at[j,'Long']])\n",
    "    office_airports.append(aux)"
   ]
  },
  {
   "cell_type": "code",
   "execution_count": 141,
   "metadata": {},
   "outputs": [],
   "source": [
    "possible_offices_c1_c2_c3 = []\n",
    "for e in office_airports:\n",
    "    if len(e) >= 2:\n",
    "        possible_offices_c1_c2_c3.append(e[0])"
   ]
  },
  {
   "cell_type": "code",
   "execution_count": 143,
   "metadata": {},
   "outputs": [],
   "source": [
    "possible_offices_c1_c2_c3_to_string = [str(e) for e in possible_offices_c1_c2_c3]"
   ]
  },
  {
   "cell_type": "code",
   "execution_count": 146,
   "metadata": {},
   "outputs": [],
   "source": [
    "possible_offices_c1_c2_c3_coords = getOfficesCoords(possible_offices_c1_c2_c3, companies)"
   ]
  },
  {
   "cell_type": "code",
   "execution_count": null,
   "metadata": {},
   "outputs": [],
   "source": [
    "name_dist_lat_long_airport = []\n",
    "for i in range(len(office_airports)):\n",
    "    for j in range(1, len(office_airports[i])):\n",
    "        if str(office_airports[i][0]) == df.iloc[rowindex][0]:\n",
    "            name_dist_lat_long_airport.append(office_airports[i][j][0]) # name\n",
    "            name_dist_lat_long_airport.append(office_airports[i][j][1]) # dist           \n",
    "            name_dist_lat_long_airport.append(office_airports[i][j][2]) # lat\n",
    "            name_dist_lat_long_airport.append(office_airports[i][j][3]) # long           "
   ]
  }
 ],
 "metadata": {
  "kernelspec": {
   "display_name": "Python 3",
   "language": "python",
   "name": "python3"
  },
  "language_info": {
   "codemirror_mode": {
    "name": "ipython",
    "version": 3
   },
   "file_extension": ".py",
   "mimetype": "text/x-python",
   "name": "python",
   "nbconvert_exporter": "python",
   "pygments_lexer": "ipython3",
   "version": "3.7.3"
  }
 },
 "nbformat": 4,
 "nbformat_minor": 2
}
