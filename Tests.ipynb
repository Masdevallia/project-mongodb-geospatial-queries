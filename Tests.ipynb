{
 "cells": [
  {
   "cell_type": "code",
   "execution_count": 1,
   "metadata": {},
   "outputs": [
    {
     "name": "stdout",
     "output_type": "stream",
     "text": [
      "Please wait...\n",
      "\n",
      "\n",
      "\n",
      "    ----------------------------------------------------------------------------------------------------\n",
      "                                 FIND THE PERFECT LOCATION FOR YOUR COMPANY              \n",
      "    ----------------------------------------------------------------------------------------------------\n",
      "    \n",
      "\n",
      "\n",
      "    \n",
      "         Developers like to be near successful tech startups that have raised at least (n) dollars.\n",
      "    ----------------------------------------------------------------------------------------------------\n",
      "                              What amount of money should they have raised?\n",
      "                        Please enter a valid integer, without thousands separator.\n",
      "                             Example: For 1 million dollars, enter: 1000000\n",
      "n = 1000000\n",
      "Please wait...\n"
     ]
    }
   ],
   "source": [
    "\n",
    "print('Please wait...')\n",
    "\n",
    "# Importing packages:\n",
    "from src.CleanFilter import *\n",
    "from src.api import *\n",
    "from src.mongodb import *\n",
    "from src.input import *\n",
    "from src.output import *\n",
    "\n",
    "title()\n",
    "\n",
    "# Importin data:\n",
    "df = pd.read_csv('./input/companies_df.csv', low_memory = False)\n",
    "cols = ['_id', 'name', 'founded_year', 'category_code','deadpooled_year', 'total_money_raised_USD', 'num_offices',\n",
    " 'office_1_longitude','office_1_latitude', 'office_1_location', 'office_1_city','office_1_state_code',\n",
    " 'office_1_country_code']\n",
    "df = df[cols]\n",
    "\n",
    "# Importing database and collection:\n",
    "db, coll = connectCollection('companies','companies_cleaned')\n",
    "companies = list(coll.find())\n",
    "\n",
    "########################################################################################################\n",
    "\n",
    "# Developers like to be near successful tech startups that have raised at least n (1 Million) dollars\n",
    "# inputmoney = 1000000\n",
    "\n",
    "input_money()\n",
    "while True:\n",
    "    inputmoney = input('n = ')\n",
    "    try:\n",
    "        inputmoney = int(inputmoney)\n",
    "        break\n",
    "    except ValueError:\n",
    "        print('Please enter a valid integer')\n",
    "        continue\n",
    "print('Please wait...')\n",
    "\n",
    "successful_tech_startups = list(coll.find({'$and':[{'$or':[\n",
    "        {'category_code':'semiconductor'},{'category_code':'network_hosting'},{'category_code':'consulting'},\n",
    "        {'category_code':'design'},{'category_code':'hardware'},{'category_code':'nanotech'},\n",
    "        {'category_code':'mobile'},{'category_code':'games_video'},{'category_code':'cleantech'},\n",
    "        {'category_code':'software'},{'category_code':'analytics'},{'category_code':'web'},\n",
    "        {'category_code':'biotech'}]},\n",
    "    {'deadpooled_year': np.nan},{'founded_year':{'$gte':1999}},{'total_money_raised_USD':{'$gte':inputmoney}}]}))\n",
    "\n",
    "startups_and_near_companies = []\n",
    "possible_offices_criterion_1 = []\n",
    "for e in successful_tech_startups:\n",
    "    near_companies = getCompaniesNear(e['office_1_location']['coordinates'][0],\n",
    "                                      e['office_1_location']['coordinates'][1],2000)\n",
    "    aux = []\n",
    "    aux.append([e['_id'], e['name'], e['founded_year'], e['category_code'], e['total_money_raised'], \n",
    "          e['office_1_longitude'], e['office_1_latitude']])\n",
    "    aux.append([near_companies[i] for i in range(len(near_companies)) if near_companies[i]['name'] != e['name']])    \n",
    "    startups_and_near_companies.append(aux)\n",
    "    for f in near_companies:\n",
    "        if f['_id'] != e['name']:\n",
    "            possible_offices_criterion_1.append(f['_id'])\n",
    "possible_offices_c1 = list(set(possible_offices_criterion_1))"
   ]
  },
  {
   "cell_type": "code",
   "execution_count": 2,
   "metadata": {},
   "outputs": [
    {
     "data": {
      "text/plain": [
       "4798"
      ]
     },
     "execution_count": 2,
     "metadata": {},
     "output_type": "execute_result"
    }
   ],
   "source": [
    "len(possible_offices_c1)"
   ]
  },
  {
   "cell_type": "code",
   "execution_count": 3,
   "metadata": {},
   "outputs": [
    {
     "name": "stdout",
     "output_type": "stream",
     "text": [
      "\n",
      "\n",
      "\n",
      "        Nobody in the company likes to have companies with more than (n) years in a radius of 2 KM.\n",
      "    ----------------------------------------------------------------------------------------------------\n",
      "                                  How old can these companies be, at most?\n",
      "                                       Please enter a valid integer.\n",
      "                                     Example: For 10 years, enter: 10\n",
      "n = 12\n",
      "Please wait...\n"
     ]
    }
   ],
   "source": [
    "\n",
    "# Nobody in the company likes to have companies with more than n (10) years in a radius of 2 KM\n",
    "# inputyears= 10\n",
    "\n",
    "input_year()\n",
    "\n",
    "while True:\n",
    "    inputyears = input('n = ')\n",
    "    try:\n",
    "        inputyears = int(inputyears)\n",
    "        break\n",
    "    except ValueError:\n",
    "        print('Please enter a valid integer')\n",
    "        continue\n",
    "\n",
    "print('Please wait...')\n",
    "\n",
    "old_companies = list(coll.find({'$and':[{'deadpooled_year': np.nan},{'founded_year':{'$lte':2019-inputyears}}]}))\n",
    "\n",
    "not_possible_offices_criterion_2 = []\n",
    "for e in old_companies:\n",
    "    near_companies = getCompaniesNear(e['office_1_location']['coordinates'][0],\n",
    "                                      e['office_1_location']['coordinates'][1],2000)\n",
    "    for f in near_companies:\n",
    "        if f['_id'] != e['name']:\n",
    "            not_possible_offices_criterion_2.append(f['_id'])\n",
    "\n",
    "not_possible_offices_c2 = list(set(not_possible_offices_criterion_2))\n"
   ]
  },
  {
   "cell_type": "code",
   "execution_count": 4,
   "metadata": {},
   "outputs": [
    {
     "data": {
      "text/plain": [
       "7912"
      ]
     },
     "execution_count": 4,
     "metadata": {},
     "output_type": "execute_result"
    }
   ],
   "source": [
    "len(not_possible_offices_c2)"
   ]
  },
  {
   "cell_type": "code",
   "execution_count": 5,
   "metadata": {},
   "outputs": [],
   "source": [
    "# Taking into account both criteria:\n",
    "possible_offices_c1_c2 = valuesInCommon(possible_offices_c1, not_possible_offices_c2)\n",
    "possible_offices_c1_c2_to_string = [str(e) for e in possible_offices_c1_c2]\n",
    "possible_offices_c1_c2_coords = getOfficesCoords(possible_offices_c1_c2, companies)"
   ]
  },
  {
   "cell_type": "code",
   "execution_count": 6,
   "metadata": {},
   "outputs": [
    {
     "data": {
      "text/plain": [
       "30"
      ]
     },
     "execution_count": 6,
     "metadata": {},
     "output_type": "execute_result"
    }
   ],
   "source": [
    "len(possible_offices_c1_c2)"
   ]
  },
  {
   "cell_type": "code",
   "execution_count": 194,
   "metadata": {},
   "outputs": [
    {
     "data": {
      "text/plain": [
       "[ObjectId('52cdef7f4bab8bd67529bfb3'),\n",
       " ObjectId('52cdef7f4bab8bd67529c2d0'),\n",
       " ObjectId('52cdef7e4bab8bd67529bd0c'),\n",
       " ObjectId('52cdef7d4bab8bd6752995b1'),\n",
       " ObjectId('52cdef7e4bab8bd67529b279'),\n",
       " ObjectId('52cdef7d4bab8bd675299c4f'),\n",
       " ObjectId('52cdef7e4bab8bd67529afed'),\n",
       " ObjectId('52cdef7d4bab8bd67529993b'),\n",
       " ObjectId('52cdef7e4bab8bd67529bbec'),\n",
       " ObjectId('52cdef7f4bab8bd67529bda4'),\n",
       " ObjectId('52cdef7d4bab8bd67529a00e'),\n",
       " ObjectId('52cdef7d4bab8bd675299b49'),\n",
       " ObjectId('52cdef7c4bab8bd675298644'),\n",
       " ObjectId('52cdef7c4bab8bd675298232'),\n",
       " ObjectId('52cdef7d4bab8bd675299da8'),\n",
       " ObjectId('52cdef7d4bab8bd675298ce2'),\n",
       " ObjectId('52cdef7d4bab8bd675299115'),\n",
       " ObjectId('52cdef7f4bab8bd67529c040'),\n",
       " ObjectId('52cdef7d4bab8bd6752997bf'),\n",
       " ObjectId('52cdef7f4bab8bd67529c00d'),\n",
       " ObjectId('52cdef7d4bab8bd67529a171'),\n",
       " ObjectId('52cdef7d4bab8bd67529a0d1'),\n",
       " ObjectId('52cdef7c4bab8bd6752980be'),\n",
       " ObjectId('52cdef7d4bab8bd675298f4a'),\n",
       " ObjectId('52cdef7f4bab8bd67529c5b8'),\n",
       " ObjectId('52cdef7d4bab8bd67529950e'),\n",
       " ObjectId('52cdef7c4bab8bd6752986aa'),\n",
       " ObjectId('52cdef7f4bab8bd67529c1ad'),\n",
       " ObjectId('52cdef7c4bab8bd675297f9e'),\n",
       " ObjectId('52cdef7d4bab8bd675299cbf')]"
      ]
     },
     "execution_count": 194,
     "metadata": {},
     "output_type": "execute_result"
    }
   ],
   "source": [
    "possible_offices_c1_c2"
   ]
  },
  {
   "cell_type": "code",
   "execution_count": 7,
   "metadata": {},
   "outputs": [
    {
     "name": "stdout",
     "output_type": "stream",
     "text": [
      "\n",
      "\n",
      "\n",
      "                                Account managers need to travel a lot.\n",
      "    ----------------------------------------------------------------------------------------------------\n",
      "                          Please wait. We are collecting some information...\n"
     ]
    }
   ],
   "source": [
    "# Account managers need to travel a lot (Airport < 20 km)\n",
    "input_airport()\n",
    "airports_df = pd.read_csv('./input/airports.csv', header=None,usecols=[1,2,3,4,6,7,12], \n",
    "                          names=['FacilityName', 'City', 'Country','3CharCode','Lat','Long','FacilityType'])\n",
    "airports_df = airports_df[airports_df['FacilityType']=='airport']\n",
    "airports_df.reset_index(drop=True, inplace=True)\n",
    "\n",
    "distances = []\n",
    "for e in possible_offices_c1_c2_coords:\n",
    "    coords_1 = (e['coordinates'][1], e['coordinates'][0])\n",
    "    dist = []\n",
    "    for i in range(len(airports_df)):\n",
    "        coords_2 = (airports_df.at[i,'Lat'],airports_df.at[i,'Long'])\n",
    "        dist.append(geopy.distance.geodesic(coords_1, coords_2).km)\n",
    "    distances.append(dist)    \n",
    "\n",
    "office_airports = []\n",
    "for i in range(len(distances)):\n",
    "    aux = []\n",
    "    aux.append(possible_offices_c1_c2[i])\n",
    "    for j in range(len(distances[i])):\n",
    "        if distances[i][j] <= 20:\n",
    "            aux.append([airports_df.at[j,'FacilityName'],\n",
    "                        distances[i][j],\n",
    "                        airports_df.at[j,'Lat'],\n",
    "                        airports_df.at[j,'Long']])\n",
    "    office_airports.append(aux)\n",
    "\n",
    "possible_offices_c1_c2_c3 = []\n",
    "for e in office_airports:\n",
    "    if len(e) >= 2:\n",
    "        possible_offices_c1_c2_c3.append(e[0])\n",
    "\n",
    "possible_offices_c1_c2_c3_to_string = [str(e) for e in possible_offices_c1_c2_c3]\n",
    "possible_offices_c1_c2_c3_coords = getOfficesCoords(possible_offices_c1_c2_c3, companies)\n"
   ]
  },
  {
   "cell_type": "code",
   "execution_count": 8,
   "metadata": {},
   "outputs": [
    {
     "data": {
      "text/plain": [
       "28"
      ]
     },
     "execution_count": 8,
     "metadata": {},
     "output_type": "execute_result"
    }
   ],
   "source": [
    "len(possible_offices_c1_c2_c3)"
   ]
  },
  {
   "cell_type": "code",
   "execution_count": 195,
   "metadata": {},
   "outputs": [
    {
     "data": {
      "text/plain": [
       "[ObjectId('52cdef7f4bab8bd67529bfb3'),\n",
       " ObjectId('52cdef7d4bab8bd6752995b1'),\n",
       " ObjectId('52cdef7e4bab8bd67529b279'),\n",
       " ObjectId('52cdef7d4bab8bd675299c4f'),\n",
       " ObjectId('52cdef7e4bab8bd67529afed'),\n",
       " ObjectId('52cdef7d4bab8bd67529993b'),\n",
       " ObjectId('52cdef7e4bab8bd67529bbec'),\n",
       " ObjectId('52cdef7f4bab8bd67529bda4'),\n",
       " ObjectId('52cdef7d4bab8bd67529a00e'),\n",
       " ObjectId('52cdef7d4bab8bd675299b49'),\n",
       " ObjectId('52cdef7c4bab8bd675298644'),\n",
       " ObjectId('52cdef7c4bab8bd675298232'),\n",
       " ObjectId('52cdef7d4bab8bd675299da8'),\n",
       " ObjectId('52cdef7d4bab8bd675298ce2'),\n",
       " ObjectId('52cdef7d4bab8bd675299115'),\n",
       " ObjectId('52cdef7f4bab8bd67529c040'),\n",
       " ObjectId('52cdef7d4bab8bd6752997bf'),\n",
       " ObjectId('52cdef7f4bab8bd67529c00d'),\n",
       " ObjectId('52cdef7d4bab8bd67529a171'),\n",
       " ObjectId('52cdef7d4bab8bd67529a0d1'),\n",
       " ObjectId('52cdef7c4bab8bd6752980be'),\n",
       " ObjectId('52cdef7d4bab8bd675298f4a'),\n",
       " ObjectId('52cdef7f4bab8bd67529c5b8'),\n",
       " ObjectId('52cdef7d4bab8bd67529950e'),\n",
       " ObjectId('52cdef7c4bab8bd6752986aa'),\n",
       " ObjectId('52cdef7f4bab8bd67529c1ad'),\n",
       " ObjectId('52cdef7c4bab8bd675297f9e'),\n",
       " ObjectId('52cdef7d4bab8bd675299cbf')]"
      ]
     },
     "execution_count": 195,
     "metadata": {},
     "output_type": "execute_result"
    }
   ],
   "source": [
    "possible_offices_c1_c2_c3"
   ]
  },
  {
   "cell_type": "code",
   "execution_count": 9,
   "metadata": {},
   "outputs": [
    {
     "name": "stdout",
     "output_type": "stream",
     "text": [
      "\n",
      "\n",
      "\n",
      "                    Executives like Starbucks A LOT. Ensure there's a Starbucks not to far.\n",
      "    ----------------------------------------------------------------------------------------------------\n",
      "                          Please wait. We are collecting some information...\n"
     ]
    }
   ],
   "source": [
    "\n",
    "# Executives like Starbucks A LOT. Ensure there's a starbucks not to far\n",
    "input_starbucks()\n",
    "starbucks_list = venuesListByQuery(possible_offices_c1_c2_c3_coords, possible_offices_c1_c2_c3,\n",
    "                                  'starbucks', 1000)\n",
    "cleaned_starbucks_list = cleanVenueList(starbucks_list)              \n",
    "possible_offices_c1_c2_c3_c4 = [e[0] for e in cleaned_starbucks_list]\n",
    "possible_offices_c1_c2_c3_c4_to_string = [str(e) for e in possible_offices_c1_c2_c3_c4]\n",
    "possible_offices_c1_c2_c3_c4_coords = getOfficesCoords(possible_offices_c1_c2_c3_c4, companies)\n"
   ]
  },
  {
   "cell_type": "code",
   "execution_count": 10,
   "metadata": {},
   "outputs": [
    {
     "data": {
      "text/plain": [
       "15"
      ]
     },
     "execution_count": 10,
     "metadata": {},
     "output_type": "execute_result"
    }
   ],
   "source": [
    "len(possible_offices_c1_c2_c3_c4_coords)"
   ]
  },
  {
   "cell_type": "code",
   "execution_count": 11,
   "metadata": {},
   "outputs": [
    {
     "data": {
      "text/plain": [
       "[ObjectId('52cdef7d4bab8bd6752995b1'),\n",
       " ObjectId('52cdef7d4bab8bd6752997bf'),\n",
       " ObjectId('52cdef7e4bab8bd67529afed'),\n",
       " ObjectId('52cdef7d4bab8bd67529a0d1'),\n",
       " ObjectId('52cdef7d4bab8bd67529a171'),\n",
       " ObjectId('52cdef7d4bab8bd675299c4f'),\n",
       " ObjectId('52cdef7d4bab8bd67529a00e'),\n",
       " ObjectId('52cdef7c4bab8bd6752980be'),\n",
       " ObjectId('52cdef7f4bab8bd67529c1ad'),\n",
       " ObjectId('52cdef7d4bab8bd675299115'),\n",
       " ObjectId('52cdef7c4bab8bd6752986aa'),\n",
       " ObjectId('52cdef7e4bab8bd67529b279'),\n",
       " ObjectId('52cdef7d4bab8bd67529950e'),\n",
       " ObjectId('52cdef7d4bab8bd67529993b'),\n",
       " ObjectId('52cdef7d4bab8bd675299b49')]"
      ]
     },
     "execution_count": 11,
     "metadata": {},
     "output_type": "execute_result"
    }
   ],
   "source": [
    "possible_offices_c1_c2_c3_c4"
   ]
  },
  {
   "cell_type": "code",
   "execution_count": 12,
   "metadata": {},
   "outputs": [
    {
     "name": "stdout",
     "output_type": "stream",
     "text": [
      "\n",
      "\n",
      "\n",
      "                                        The CEO is Vegan.\n",
      "    ----------------------------------------------------------------------------------------------------\n",
      "                          Please wait. We are collecting some information...\n"
     ]
    }
   ],
   "source": [
    "\n",
    "# The CEO is Vegan\n",
    "input_vegan()\n",
    "# vegan_list = venuesListByQuery(possible_offices_c1_c2_c3_c4_coords, possible_offices_c1_c2_c3_c4, 'vegan', 1000)\n",
    "vegan_list = venuesListByCategory(possible_offices_c1_c2_c3_c4_coords, possible_offices_c1_c2_c3_c4,\n",
    "             '4bf58dd8d48988d1d3941735', 1000)\n",
    "cleaned_vegan_list = cleanVenueList(vegan_list)\n",
    "possible_offices_c1_c2_c3_c4_c5 = [e[0] for e in cleaned_vegan_list]\n",
    "possible_offices_c1_c2_c3_c4_c5_to_string = [str(e) for e in possible_offices_c1_c2_c3_c4_c5]\n",
    "possible_offices_c1_c2_c3_c4_c5_coords = getOfficesCoords(possible_offices_c1_c2_c3_c4_c5, companies)\n"
   ]
  },
  {
   "cell_type": "code",
   "execution_count": 13,
   "metadata": {},
   "outputs": [
    {
     "data": {
      "text/plain": [
       "5"
      ]
     },
     "execution_count": 13,
     "metadata": {},
     "output_type": "execute_result"
    }
   ],
   "source": [
    "len(possible_offices_c1_c2_c3_c4_c5_coords)"
   ]
  },
  {
   "cell_type": "code",
   "execution_count": 14,
   "metadata": {},
   "outputs": [
    {
     "data": {
      "text/plain": [
       "[ObjectId('52cdef7e4bab8bd67529afed'),\n",
       " ObjectId('52cdef7d4bab8bd67529a0d1'),\n",
       " ObjectId('52cdef7c4bab8bd6752980be'),\n",
       " ObjectId('52cdef7d4bab8bd675299115'),\n",
       " ObjectId('52cdef7c4bab8bd6752986aa')]"
      ]
     },
     "execution_count": 14,
     "metadata": {},
     "output_type": "execute_result"
    }
   ],
   "source": [
    "possible_offices_c1_c2_c3_c4_c5"
   ]
  },
  {
   "cell_type": "code",
   "execution_count": 15,
   "metadata": {},
   "outputs": [
    {
     "name": "stdout",
     "output_type": "stream",
     "text": [
      "\n",
      "\n",
      "\n",
      "        All people in the company have between 25 and 40 years, give them some place to go to party.\n",
      "    ----------------------------------------------------------------------------------------------------\n",
      "                          Please wait. We are collecting some information...\n"
     ]
    }
   ],
   "source": [
    "# All people in the company have between 25 and 40 years, give them some place to go to party\n",
    "input_party()\n",
    "party_list = venuesListByCategory(possible_offices_c1_c2_c3_c4_c5_coords, possible_offices_c1_c2_c3_c4_c5,\n",
    " '4bf58dd8d48988d11f941735', 1000)\n",
    "cleaned_party_list = cleanVenueList(party_list)\n",
    "possible_offices_c1_c2_c3_c4_c5_c6 = [e[0] for e in cleaned_party_list]\n",
    "possible_offices_c1_c2_c3_c4_c5_c6_to_string = [str(e) for e in possible_offices_c1_c2_c3_c4_c5_c6]\n",
    "possible_offices_c1_c2_c3_c4_c5_c6_coords = getOfficesCoords(possible_offices_c1_c2_c3_c4_c5_c6, companies)\n"
   ]
  },
  {
   "cell_type": "code",
   "execution_count": 16,
   "metadata": {},
   "outputs": [
    {
     "data": {
      "text/plain": [
       "4"
      ]
     },
     "execution_count": 16,
     "metadata": {},
     "output_type": "execute_result"
    }
   ],
   "source": [
    "len(possible_offices_c1_c2_c3_c4_c5_c6_coords)"
   ]
  },
  {
   "cell_type": "code",
   "execution_count": 17,
   "metadata": {},
   "outputs": [
    {
     "data": {
      "text/plain": [
       "[ObjectId('52cdef7d4bab8bd67529a0d1'),\n",
       " ObjectId('52cdef7c4bab8bd6752980be'),\n",
       " ObjectId('52cdef7d4bab8bd675299115'),\n",
       " ObjectId('52cdef7c4bab8bd6752986aa')]"
      ]
     },
     "execution_count": 17,
     "metadata": {},
     "output_type": "execute_result"
    }
   ],
   "source": [
    "possible_offices_c1_c2_c3_c4_c5_c6"
   ]
  },
  {
   "cell_type": "code",
   "execution_count": 18,
   "metadata": {},
   "outputs": [
    {
     "name": "stdout",
     "output_type": "stream",
     "text": [
      "\n",
      "\n",
      "    \n",
      "                                30% of the company have at least 1 child.\n",
      "    ----------------------------------------------------------------------------------------------------\n",
      "                          Please wait. We are collecting some information...\n"
     ]
    }
   ],
   "source": [
    "\n",
    "# 30% of the company have at least 1 child (Schools < 5 km)\n",
    "input_school()\n",
    "school_list = venuesListByCategory(possible_offices_c1_c2_c3_c4_c5_c6_coords, \n",
    "possible_offices_c1_c2_c3_c4_c5_c6,\n",
    " ['4f4533804b9074f6e4fb0105', '4bf58dd8d48988d13d941735','52e81612bcbc57f1066b7a46',\n",
    " '52e81612bcbc57f1066b7a45','4f4533814b9074f6e4fb0107','4f4533814b9074f6e4fb0106'], 5000)\n",
    "cleaned_school_list = cleanVenueList(school_list)\n",
    "possible_offices_c1_c2_c3_c4_c5_c6_c7 = [e[0] for e in cleaned_school_list]\n",
    "possible_offices_c1_c2_c3_c4_c5_c6_c7_to_string = [str(e) for e in possible_offices_c1_c2_c3_c4_c5_c6_c7]\n",
    "possible_offices_c1_c2_c3_c4_c5_c6_c7_coords = getOfficesCoords(possible_offices_c1_c2_c3_c4_c5_c6_c7, companies)\n"
   ]
  },
  {
   "cell_type": "code",
   "execution_count": 19,
   "metadata": {},
   "outputs": [
    {
     "data": {
      "text/plain": [
       "4"
      ]
     },
     "execution_count": 19,
     "metadata": {},
     "output_type": "execute_result"
    }
   ],
   "source": [
    "len(possible_offices_c1_c2_c3_c4_c5_c6_c7_coords)"
   ]
  },
  {
   "cell_type": "code",
   "execution_count": 20,
   "metadata": {},
   "outputs": [
    {
     "data": {
      "text/plain": [
       "['52cdef7d4bab8bd67529a0d1',\n",
       " '52cdef7c4bab8bd6752980be',\n",
       " '52cdef7d4bab8bd675299115',\n",
       " '52cdef7c4bab8bd6752986aa']"
      ]
     },
     "execution_count": 20,
     "metadata": {},
     "output_type": "execute_result"
    }
   ],
   "source": [
    "possible_offices_c1_c2_c3_c4_c5_c6_c7_to_string"
   ]
  },
  {
   "cell_type": "code",
   "execution_count": 21,
   "metadata": {},
   "outputs": [
    {
     "data": {
      "text/plain": [
       "[669, 1696, 3232, 4956]"
      ]
     },
     "execution_count": 21,
     "metadata": {},
     "output_type": "execute_result"
    }
   ],
   "source": [
    "# Filtered DF:\n",
    "indexs = []\n",
    "for i in range(len(df)):\n",
    "    if df['_id'][i] in possible_offices_c1_c2_c3_c4_c5_c6_c7_to_string:\n",
    "        indexs.append(i)\n",
    "indexs"
   ]
  },
  {
   "cell_type": "code",
   "execution_count": 22,
   "metadata": {},
   "outputs": [
    {
     "data": {
      "text/html": [
       "<div>\n",
       "<style scoped>\n",
       "    .dataframe tbody tr th:only-of-type {\n",
       "        vertical-align: middle;\n",
       "    }\n",
       "\n",
       "    .dataframe tbody tr th {\n",
       "        vertical-align: top;\n",
       "    }\n",
       "\n",
       "    .dataframe thead th {\n",
       "        text-align: right;\n",
       "    }\n",
       "</style>\n",
       "<table border=\"1\" class=\"dataframe\">\n",
       "  <thead>\n",
       "    <tr style=\"text-align: right;\">\n",
       "      <th></th>\n",
       "      <th>_id</th>\n",
       "      <th>name</th>\n",
       "      <th>founded_year</th>\n",
       "      <th>category_code</th>\n",
       "      <th>deadpooled_year</th>\n",
       "      <th>total_money_raised_USD</th>\n",
       "      <th>num_offices</th>\n",
       "      <th>office_1_longitude</th>\n",
       "      <th>office_1_latitude</th>\n",
       "      <th>office_1_location</th>\n",
       "      <th>office_1_city</th>\n",
       "      <th>office_1_state_code</th>\n",
       "      <th>office_1_country_code</th>\n",
       "    </tr>\n",
       "  </thead>\n",
       "  <tbody>\n",
       "    <tr>\n",
       "      <th>0</th>\n",
       "      <td>52cdef7c4bab8bd6752980be</td>\n",
       "      <td>Cyberhomes</td>\n",
       "      <td>NaN</td>\n",
       "      <td>web</td>\n",
       "      <td>NaN</td>\n",
       "      <td>0.0</td>\n",
       "      <td>1</td>\n",
       "      <td>-81.674745</td>\n",
       "      <td>30.318112</td>\n",
       "      <td>{'type': 'Point', 'coordinates': [-81.674745, ...</td>\n",
       "      <td>Jacksonville</td>\n",
       "      <td>FL</td>\n",
       "      <td>USA</td>\n",
       "    </tr>\n",
       "    <tr>\n",
       "      <th>1</th>\n",
       "      <td>52cdef7c4bab8bd6752986aa</td>\n",
       "      <td>AudioMicro</td>\n",
       "      <td>2008.0</td>\n",
       "      <td>games_video</td>\n",
       "      <td>NaN</td>\n",
       "      <td>1250000.0</td>\n",
       "      <td>1</td>\n",
       "      <td>-118.422495</td>\n",
       "      <td>34.153588</td>\n",
       "      <td>{'type': 'Point', 'coordinates': [-118.422495,...</td>\n",
       "      <td>Sherman Oaks</td>\n",
       "      <td>CA</td>\n",
       "      <td>USA</td>\n",
       "    </tr>\n",
       "    <tr>\n",
       "      <th>2</th>\n",
       "      <td>52cdef7d4bab8bd675299115</td>\n",
       "      <td>OTOY</td>\n",
       "      <td>2010.0</td>\n",
       "      <td>software</td>\n",
       "      <td>NaN</td>\n",
       "      <td>0.0</td>\n",
       "      <td>1</td>\n",
       "      <td>-118.424058</td>\n",
       "      <td>34.157610</td>\n",
       "      <td>{'type': 'Point', 'coordinates': [-118.424058,...</td>\n",
       "      <td>Sherman Oaks</td>\n",
       "      <td>CA</td>\n",
       "      <td>USA</td>\n",
       "    </tr>\n",
       "    <tr>\n",
       "      <th>3</th>\n",
       "      <td>52cdef7d4bab8bd67529a0d1</td>\n",
       "      <td>Dukky</td>\n",
       "      <td>2008.0</td>\n",
       "      <td>analytics</td>\n",
       "      <td>NaN</td>\n",
       "      <td>1000000.0</td>\n",
       "      <td>1</td>\n",
       "      <td>-90.082202</td>\n",
       "      <td>29.973994</td>\n",
       "      <td>{'type': 'Point', 'coordinates': [-90.082202, ...</td>\n",
       "      <td>Mandeville</td>\n",
       "      <td>LA</td>\n",
       "      <td>USA</td>\n",
       "    </tr>\n",
       "  </tbody>\n",
       "</table>\n",
       "</div>"
      ],
      "text/plain": [
       "                        _id        name  founded_year category_code  \\\n",
       "0  52cdef7c4bab8bd6752980be  Cyberhomes           NaN           web   \n",
       "1  52cdef7c4bab8bd6752986aa  AudioMicro        2008.0   games_video   \n",
       "2  52cdef7d4bab8bd675299115        OTOY        2010.0      software   \n",
       "3  52cdef7d4bab8bd67529a0d1       Dukky        2008.0     analytics   \n",
       "\n",
       "   deadpooled_year  total_money_raised_USD  num_offices  office_1_longitude  \\\n",
       "0              NaN                     0.0            1          -81.674745   \n",
       "1              NaN               1250000.0            1         -118.422495   \n",
       "2              NaN                     0.0            1         -118.424058   \n",
       "3              NaN               1000000.0            1          -90.082202   \n",
       "\n",
       "   office_1_latitude                                  office_1_location  \\\n",
       "0          30.318112  {'type': 'Point', 'coordinates': [-81.674745, ...   \n",
       "1          34.153588  {'type': 'Point', 'coordinates': [-118.422495,...   \n",
       "2          34.157610  {'type': 'Point', 'coordinates': [-118.424058,...   \n",
       "3          29.973994  {'type': 'Point', 'coordinates': [-90.082202, ...   \n",
       "\n",
       "  office_1_city office_1_state_code office_1_country_code  \n",
       "0  Jacksonville                  FL                   USA  \n",
       "1  Sherman Oaks                  CA                   USA  \n",
       "2  Sherman Oaks                  CA                   USA  \n",
       "3    Mandeville                  LA                   USA  "
      ]
     },
     "execution_count": 22,
     "metadata": {},
     "output_type": "execute_result"
    }
   ],
   "source": [
    "df_filtered = df.iloc[indexs]\n",
    "df_filtered.reset_index(drop=True, inplace=True)\n",
    "df_filtered"
   ]
  },
  {
   "cell_type": "code",
   "execution_count": 24,
   "metadata": {},
   "outputs": [],
   "source": [
    "# Select one random row:\n",
    "rowindex = random.choice(range(0,len(df_filtered)))\n",
    "e = [df_filtered.iloc[rowindex][8], df_filtered.iloc[rowindex][7]]"
   ]
  },
  {
   "cell_type": "code",
   "execution_count": 26,
   "metadata": {},
   "outputs": [
    {
     "data": {
      "text/plain": [
       "[30.318112, -81.674745]"
      ]
     },
     "execution_count": 26,
     "metadata": {},
     "output_type": "execute_result"
    }
   ],
   "source": [
    "e"
   ]
  },
  {
   "cell_type": "code",
   "execution_count": 27,
   "metadata": {},
   "outputs": [],
   "source": [
    "# Lat and long:\n",
    "lat_long_starbucks = getLatLongVenue(cleaned_starbucks_list, df_filtered, rowindex)\n",
    "distance_starbucks = getDistanceVenue(cleaned_starbucks_list, df_filtered, rowindex)\n",
    "\n",
    "lat_long_vegan = getLatLongVenue(cleaned_vegan_list, df_filtered, rowindex)\n",
    "distance_vegan = getDistanceVenue(cleaned_vegan_list, df_filtered, rowindex)\n",
    "name_vegan = getNameVenue(cleaned_vegan_list, df_filtered, rowindex)\n",
    "\n",
    "lat_long_party = getLatLongVenue(cleaned_party_list, df_filtered, rowindex)\n",
    "distance_party = getDistanceVenue(cleaned_party_list, df_filtered, rowindex)\n",
    "name_party = getNameVenue(cleaned_party_list, df_filtered, rowindex)"
   ]
  },
  {
   "cell_type": "code",
   "execution_count": 28,
   "metadata": {},
   "outputs": [
    {
     "data": {
      "text/plain": [
       "[30.321204519522944, -81.67575896620902]"
      ]
     },
     "execution_count": 28,
     "metadata": {},
     "output_type": "execute_result"
    }
   ],
   "source": [
    "lat_long_party"
   ]
  },
  {
   "cell_type": "code",
   "execution_count": 29,
   "metadata": {},
   "outputs": [
    {
     "data": {
      "text/plain": [
       "'52cdef7c4bab8bd6752980be'"
      ]
     },
     "execution_count": 29,
     "metadata": {},
     "output_type": "execute_result"
    }
   ],
   "source": [
    "df_filtered.iloc[rowindex][0]"
   ]
  },
  {
   "cell_type": "code",
   "execution_count": 30,
   "metadata": {},
   "outputs": [],
   "source": [
    "name_dist_lat_long_airport = []\n",
    "for i in range(len(office_airports)):\n",
    "    if str(office_airports[i][0]) == df_filtered.iloc[rowindex][0]:\n",
    "        for j in range(1, len(office_airports[i])):\n",
    "            name_dist_lat_long_airport.append(office_airports[i][j][0]) # name\n",
    "            name_dist_lat_long_airport.append(office_airports[i][j][1]) # dist           \n",
    "            name_dist_lat_long_airport.append(office_airports[i][j][2]) # lat\n",
    "            name_dist_lat_long_airport.append(office_airports[i][j][3]) # long  "
   ]
  },
  {
   "cell_type": "code",
   "execution_count": 33,
   "metadata": {},
   "outputs": [
    {
     "data": {
      "text/plain": [
       "2"
      ]
     },
     "execution_count": 33,
     "metadata": {},
     "output_type": "execute_result"
    }
   ],
   "source": [
    "int(len(name_dist_lat_long_airport)/4) # total aeropuertos cercanos"
   ]
  },
  {
   "cell_type": "code",
   "execution_count": 34,
   "metadata": {},
   "outputs": [],
   "source": [
    "lat_long_school = getLatLongVenue(cleaned_school_list, df_filtered, rowindex)\n",
    "distance_school = getDistanceVenue(cleaned_school_list, df_filtered, rowindex)\n",
    "name_school = getNameVenue(cleaned_school_list, df_filtered, rowindex)"
   ]
  },
  {
   "cell_type": "code",
   "execution_count": 35,
   "metadata": {},
   "outputs": [],
   "source": [
    "near_startups = []\n",
    "for i in range(len(startups_and_near_companies)):\n",
    "    for company in startups_and_near_companies[i][1]:\n",
    "        if company['name'] == df_filtered.iloc[rowindex][1]:\n",
    "            near_startups.append(startups_and_near_companies[i][0])"
   ]
  },
  {
   "cell_type": "code",
   "execution_count": 38,
   "metadata": {},
   "outputs": [
    {
     "name": "stdout",
     "output_type": "stream",
     "text": [
      "\n",
      "\n",
      "\n",
      "    ----------------------------------------------------------------------------------------------------\n",
      "                            WE HAVE FOUND THE PERFECT LOCATION FOR YOUR COMPANY!           \n",
      "    ----------------------------------------------------------------------------------------------------\n",
      "\n",
      "        The perfect location for your business is in Jacksonville, USA.\n",
      "\n",
      "        You don't have companies with more than 12 years in a radius of 2 km (blue circle).\n",
      "\n",
      "        The office is near successful tech startups that have raised at least 1000000 dollars.\n",
      "\n",
      "        Your employees will find a Starbucks just 943 m from the office.\n",
      "\n",
      "        The vegan restaurant 'Community Loaves' can be found just 216 m from the office.\n",
      "\n",
      "        Party mood? You will find the night club called 'Incahoots Night Club'\n",
      "        just 357 m from the office.\n",
      "\n",
      "        If you need to travel often, there is no problem. You have 2 airport/s within 20 km\n",
      "        from the office.\n",
      "\n",
      "        And if that were not enough, your children could go to school (Boredies)\n",
      "        just 735 m from the office.\n",
      "    \n"
     ]
    }
   ],
   "source": [
    "# Output:\n",
    "printoutput(df_filtered.iloc[rowindex][10], df_filtered.iloc[rowindex][12], inputyears,\n",
    "inputmoney, distance_starbucks, name_vegan, distance_vegan, name_party, distance_party,\n",
    "int(len(name_dist_lat_long_airport)/4), name_school, distance_school)"
   ]
  },
  {
   "cell_type": "code",
   "execution_count": 47,
   "metadata": {},
   "outputs": [
    {
     "data": {
      "text/plain": [
       "[0, 4]"
      ]
     },
     "execution_count": 47,
     "metadata": {},
     "output_type": "execute_result"
    }
   ],
   "source": [
    "range(0,len(name_dist_lat_long_airport),4)"
   ]
  },
  {
   "cell_type": "code",
   "execution_count": 49,
   "metadata": {},
   "outputs": [
    {
     "data": {
      "text/html": [
       "<div style=\"width:100%;\"><div style=\"position:relative;width:100%;height:0;padding-bottom:60%;\"><iframe src=\"data:text/html;charset=utf-8;base64,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\" style=\"position:absolute;width:100%;height:100%;left:0;top:0;border:none !important;\" allowfullscreen webkitallowfullscreen mozallowfullscreen></iframe></div></div>"
      ],
      "text/plain": [
       "<folium.folium.Map at 0x1ed34f6fa20>"
      ]
     },
     "execution_count": 49,
     "metadata": {},
     "output_type": "execute_result"
    }
   ],
   "source": [
    "\n",
    "# Folium map:\n",
    "tooltip = 'Click me!'\n",
    "map_city = folium.Map(location = e, zoom_start=11)\n",
    "folium.Circle(radius=2000,location=e,popup='Old companies free zone',color='#3186cc',\n",
    "        fill=True,fill_color='#3186cc').add_to(map_city)\n",
    "folium.Marker(lat_long_starbucks,radius=2,icon=folium.Icon(\n",
    "        icon='coffee', prefix='fa',color='orange'),popup='<b>[Starbucks]</b>',\n",
    "        tooltip=tooltip).add_to(map_city)\n",
    "folium.Marker(lat_long_vegan,radius=2,icon=folium.Icon(\n",
    "        icon='cutlery',color='green'),popup=f\"<b>[Vegan restaurant]</b> '{name_vegan}'\",\n",
    "        tooltip=tooltip).add_to(map_city)\n",
    "folium.Marker(lat_long_party,radius=2,icon=folium.Icon(\n",
    "        icon='glass',color='purple'),popup=f\"<b>[Night club]</b> '{name_party}'\",\n",
    "        tooltip=tooltip).add_to(map_city)\n",
    "\n",
    "for i in range(0,len(name_dist_lat_long_airport),4):\n",
    "    folium.Marker([name_dist_lat_long_airport[i+2],name_dist_lat_long_airport[i+3]],radius=2,icon=folium.Icon(\n",
    "        icon='plane', prefix='fa',color='blue'),\n",
    "        popup=f\"<b>[Airport]</b> '{name_dist_lat_long_airport[i+0]}'. Distance from the office: {int(name_dist_lat_long_airport[i+1])} km\",\n",
    "        tooltip=tooltip).add_to(map_city)\n",
    "\n",
    "\n",
    "folium.Marker(lat_long_school,radius=2,icon=folium.Icon(\n",
    "        icon='graduation-cap', prefix='fa',color='gray'),popup=f\"<b>[School]</b> '{name_school}'\",\n",
    "        tooltip=tooltip).add_to(map_city)\n",
    "folium.Marker(e,radius=2,icon=folium.Icon(\n",
    "        icon='briefcase', color='red'),popup='<b>Perfect location for your business</b>',\n",
    "        tooltip=tooltip).add_to(map_city)\n",
    "for startup in near_startups:\n",
    "        category = re.sub(\"_\",\" \",startup[3].capitalize())\n",
    "        folium.Marker([startup[6], startup[5]],radius=2,icon=folium.Icon(\n",
    "            icon='building-o', prefix='fa',color='black'),\n",
    "            popup=f\"<b>[Startup]</b> {startup[1]}. Founded year: {int(startup[2])}. Category: {category}. Total money raised (USD): {int(startup[4])}.\",\n",
    "            tooltip=tooltip).add_to(map_city) \n",
    "map_city"
   ]
  },
  {
   "cell_type": "code",
   "execution_count": null,
   "metadata": {},
   "outputs": [],
   "source": []
  },
  {
   "cell_type": "code",
   "execution_count": null,
   "metadata": {},
   "outputs": [],
   "source": []
  },
  {
   "cell_type": "code",
   "execution_count": null,
   "metadata": {},
   "outputs": [],
   "source": []
  },
  {
   "cell_type": "code",
   "execution_count": null,
   "metadata": {},
   "outputs": [],
   "source": []
  },
  {
   "cell_type": "code",
   "execution_count": null,
   "metadata": {},
   "outputs": [],
   "source": []
  },
  {
   "cell_type": "code",
   "execution_count": 102,
   "metadata": {},
   "outputs": [],
   "source": [
    "airports_df = pd.read_csv('./input/airports.csv', header=None,usecols=[1,2,3,4,6,7,12], \n",
    "                          names=['FacilityName', 'City', 'Country','3CharCode','Lat','Long','FacilityType'])"
   ]
  },
  {
   "cell_type": "code",
   "execution_count": 103,
   "metadata": {},
   "outputs": [],
   "source": [
    "airports_df = airports_df[airports_df['FacilityType']=='airport']"
   ]
  },
  {
   "cell_type": "code",
   "execution_count": 104,
   "metadata": {},
   "outputs": [],
   "source": [
    "airports_df.reset_index(drop=True, inplace=True)"
   ]
  },
  {
   "cell_type": "code",
   "execution_count": 105,
   "metadata": {},
   "outputs": [],
   "source": [
    "import geopy.distance\n",
    "distances = []\n",
    "for e in possible_offices_c1_c2_coords:\n",
    "    coords_1 = (e['coordinates'][1], e['coordinates'][0])\n",
    "    dist = []\n",
    "    for i in range(len(airports_df)):\n",
    "        coords_2 = (airports_df.at[i,'Lat'],airports_df.at[i,'Long'])\n",
    "        dist.append(geopy.distance.geodesic(coords_1, coords_2).km)\n",
    "    distances.append(dist)    "
   ]
  },
  {
   "cell_type": "code",
   "execution_count": 140,
   "metadata": {},
   "outputs": [],
   "source": [
    "office_airports = []\n",
    "for i in range(len(distances)):\n",
    "    aux = []\n",
    "    aux.append(possible_offices_c1_c2[i])\n",
    "    for j in range(len(distances[i])):\n",
    "        if distances[i][j] <= 20:\n",
    "            aux.append([airports_df.at[j,'FacilityName'],\n",
    "                        distances[i][j],\n",
    "                        airports_df.at[j,'Lat'],\n",
    "                        airports_df.at[j,'Long']])\n",
    "    office_airports.append(aux)"
   ]
  },
  {
   "cell_type": "code",
   "execution_count": 141,
   "metadata": {},
   "outputs": [],
   "source": [
    "possible_offices_c1_c2_c3 = []\n",
    "for e in office_airports:\n",
    "    if len(e) >= 2:\n",
    "        possible_offices_c1_c2_c3.append(e[0])"
   ]
  },
  {
   "cell_type": "code",
   "execution_count": 143,
   "metadata": {},
   "outputs": [],
   "source": [
    "possible_offices_c1_c2_c3_to_string = [str(e) for e in possible_offices_c1_c2_c3]"
   ]
  },
  {
   "cell_type": "code",
   "execution_count": 146,
   "metadata": {},
   "outputs": [],
   "source": [
    "possible_offices_c1_c2_c3_coords = getOfficesCoords(possible_offices_c1_c2_c3, companies)"
   ]
  },
  {
   "cell_type": "code",
   "execution_count": null,
   "metadata": {},
   "outputs": [],
   "source": [
    "name_dist_lat_long_airport = []\n",
    "for i in range(len(office_airports)):\n",
    "    for j in range(1, len(office_airports[i])):\n",
    "        if str(office_airports[i][0]) == df.iloc[rowindex][0]:\n",
    "            name_dist_lat_long_airport.append(office_airports[i][j][0]) # name\n",
    "            name_dist_lat_long_airport.append(office_airports[i][j][1]) # dist           \n",
    "            name_dist_lat_long_airport.append(office_airports[i][j][2]) # lat\n",
    "            name_dist_lat_long_airport.append(office_airports[i][j][3]) # long           "
   ]
  }
 ],
 "metadata": {
  "kernelspec": {
   "display_name": "Python 3",
   "language": "python",
   "name": "python3"
  },
  "language_info": {
   "codemirror_mode": {
    "name": "ipython",
    "version": 3
   },
   "file_extension": ".py",
   "mimetype": "text/x-python",
   "name": "python",
   "nbconvert_exporter": "python",
   "pygments_lexer": "ipython3",
   "version": "3.7.3"
  }
 },
 "nbformat": 4,
 "nbformat_minor": 2
}
